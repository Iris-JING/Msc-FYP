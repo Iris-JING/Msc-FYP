{
 "cells": [
  {
   "cell_type": "markdown",
   "metadata": {},
   "source": [
    "# Extract date from original data"
   ]
  },
  {
   "cell_type": "code",
   "execution_count": 1,
   "metadata": {},
   "outputs": [],
   "source": [
    "import pandas as pd\n",
    "contents_ = pd.read_pickle('contents_.pkl')"
   ]
  },
  {
   "cell_type": "code",
   "execution_count": 1,
   "metadata": {
    "ExecuteTime": {
     "end_time": "2018-09-05T22:24:45.398158Z",
     "start_time": "2018-09-05T22:24:45.386440Z"
    },
    "scrolled": true
   },
   "outputs": [],
   "source": [
    "# contents_.head()"
   ]
  },
  {
   "cell_type": "code",
   "execution_count": 3,
   "metadata": {},
   "outputs": [],
   "source": [
    "original = contents_['date'].to_frame()"
   ]
  },
  {
   "cell_type": "markdown",
   "metadata": {},
   "source": [
    "# POS tag"
   ]
  },
  {
   "cell_type": "code",
   "execution_count": 5,
   "metadata": {},
   "outputs": [],
   "source": [
    "pos = pd.read_pickle('pos_vec_300.pkl')"
   ]
  },
  {
   "cell_type": "code",
   "execution_count": 6,
   "metadata": {},
   "outputs": [],
   "source": [
    "pos = pd.merge(original,pos,left_index=True, right_index=True).set_index('date')"
   ]
  },
  {
   "cell_type": "code",
   "execution_count": 7,
   "metadata": {},
   "outputs": [
    {
     "data": {
      "text/plain": [
       "(5363, 300)"
      ]
     },
     "execution_count": 7,
     "metadata": {},
     "output_type": "execute_result"
    }
   ],
   "source": [
    "pos.shape"
   ]
  },
  {
   "cell_type": "code",
   "execution_count": 8,
   "metadata": {},
   "outputs": [],
   "source": [
    "pos.to_pickle('./Features/feature_pos_vec_300.pkl')"
   ]
  },
  {
   "cell_type": "markdown",
   "metadata": {},
   "source": [
    "# two_gram_vec"
   ]
  },
  {
   "cell_type": "code",
   "execution_count": 9,
   "metadata": {},
   "outputs": [],
   "source": [
    "two_gram = pd.read_pickle(\"two_gram_vec_300.pkl\")"
   ]
  },
  {
   "cell_type": "code",
   "execution_count": 10,
   "metadata": {
    "scrolled": true
   },
   "outputs": [],
   "source": [
    "two_gram = pd.merge(original,two_gram,left_index=True, right_index=True).set_index('date')"
   ]
  },
  {
   "cell_type": "code",
   "execution_count": 44,
   "metadata": {},
   "outputs": [
    {
     "data": {
      "text/html": [
       "<div>\n",
       "<style>\n",
       "    .dataframe thead tr:only-child th {\n",
       "        text-align: right;\n",
       "    }\n",
       "\n",
       "    .dataframe thead th {\n",
       "        text-align: left;\n",
       "    }\n",
       "\n",
       "    .dataframe tbody tr th {\n",
       "        vertical-align: top;\n",
       "    }\n",
       "</style>\n",
       "<table border=\"1\" class=\"dataframe\">\n",
       "  <thead>\n",
       "    <tr style=\"text-align: right;\">\n",
       "      <th></th>\n",
       "      <th>gram_f1</th>\n",
       "      <th>gram_f2</th>\n",
       "      <th>gram_f3</th>\n",
       "      <th>gram_f4</th>\n",
       "      <th>gram_f5</th>\n",
       "      <th>gram_f6</th>\n",
       "      <th>gram_f7</th>\n",
       "      <th>gram_f8</th>\n",
       "      <th>gram_f9</th>\n",
       "      <th>gram_f10</th>\n",
       "      <th>...</th>\n",
       "      <th>gram_f91</th>\n",
       "      <th>gram_f92</th>\n",
       "      <th>gram_f93</th>\n",
       "      <th>gram_f94</th>\n",
       "      <th>gram_f95</th>\n",
       "      <th>gram_f96</th>\n",
       "      <th>gram_f97</th>\n",
       "      <th>gram_f98</th>\n",
       "      <th>gram_f99</th>\n",
       "      <th>gram_f100</th>\n",
       "    </tr>\n",
       "    <tr>\n",
       "      <th>date</th>\n",
       "      <th></th>\n",
       "      <th></th>\n",
       "      <th></th>\n",
       "      <th></th>\n",
       "      <th></th>\n",
       "      <th></th>\n",
       "      <th></th>\n",
       "      <th></th>\n",
       "      <th></th>\n",
       "      <th></th>\n",
       "      <th></th>\n",
       "      <th></th>\n",
       "      <th></th>\n",
       "      <th></th>\n",
       "      <th></th>\n",
       "      <th></th>\n",
       "      <th></th>\n",
       "      <th></th>\n",
       "      <th></th>\n",
       "      <th></th>\n",
       "      <th></th>\n",
       "    </tr>\n",
       "  </thead>\n",
       "  <tbody>\n",
       "    <tr>\n",
       "      <th>2018-06-14 13:29:00</th>\n",
       "      <td>0.0</td>\n",
       "      <td>0.0</td>\n",
       "      <td>0.0</td>\n",
       "      <td>0.0</td>\n",
       "      <td>0.0</td>\n",
       "      <td>0.0</td>\n",
       "      <td>0.0</td>\n",
       "      <td>0.0</td>\n",
       "      <td>0.0</td>\n",
       "      <td>0.0</td>\n",
       "      <td>...</td>\n",
       "      <td>0.0</td>\n",
       "      <td>0.0</td>\n",
       "      <td>0.0</td>\n",
       "      <td>0.0</td>\n",
       "      <td>0.0</td>\n",
       "      <td>0.0</td>\n",
       "      <td>0.0</td>\n",
       "      <td>0.0</td>\n",
       "      <td>0.0</td>\n",
       "      <td>0.0</td>\n",
       "    </tr>\n",
       "    <tr>\n",
       "      <th>2018-06-14 23:17:00</th>\n",
       "      <td>0.0</td>\n",
       "      <td>0.0</td>\n",
       "      <td>0.0</td>\n",
       "      <td>0.0</td>\n",
       "      <td>0.0</td>\n",
       "      <td>0.0</td>\n",
       "      <td>0.0</td>\n",
       "      <td>0.0</td>\n",
       "      <td>0.0</td>\n",
       "      <td>0.0</td>\n",
       "      <td>...</td>\n",
       "      <td>0.0</td>\n",
       "      <td>0.0</td>\n",
       "      <td>0.0</td>\n",
       "      <td>0.0</td>\n",
       "      <td>0.0</td>\n",
       "      <td>0.0</td>\n",
       "      <td>0.0</td>\n",
       "      <td>0.0</td>\n",
       "      <td>0.0</td>\n",
       "      <td>0.0</td>\n",
       "    </tr>\n",
       "    <tr>\n",
       "      <th>2018-06-14 23:32:00</th>\n",
       "      <td>0.0</td>\n",
       "      <td>0.0</td>\n",
       "      <td>0.0</td>\n",
       "      <td>0.0</td>\n",
       "      <td>0.0</td>\n",
       "      <td>0.0</td>\n",
       "      <td>0.0</td>\n",
       "      <td>0.0</td>\n",
       "      <td>0.0</td>\n",
       "      <td>0.0</td>\n",
       "      <td>...</td>\n",
       "      <td>0.0</td>\n",
       "      <td>0.0</td>\n",
       "      <td>0.0</td>\n",
       "      <td>0.0</td>\n",
       "      <td>0.0</td>\n",
       "      <td>0.0</td>\n",
       "      <td>0.0</td>\n",
       "      <td>0.0</td>\n",
       "      <td>0.0</td>\n",
       "      <td>0.0</td>\n",
       "    </tr>\n",
       "    <tr>\n",
       "      <th>2018-06-15 06:55:00</th>\n",
       "      <td>0.0</td>\n",
       "      <td>0.0</td>\n",
       "      <td>0.0</td>\n",
       "      <td>0.0</td>\n",
       "      <td>0.0</td>\n",
       "      <td>0.0</td>\n",
       "      <td>0.0</td>\n",
       "      <td>0.0</td>\n",
       "      <td>0.0</td>\n",
       "      <td>0.0</td>\n",
       "      <td>...</td>\n",
       "      <td>0.0</td>\n",
       "      <td>0.0</td>\n",
       "      <td>0.0</td>\n",
       "      <td>0.0</td>\n",
       "      <td>0.0</td>\n",
       "      <td>0.0</td>\n",
       "      <td>0.0</td>\n",
       "      <td>0.0</td>\n",
       "      <td>0.0</td>\n",
       "      <td>0.0</td>\n",
       "    </tr>\n",
       "    <tr>\n",
       "      <th>2018-06-15 10:26:00</th>\n",
       "      <td>0.0</td>\n",
       "      <td>0.0</td>\n",
       "      <td>0.0</td>\n",
       "      <td>0.0</td>\n",
       "      <td>0.0</td>\n",
       "      <td>0.0</td>\n",
       "      <td>0.0</td>\n",
       "      <td>0.0</td>\n",
       "      <td>0.0</td>\n",
       "      <td>0.0</td>\n",
       "      <td>...</td>\n",
       "      <td>0.0</td>\n",
       "      <td>0.0</td>\n",
       "      <td>0.0</td>\n",
       "      <td>0.0</td>\n",
       "      <td>0.0</td>\n",
       "      <td>0.0</td>\n",
       "      <td>0.0</td>\n",
       "      <td>0.0</td>\n",
       "      <td>0.0</td>\n",
       "      <td>0.0</td>\n",
       "    </tr>\n",
       "  </tbody>\n",
       "</table>\n",
       "<p>5 rows × 100 columns</p>\n",
       "</div>"
      ],
      "text/plain": [
       "                     gram_f1  gram_f2  gram_f3  gram_f4  gram_f5  gram_f6  \\\n",
       "date                                                                        \n",
       "2018-06-14 13:29:00      0.0      0.0      0.0      0.0      0.0      0.0   \n",
       "2018-06-14 23:17:00      0.0      0.0      0.0      0.0      0.0      0.0   \n",
       "2018-06-14 23:32:00      0.0      0.0      0.0      0.0      0.0      0.0   \n",
       "2018-06-15 06:55:00      0.0      0.0      0.0      0.0      0.0      0.0   \n",
       "2018-06-15 10:26:00      0.0      0.0      0.0      0.0      0.0      0.0   \n",
       "\n",
       "                     gram_f7  gram_f8  gram_f9  gram_f10    ...      gram_f91  \\\n",
       "date                                                        ...                 \n",
       "2018-06-14 13:29:00      0.0      0.0      0.0       0.0    ...           0.0   \n",
       "2018-06-14 23:17:00      0.0      0.0      0.0       0.0    ...           0.0   \n",
       "2018-06-14 23:32:00      0.0      0.0      0.0       0.0    ...           0.0   \n",
       "2018-06-15 06:55:00      0.0      0.0      0.0       0.0    ...           0.0   \n",
       "2018-06-15 10:26:00      0.0      0.0      0.0       0.0    ...           0.0   \n",
       "\n",
       "                     gram_f92  gram_f93  gram_f94  gram_f95  gram_f96  \\\n",
       "date                                                                    \n",
       "2018-06-14 13:29:00       0.0       0.0       0.0       0.0       0.0   \n",
       "2018-06-14 23:17:00       0.0       0.0       0.0       0.0       0.0   \n",
       "2018-06-14 23:32:00       0.0       0.0       0.0       0.0       0.0   \n",
       "2018-06-15 06:55:00       0.0       0.0       0.0       0.0       0.0   \n",
       "2018-06-15 10:26:00       0.0       0.0       0.0       0.0       0.0   \n",
       "\n",
       "                     gram_f97  gram_f98  gram_f99  gram_f100  \n",
       "date                                                          \n",
       "2018-06-14 13:29:00       0.0       0.0       0.0        0.0  \n",
       "2018-06-14 23:17:00       0.0       0.0       0.0        0.0  \n",
       "2018-06-14 23:32:00       0.0       0.0       0.0        0.0  \n",
       "2018-06-15 06:55:00       0.0       0.0       0.0        0.0  \n",
       "2018-06-15 10:26:00       0.0       0.0       0.0        0.0  \n",
       "\n",
       "[5 rows x 100 columns]"
      ]
     },
     "execution_count": 44,
     "metadata": {},
     "output_type": "execute_result"
    }
   ],
   "source": [
    "two_gram.tail()"
   ]
  },
  {
   "cell_type": "code",
   "execution_count": 11,
   "metadata": {},
   "outputs": [
    {
     "data": {
      "text/plain": [
       "(5363, 300)"
      ]
     },
     "execution_count": 11,
     "metadata": {},
     "output_type": "execute_result"
    }
   ],
   "source": [
    "two_gram.shape"
   ]
  },
  {
   "cell_type": "code",
   "execution_count": 12,
   "metadata": {},
   "outputs": [],
   "source": [
    "two_gram.to_pickle('./Features/feature_two_gram_vec_300.pkl')"
   ]
  },
  {
   "cell_type": "markdown",
   "metadata": {},
   "source": [
    "# tfidf_vec"
   ]
  },
  {
   "cell_type": "code",
   "execution_count": 13,
   "metadata": {},
   "outputs": [],
   "source": [
    "tfidf = pd.read_pickle(\"tfidf_vec_300.pkl\")"
   ]
  },
  {
   "cell_type": "code",
   "execution_count": 14,
   "metadata": {},
   "outputs": [],
   "source": [
    "tfidf = pd.merge(original,tfidf,left_index=True, right_index=True).set_index('date')"
   ]
  },
  {
   "cell_type": "code",
   "execution_count": 2,
   "metadata": {
    "ExecuteTime": {
     "end_time": "2018-09-05T22:24:53.632927Z",
     "start_time": "2018-09-05T22:24:53.624143Z"
    },
    "scrolled": true
   },
   "outputs": [],
   "source": [
    "# tfidf"
   ]
  },
  {
   "cell_type": "code",
   "execution_count": 15,
   "metadata": {},
   "outputs": [],
   "source": [
    "tfidf.to_pickle('./Features/feature_tfidf_300.pkl')"
   ]
  },
  {
   "cell_type": "markdown",
   "metadata": {},
   "source": [
    "# polarity and subjectivity\t"
   ]
  },
  {
   "cell_type": "code",
   "execution_count": 58,
   "metadata": {},
   "outputs": [],
   "source": [
    "p_s = contents_[['polarity','subjectivity','date']].set_index('date')"
   ]
  },
  {
   "cell_type": "code",
   "execution_count": 3,
   "metadata": {
    "ExecuteTime": {
     "end_time": "2018-09-05T22:24:57.178855Z",
     "start_time": "2018-09-05T22:24:57.169092Z"
    },
    "scrolled": true
   },
   "outputs": [],
   "source": [
    "# p_s"
   ]
  },
  {
   "cell_type": "code",
   "execution_count": 60,
   "metadata": {},
   "outputs": [],
   "source": [
    "p_s.to_pickle('./Features/feature_polarity_subjectivity.pkl')"
   ]
  },
  {
   "cell_type": "markdown",
   "metadata": {},
   "source": [
    "# pretrained_Doc2Vec"
   ]
  },
  {
   "cell_type": "code",
   "execution_count": 61,
   "metadata": {},
   "outputs": [],
   "source": [
    "Doc2Vec = pd.read_pickle(\"Doc2Vec_pretrained.pkl\")"
   ]
  },
  {
   "cell_type": "code",
   "execution_count": 62,
   "metadata": {},
   "outputs": [],
   "source": [
    "Doc2Vec = pd.merge(original,Doc2Vec,left_index=True, right_index=True).set_index('date')"
   ]
  },
  {
   "cell_type": "code",
   "execution_count": 4,
   "metadata": {
    "ExecuteTime": {
     "end_time": "2018-09-05T22:25:05.691794Z",
     "start_time": "2018-09-05T22:25:05.682041Z"
    },
    "scrolled": true
   },
   "outputs": [],
   "source": [
    "# Doc2Vec"
   ]
  },
  {
   "cell_type": "code",
   "execution_count": 64,
   "metadata": {},
   "outputs": [],
   "source": [
    "Doc2Vec.to_pickle('./Features/feature_Doc2Vec.pkl')"
   ]
  },
  {
   "cell_type": "markdown",
   "metadata": {},
   "source": [
    "# title vector"
   ]
  },
  {
   "cell_type": "code",
   "execution_count": 65,
   "metadata": {},
   "outputs": [],
   "source": [
    "titleVec = pd.read_pickle('title_tfidf_vec.pkl')"
   ]
  },
  {
   "cell_type": "code",
   "execution_count": 66,
   "metadata": {},
   "outputs": [],
   "source": [
    "titleVec = pd.merge(original,titleVec,left_index=True, right_index=True).set_index('date')"
   ]
  },
  {
   "cell_type": "code",
   "execution_count": 67,
   "metadata": {
    "scrolled": true
   },
   "outputs": [
    {
     "data": {
      "text/html": [
       "<div>\n",
       "<style>\n",
       "    .dataframe thead tr:only-child th {\n",
       "        text-align: right;\n",
       "    }\n",
       "\n",
       "    .dataframe thead th {\n",
       "        text-align: left;\n",
       "    }\n",
       "\n",
       "    .dataframe tbody tr th {\n",
       "        vertical-align: top;\n",
       "    }\n",
       "</style>\n",
       "<table border=\"1\" class=\"dataframe\">\n",
       "  <thead>\n",
       "    <tr style=\"text-align: right;\">\n",
       "      <th></th>\n",
       "      <th>title_tfidf_f1</th>\n",
       "      <th>title_tfidf_f2</th>\n",
       "      <th>title_tfidf_f3</th>\n",
       "      <th>title_tfidf_f4</th>\n",
       "      <th>title_tfidf_f5</th>\n",
       "      <th>title_tfidf_f6</th>\n",
       "      <th>title_tfidf_f7</th>\n",
       "      <th>title_tfidf_f8</th>\n",
       "      <th>title_tfidf_f9</th>\n",
       "      <th>title_tfidf_f10</th>\n",
       "    </tr>\n",
       "    <tr>\n",
       "      <th>date</th>\n",
       "      <th></th>\n",
       "      <th></th>\n",
       "      <th></th>\n",
       "      <th></th>\n",
       "      <th></th>\n",
       "      <th></th>\n",
       "      <th></th>\n",
       "      <th></th>\n",
       "      <th></th>\n",
       "      <th></th>\n",
       "    </tr>\n",
       "  </thead>\n",
       "  <tbody>\n",
       "    <tr>\n",
       "      <th>2012-12-24 08:02:00</th>\n",
       "      <td>0.0</td>\n",
       "      <td>0.0</td>\n",
       "      <td>0.0</td>\n",
       "      <td>0.0</td>\n",
       "      <td>0.820298</td>\n",
       "      <td>0.0</td>\n",
       "      <td>0.571937</td>\n",
       "      <td>0.0</td>\n",
       "      <td>0.0</td>\n",
       "      <td>0.0</td>\n",
       "    </tr>\n",
       "    <tr>\n",
       "      <th>2013-01-01 06:35:00</th>\n",
       "      <td>0.0</td>\n",
       "      <td>1.0</td>\n",
       "      <td>0.0</td>\n",
       "      <td>0.0</td>\n",
       "      <td>0.000000</td>\n",
       "      <td>0.0</td>\n",
       "      <td>0.000000</td>\n",
       "      <td>0.0</td>\n",
       "      <td>0.0</td>\n",
       "      <td>0.0</td>\n",
       "    </tr>\n",
       "    <tr>\n",
       "      <th>2013-01-04 18:42:00</th>\n",
       "      <td>0.0</td>\n",
       "      <td>1.0</td>\n",
       "      <td>0.0</td>\n",
       "      <td>0.0</td>\n",
       "      <td>0.000000</td>\n",
       "      <td>0.0</td>\n",
       "      <td>0.000000</td>\n",
       "      <td>0.0</td>\n",
       "      <td>0.0</td>\n",
       "      <td>0.0</td>\n",
       "    </tr>\n",
       "    <tr>\n",
       "      <th>2013-01-07 07:39:00</th>\n",
       "      <td>1.0</td>\n",
       "      <td>0.0</td>\n",
       "      <td>0.0</td>\n",
       "      <td>0.0</td>\n",
       "      <td>0.000000</td>\n",
       "      <td>0.0</td>\n",
       "      <td>0.000000</td>\n",
       "      <td>0.0</td>\n",
       "      <td>0.0</td>\n",
       "      <td>0.0</td>\n",
       "    </tr>\n",
       "    <tr>\n",
       "      <th>2013-01-07 08:21:00</th>\n",
       "      <td>0.0</td>\n",
       "      <td>0.0</td>\n",
       "      <td>1.0</td>\n",
       "      <td>0.0</td>\n",
       "      <td>0.000000</td>\n",
       "      <td>0.0</td>\n",
       "      <td>0.000000</td>\n",
       "      <td>0.0</td>\n",
       "      <td>0.0</td>\n",
       "      <td>0.0</td>\n",
       "    </tr>\n",
       "  </tbody>\n",
       "</table>\n",
       "</div>"
      ],
      "text/plain": [
       "                     title_tfidf_f1  title_tfidf_f2  title_tfidf_f3  \\\n",
       "date                                                                  \n",
       "2012-12-24 08:02:00             0.0             0.0             0.0   \n",
       "2013-01-01 06:35:00             0.0             1.0             0.0   \n",
       "2013-01-04 18:42:00             0.0             1.0             0.0   \n",
       "2013-01-07 07:39:00             1.0             0.0             0.0   \n",
       "2013-01-07 08:21:00             0.0             0.0             1.0   \n",
       "\n",
       "                     title_tfidf_f4  title_tfidf_f5  title_tfidf_f6  \\\n",
       "date                                                                  \n",
       "2012-12-24 08:02:00             0.0        0.820298             0.0   \n",
       "2013-01-01 06:35:00             0.0        0.000000             0.0   \n",
       "2013-01-04 18:42:00             0.0        0.000000             0.0   \n",
       "2013-01-07 07:39:00             0.0        0.000000             0.0   \n",
       "2013-01-07 08:21:00             0.0        0.000000             0.0   \n",
       "\n",
       "                     title_tfidf_f7  title_tfidf_f8  title_tfidf_f9  \\\n",
       "date                                                                  \n",
       "2012-12-24 08:02:00        0.571937             0.0             0.0   \n",
       "2013-01-01 06:35:00        0.000000             0.0             0.0   \n",
       "2013-01-04 18:42:00        0.000000             0.0             0.0   \n",
       "2013-01-07 07:39:00        0.000000             0.0             0.0   \n",
       "2013-01-07 08:21:00        0.000000             0.0             0.0   \n",
       "\n",
       "                     title_tfidf_f10  \n",
       "date                                  \n",
       "2012-12-24 08:02:00              0.0  \n",
       "2013-01-01 06:35:00              0.0  \n",
       "2013-01-04 18:42:00              0.0  \n",
       "2013-01-07 07:39:00              0.0  \n",
       "2013-01-07 08:21:00              0.0  "
      ]
     },
     "execution_count": 67,
     "metadata": {},
     "output_type": "execute_result"
    }
   ],
   "source": [
    "titleVec.head()"
   ]
  },
  {
   "cell_type": "code",
   "execution_count": 68,
   "metadata": {},
   "outputs": [],
   "source": [
    "titleVec.to_pickle('./Features/feature_titleVec.pkl')"
   ]
  },
  {
   "cell_type": "markdown",
   "metadata": {},
   "source": [
    "# Source vector"
   ]
  },
  {
   "cell_type": "code",
   "execution_count": 69,
   "metadata": {},
   "outputs": [],
   "source": [
    "sourceVec = pd.read_pickle('source_bow_vec.pkl')"
   ]
  },
  {
   "cell_type": "code",
   "execution_count": 70,
   "metadata": {},
   "outputs": [],
   "source": [
    "sourceVec = pd.merge(original,sourceVec,left_index=True, right_index=True).set_index('date')"
   ]
  },
  {
   "cell_type": "code",
   "execution_count": 72,
   "metadata": {},
   "outputs": [
    {
     "data": {
      "text/html": [
       "<div>\n",
       "<style>\n",
       "    .dataframe thead tr:only-child th {\n",
       "        text-align: right;\n",
       "    }\n",
       "\n",
       "    .dataframe thead th {\n",
       "        text-align: left;\n",
       "    }\n",
       "\n",
       "    .dataframe tbody tr th {\n",
       "        vertical-align: top;\n",
       "    }\n",
       "</style>\n",
       "<table border=\"1\" class=\"dataframe\">\n",
       "  <thead>\n",
       "    <tr style=\"text-align: right;\">\n",
       "      <th></th>\n",
       "      <th>source_bow_f1</th>\n",
       "      <th>source_bow_f2</th>\n",
       "      <th>source_bow_f3</th>\n",
       "      <th>source_bow_f4</th>\n",
       "      <th>source_bow_f5</th>\n",
       "      <th>source_bow_f6</th>\n",
       "      <th>source_bow_f7</th>\n",
       "      <th>source_bow_f8</th>\n",
       "      <th>source_bow_f9</th>\n",
       "      <th>source_bow_f10</th>\n",
       "      <th>...</th>\n",
       "      <th>source_bow_f105</th>\n",
       "      <th>source_bow_f106</th>\n",
       "      <th>source_bow_f107</th>\n",
       "      <th>source_bow_f108</th>\n",
       "      <th>source_bow_f109</th>\n",
       "      <th>source_bow_f110</th>\n",
       "      <th>source_bow_f111</th>\n",
       "      <th>source_bow_f112</th>\n",
       "      <th>source_bow_f113</th>\n",
       "      <th>source_bow_f114</th>\n",
       "    </tr>\n",
       "    <tr>\n",
       "      <th>date</th>\n",
       "      <th></th>\n",
       "      <th></th>\n",
       "      <th></th>\n",
       "      <th></th>\n",
       "      <th></th>\n",
       "      <th></th>\n",
       "      <th></th>\n",
       "      <th></th>\n",
       "      <th></th>\n",
       "      <th></th>\n",
       "      <th></th>\n",
       "      <th></th>\n",
       "      <th></th>\n",
       "      <th></th>\n",
       "      <th></th>\n",
       "      <th></th>\n",
       "      <th></th>\n",
       "      <th></th>\n",
       "      <th></th>\n",
       "      <th></th>\n",
       "      <th></th>\n",
       "    </tr>\n",
       "  </thead>\n",
       "  <tbody>\n",
       "    <tr>\n",
       "      <th>2012-12-24 08:02:00</th>\n",
       "      <td>0</td>\n",
       "      <td>0</td>\n",
       "      <td>0</td>\n",
       "      <td>0</td>\n",
       "      <td>0</td>\n",
       "      <td>0</td>\n",
       "      <td>0</td>\n",
       "      <td>0</td>\n",
       "      <td>0</td>\n",
       "      <td>0</td>\n",
       "      <td>...</td>\n",
       "      <td>0</td>\n",
       "      <td>0</td>\n",
       "      <td>0</td>\n",
       "      <td>0</td>\n",
       "      <td>0</td>\n",
       "      <td>0</td>\n",
       "      <td>0</td>\n",
       "      <td>0</td>\n",
       "      <td>0</td>\n",
       "      <td>0</td>\n",
       "    </tr>\n",
       "    <tr>\n",
       "      <th>2013-01-01 06:35:00</th>\n",
       "      <td>0</td>\n",
       "      <td>0</td>\n",
       "      <td>0</td>\n",
       "      <td>0</td>\n",
       "      <td>0</td>\n",
       "      <td>0</td>\n",
       "      <td>0</td>\n",
       "      <td>0</td>\n",
       "      <td>0</td>\n",
       "      <td>0</td>\n",
       "      <td>...</td>\n",
       "      <td>0</td>\n",
       "      <td>0</td>\n",
       "      <td>0</td>\n",
       "      <td>0</td>\n",
       "      <td>0</td>\n",
       "      <td>0</td>\n",
       "      <td>0</td>\n",
       "      <td>0</td>\n",
       "      <td>0</td>\n",
       "      <td>0</td>\n",
       "    </tr>\n",
       "    <tr>\n",
       "      <th>2013-01-04 18:42:00</th>\n",
       "      <td>0</td>\n",
       "      <td>0</td>\n",
       "      <td>0</td>\n",
       "      <td>0</td>\n",
       "      <td>0</td>\n",
       "      <td>0</td>\n",
       "      <td>0</td>\n",
       "      <td>0</td>\n",
       "      <td>0</td>\n",
       "      <td>0</td>\n",
       "      <td>...</td>\n",
       "      <td>0</td>\n",
       "      <td>0</td>\n",
       "      <td>0</td>\n",
       "      <td>0</td>\n",
       "      <td>0</td>\n",
       "      <td>0</td>\n",
       "      <td>0</td>\n",
       "      <td>0</td>\n",
       "      <td>0</td>\n",
       "      <td>0</td>\n",
       "    </tr>\n",
       "    <tr>\n",
       "      <th>2013-01-07 07:39:00</th>\n",
       "      <td>0</td>\n",
       "      <td>0</td>\n",
       "      <td>0</td>\n",
       "      <td>0</td>\n",
       "      <td>0</td>\n",
       "      <td>0</td>\n",
       "      <td>0</td>\n",
       "      <td>0</td>\n",
       "      <td>0</td>\n",
       "      <td>0</td>\n",
       "      <td>...</td>\n",
       "      <td>0</td>\n",
       "      <td>0</td>\n",
       "      <td>0</td>\n",
       "      <td>0</td>\n",
       "      <td>0</td>\n",
       "      <td>0</td>\n",
       "      <td>0</td>\n",
       "      <td>0</td>\n",
       "      <td>0</td>\n",
       "      <td>0</td>\n",
       "    </tr>\n",
       "    <tr>\n",
       "      <th>2013-01-07 08:21:00</th>\n",
       "      <td>0</td>\n",
       "      <td>0</td>\n",
       "      <td>0</td>\n",
       "      <td>0</td>\n",
       "      <td>0</td>\n",
       "      <td>0</td>\n",
       "      <td>0</td>\n",
       "      <td>0</td>\n",
       "      <td>0</td>\n",
       "      <td>0</td>\n",
       "      <td>...</td>\n",
       "      <td>0</td>\n",
       "      <td>0</td>\n",
       "      <td>0</td>\n",
       "      <td>0</td>\n",
       "      <td>0</td>\n",
       "      <td>0</td>\n",
       "      <td>0</td>\n",
       "      <td>0</td>\n",
       "      <td>0</td>\n",
       "      <td>0</td>\n",
       "    </tr>\n",
       "  </tbody>\n",
       "</table>\n",
       "<p>5 rows × 114 columns</p>\n",
       "</div>"
      ],
      "text/plain": [
       "                     source_bow_f1  source_bow_f2  source_bow_f3  \\\n",
       "date                                                               \n",
       "2012-12-24 08:02:00              0              0              0   \n",
       "2013-01-01 06:35:00              0              0              0   \n",
       "2013-01-04 18:42:00              0              0              0   \n",
       "2013-01-07 07:39:00              0              0              0   \n",
       "2013-01-07 08:21:00              0              0              0   \n",
       "\n",
       "                     source_bow_f4  source_bow_f5  source_bow_f6  \\\n",
       "date                                                               \n",
       "2012-12-24 08:02:00              0              0              0   \n",
       "2013-01-01 06:35:00              0              0              0   \n",
       "2013-01-04 18:42:00              0              0              0   \n",
       "2013-01-07 07:39:00              0              0              0   \n",
       "2013-01-07 08:21:00              0              0              0   \n",
       "\n",
       "                     source_bow_f7  source_bow_f8  source_bow_f9  \\\n",
       "date                                                               \n",
       "2012-12-24 08:02:00              0              0              0   \n",
       "2013-01-01 06:35:00              0              0              0   \n",
       "2013-01-04 18:42:00              0              0              0   \n",
       "2013-01-07 07:39:00              0              0              0   \n",
       "2013-01-07 08:21:00              0              0              0   \n",
       "\n",
       "                     source_bow_f10       ...         source_bow_f105  \\\n",
       "date                                      ...                           \n",
       "2012-12-24 08:02:00               0       ...                       0   \n",
       "2013-01-01 06:35:00               0       ...                       0   \n",
       "2013-01-04 18:42:00               0       ...                       0   \n",
       "2013-01-07 07:39:00               0       ...                       0   \n",
       "2013-01-07 08:21:00               0       ...                       0   \n",
       "\n",
       "                     source_bow_f106  source_bow_f107  source_bow_f108  \\\n",
       "date                                                                     \n",
       "2012-12-24 08:02:00                0                0                0   \n",
       "2013-01-01 06:35:00                0                0                0   \n",
       "2013-01-04 18:42:00                0                0                0   \n",
       "2013-01-07 07:39:00                0                0                0   \n",
       "2013-01-07 08:21:00                0                0                0   \n",
       "\n",
       "                     source_bow_f109  source_bow_f110  source_bow_f111  \\\n",
       "date                                                                     \n",
       "2012-12-24 08:02:00                0                0                0   \n",
       "2013-01-01 06:35:00                0                0                0   \n",
       "2013-01-04 18:42:00                0                0                0   \n",
       "2013-01-07 07:39:00                0                0                0   \n",
       "2013-01-07 08:21:00                0                0                0   \n",
       "\n",
       "                     source_bow_f112  source_bow_f113  source_bow_f114  \n",
       "date                                                                    \n",
       "2012-12-24 08:02:00                0                0                0  \n",
       "2013-01-01 06:35:00                0                0                0  \n",
       "2013-01-04 18:42:00                0                0                0  \n",
       "2013-01-07 07:39:00                0                0                0  \n",
       "2013-01-07 08:21:00                0                0                0  \n",
       "\n",
       "[5 rows x 114 columns]"
      ]
     },
     "execution_count": 72,
     "metadata": {},
     "output_type": "execute_result"
    }
   ],
   "source": [
    "sourceVec.head()"
   ]
  },
  {
   "cell_type": "code",
   "execution_count": 73,
   "metadata": {},
   "outputs": [],
   "source": [
    "sourceVec.to_pickle('./Features/feature_sourceVec.pkl')"
   ]
  },
  {
   "cell_type": "code",
   "execution_count": null,
   "metadata": {},
   "outputs": [],
   "source": []
  }
 ],
 "metadata": {
  "kernelspec": {
   "display_name": "Python 3",
   "language": "python",
   "name": "python3"
  },
  "language_info": {
   "codemirror_mode": {
    "name": "ipython",
    "version": 3
   },
   "file_extension": ".py",
   "mimetype": "text/x-python",
   "name": "python",
   "nbconvert_exporter": "python",
   "pygments_lexer": "ipython3",
   "version": "3.6.1"
  },
  "toc": {
   "base_numbering": 1,
   "nav_menu": {},
   "number_sections": true,
   "sideBar": true,
   "skip_h1_title": false,
   "title_cell": "Table of Contents",
   "title_sidebar": "Contents",
   "toc_cell": false,
   "toc_position": {},
   "toc_section_display": true,
   "toc_window_display": true
  }
 },
 "nbformat": 4,
 "nbformat_minor": 2
}
