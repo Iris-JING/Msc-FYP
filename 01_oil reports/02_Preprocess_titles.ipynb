{
 "cells": [
  {
   "cell_type": "markdown",
   "metadata": {},
   "source": [
    "# load the data"
   ]
  },
  {
   "cell_type": "code",
   "execution_count": 1,
   "metadata": {},
   "outputs": [],
   "source": [
    "import pandas as pd\n",
    "df_1 = pd.read_pickle('sorted_all_reports.pkl')\n",
    "df_2 = pd.read_pickle('contents_.pkl')"
   ]
  },
  {
   "cell_type": "code",
   "execution_count": 2,
   "metadata": {},
   "outputs": [
    {
     "data": {
      "text/html": [
       "<div>\n",
       "<style>\n",
       "    .dataframe thead tr:only-child th {\n",
       "        text-align: right;\n",
       "    }\n",
       "\n",
       "    .dataframe thead th {\n",
       "        text-align: left;\n",
       "    }\n",
       "\n",
       "    .dataframe tbody tr th {\n",
       "        vertical-align: top;\n",
       "    }\n",
       "</style>\n",
       "<table border=\"1\" class=\"dataframe\">\n",
       "  <thead>\n",
       "    <tr style=\"text-align: right;\">\n",
       "      <th></th>\n",
       "      <th>content</th>\n",
       "      <th>date</th>\n",
       "      <th>length</th>\n",
       "      <th>source</th>\n",
       "      <th>title</th>\n",
       "      <th>Date</th>\n",
       "      <th>time</th>\n",
       "      <th>new_source</th>\n",
       "      <th>check_delayed</th>\n",
       "    </tr>\n",
       "  </thead>\n",
       "  <tbody>\n",
       "    <tr>\n",
       "      <th>0</th>\n",
       "      <td>This story was delayed by 9 days. See {JEMB&lt;G...</td>\n",
       "      <td>2012-12-24 08:02:00</td>\n",
       "      <td>1317</td>\n",
       "      <td>JP Morgan (JPM)</td>\n",
       "      <td>[Delayed] Global Oil &amp; Gas Daily: Egypt to off...</td>\n",
       "      <td>2012-12-24</td>\n",
       "      <td>08:02:00</td>\n",
       "      <td>JP Morgan (JPM)</td>\n",
       "      <td>True</td>\n",
       "    </tr>\n",
       "    <tr>\n",
       "      <th>1</th>\n",
       "      <td>What to Expect From GEPL CAPITAL's Commodity ...</td>\n",
       "      <td>2013-01-01 06:35:00</td>\n",
       "      <td>25</td>\n",
       "      <td>GEPL Capital Pvt. Ltd. (GUP)</td>\n",
       "      <td>Commodity Daily Market Watch</td>\n",
       "      <td>2013-01-01</td>\n",
       "      <td>06:35:00</td>\n",
       "      <td>GEPL Capital Pvt. Ltd. (GUP)</td>\n",
       "      <td>False</td>\n",
       "    </tr>\n",
       "    <tr>\n",
       "      <th>2</th>\n",
       "      <td></td>\n",
       "      <td>2013-01-01 10:06:00</td>\n",
       "      <td>18</td>\n",
       "      <td>Microsec Capital (MCL)</td>\n",
       "      <td>Microsec : Commodity Daily Report  1st Jan 2013</td>\n",
       "      <td>2013-01-01</td>\n",
       "      <td>10:06:00</td>\n",
       "      <td>Microsec Capital (MCL)</td>\n",
       "      <td>False</td>\n",
       "    </tr>\n",
       "    <tr>\n",
       "      <th>3</th>\n",
       "      <td>Indiabulls Securities Ltd : 01/01/2013 23:06:...</td>\n",
       "      <td>2013-01-02 04:06:00</td>\n",
       "      <td>16</td>\n",
       "      <td>Indiabulls Securities Ltd. (IBU)</td>\n",
       "      <td>Bullion, Base metals&amp; Energy Report</td>\n",
       "      <td>2013-01-02</td>\n",
       "      <td>04:06:00</td>\n",
       "      <td>Indiabulls Securities Ltd. (IBU)</td>\n",
       "      <td>False</td>\n",
       "    </tr>\n",
       "    <tr>\n",
       "      <th>4</th>\n",
       "      <td></td>\n",
       "      <td>2013-01-02 04:34:00</td>\n",
       "      <td>18</td>\n",
       "      <td>Karvy Research (KRV)</td>\n",
       "      <td>Energy insight- Jan 02, 2013</td>\n",
       "      <td>2013-01-02</td>\n",
       "      <td>04:34:00</td>\n",
       "      <td>Karvy Research (KRV)</td>\n",
       "      <td>False</td>\n",
       "    </tr>\n",
       "  </tbody>\n",
       "</table>\n",
       "</div>"
      ],
      "text/plain": [
       "                                             content                date  \\\n",
       "0   This story was delayed by 9 days. See {JEMB<G... 2012-12-24 08:02:00   \n",
       "1   What to Expect From GEPL CAPITAL's Commodity ... 2013-01-01 06:35:00   \n",
       "2                                                    2013-01-01 10:06:00   \n",
       "3   Indiabulls Securities Ltd : 01/01/2013 23:06:... 2013-01-02 04:06:00   \n",
       "4                                                    2013-01-02 04:34:00   \n",
       "\n",
       "   length                            source  \\\n",
       "0    1317                   JP Morgan (JPM)   \n",
       "1      25      GEPL Capital Pvt. Ltd. (GUP)   \n",
       "2      18            Microsec Capital (MCL)   \n",
       "3      16  Indiabulls Securities Ltd. (IBU)   \n",
       "4      18              Karvy Research (KRV)   \n",
       "\n",
       "                                               title        Date      time  \\\n",
       "0  [Delayed] Global Oil & Gas Daily: Egypt to off...  2012-12-24  08:02:00   \n",
       "1                       Commodity Daily Market Watch  2013-01-01  06:35:00   \n",
       "2    Microsec : Commodity Daily Report  1st Jan 2013  2013-01-01  10:06:00   \n",
       "3                Bullion, Base metals& Energy Report  2013-01-02  04:06:00   \n",
       "4                       Energy insight- Jan 02, 2013  2013-01-02  04:34:00   \n",
       "\n",
       "                         new_source check_delayed  \n",
       "0                   JP Morgan (JPM)          True  \n",
       "1      GEPL Capital Pvt. Ltd. (GUP)         False  \n",
       "2            Microsec Capital (MCL)         False  \n",
       "3  Indiabulls Securities Ltd. (IBU)         False  \n",
       "4              Karvy Research (KRV)         False  "
      ]
     },
     "execution_count": 2,
     "metadata": {},
     "output_type": "execute_result"
    }
   ],
   "source": [
    "df_1.head()"
   ]
  },
  {
   "cell_type": "code",
   "execution_count": 3,
   "metadata": {},
   "outputs": [
    {
     "data": {
      "text/html": [
       "<div>\n",
       "<style>\n",
       "    .dataframe thead tr:only-child th {\n",
       "        text-align: right;\n",
       "    }\n",
       "\n",
       "    .dataframe thead th {\n",
       "        text-align: left;\n",
       "    }\n",
       "\n",
       "    .dataframe tbody tr th {\n",
       "        vertical-align: top;\n",
       "    }\n",
       "</style>\n",
       "<table border=\"1\" class=\"dataframe\">\n",
       "  <thead>\n",
       "    <tr style=\"text-align: right;\">\n",
       "      <th></th>\n",
       "      <th>content</th>\n",
       "      <th>title</th>\n",
       "      <th>date</th>\n",
       "      <th>preprocess_content</th>\n",
       "      <th>content_pos</th>\n",
       "      <th>polarity</th>\n",
       "      <th>subjectivity</th>\n",
       "      <th>list_contents</th>\n",
       "    </tr>\n",
       "  </thead>\n",
       "  <tbody>\n",
       "    <tr>\n",
       "      <th>0</th>\n",
       "      <td>This story was delayed by 9 days. See {JEMB&lt;G...</td>\n",
       "      <td>[Delayed] Global Oil &amp; Gas Daily: Egypt to off...</td>\n",
       "      <td>2012-12-24 08:02:00</td>\n",
       "      <td>day see jemb subscribe realtime delivery abstr...</td>\n",
       "      <td>CL24FBMNNNY1YGLLNBNBNNNNNY1MFLCLNNL6FNLLLAHNNB...</td>\n",
       "      <td>0.043720</td>\n",
       "      <td>0.311611</td>\n",
       "      <td>[This, story, was, delayed, by, 9, days., See,...</td>\n",
       "    </tr>\n",
       "    <tr>\n",
       "      <th>1</th>\n",
       "      <td>What to Expect From GEPL CAPITAL's Commodity ...</td>\n",
       "      <td>Commodity Daily Market Watch</td>\n",
       "      <td>2013-01-01 06:35:00</td>\n",
       "      <td>expect gepl capital commodity market watch new...</td>\n",
       "      <td>8Y1NNNGNNNNNFCLLFCLLNLMALM5GGMMGN6GNLMLM</td>\n",
       "      <td>-0.179167</td>\n",
       "      <td>0.566667</td>\n",
       "      <td>[What, to, Expect, From, GEPL, CAPITAL's, Comm...</td>\n",
       "    </tr>\n",
       "    <tr>\n",
       "      <th>2</th>\n",
       "      <td>4/01/2013     Commodity News   Trading in the...</td>\n",
       "      <td>Commodity Watch - 4 January 2013</td>\n",
       "      <td>2013-01-04 18:42:00</td>\n",
       "      <td>commodity news trading commodity market subjec...</td>\n",
       "      <td>BBBNNLFCLL2GYCLFGMFCNNFCL2CLYLFCLY1CGLNM2YLMA2...</td>\n",
       "      <td>0.015833</td>\n",
       "      <td>0.405595</td>\n",
       "      <td>[4/01/2013, Commodity, News, Trading, in, the,...</td>\n",
       "    </tr>\n",
       "    <tr>\n",
       "      <th>3</th>\n",
       "      <td>Gold Spot: Buy on Weakness       We recommend...</td>\n",
       "      <td>KASB Commodities Corner</td>\n",
       "      <td>2013-01-07 07:39:00</td>\n",
       "      <td>gold spot buy weakness recommend buying risk d...</td>\n",
       "      <td>NNNFNR53FL4FNBBNNNFNR53FL4FNBBNNNNNFNR53FL4FNB...</td>\n",
       "      <td>-0.700000</td>\n",
       "      <td>1.000000</td>\n",
       "      <td>[Gold, Spot:, Buy, on, Weakness, We, recommend...</td>\n",
       "    </tr>\n",
       "    <tr>\n",
       "      <th>4</th>\n",
       "      <td>While the unemployment situation in the U.S w...</td>\n",
       "      <td>Crude taxes caused huge draws on U.S. crude in...</td>\n",
       "      <td>2013-01-07 08:21:00</td>\n",
       "      <td>unemployment situation us le line market expec...</td>\n",
       "      <td>FCLLFCNN2UAUFLFLMBBM4FNCNFNN2CGLFLMNNLMNNBBBMB...</td>\n",
       "      <td>-0.186000</td>\n",
       "      <td>0.592190</td>\n",
       "      <td>[While, the, unemployment, situation, in, the,...</td>\n",
       "    </tr>\n",
       "  </tbody>\n",
       "</table>\n",
       "</div>"
      ],
      "text/plain": [
       "                                             content  \\\n",
       "0   This story was delayed by 9 days. See {JEMB<G...   \n",
       "1   What to Expect From GEPL CAPITAL's Commodity ...   \n",
       "2   4/01/2013     Commodity News   Trading in the...   \n",
       "3   Gold Spot: Buy on Weakness       We recommend...   \n",
       "4   While the unemployment situation in the U.S w...   \n",
       "\n",
       "                                               title                date  \\\n",
       "0  [Delayed] Global Oil & Gas Daily: Egypt to off... 2012-12-24 08:02:00   \n",
       "1                       Commodity Daily Market Watch 2013-01-01 06:35:00   \n",
       "2                   Commodity Watch - 4 January 2013 2013-01-04 18:42:00   \n",
       "3                            KASB Commodities Corner 2013-01-07 07:39:00   \n",
       "4  Crude taxes caused huge draws on U.S. crude in... 2013-01-07 08:21:00   \n",
       "\n",
       "                                  preprocess_content  \\\n",
       "0  day see jemb subscribe realtime delivery abstr...   \n",
       "1  expect gepl capital commodity market watch new...   \n",
       "2  commodity news trading commodity market subjec...   \n",
       "3  gold spot buy weakness recommend buying risk d...   \n",
       "4  unemployment situation us le line market expec...   \n",
       "\n",
       "                                         content_pos  polarity  subjectivity  \\\n",
       "0  CL24FBMNNNY1YGLLNBNBNNNNNY1MFLCLNNL6FNLLLAHNNB...  0.043720      0.311611   \n",
       "1           8Y1NNNGNNNNNFCLLFCLLNLMALM5GGMMGN6GNLMLM -0.179167      0.566667   \n",
       "2  BBBNNLFCLL2GYCLFGMFCNNFCL2CLYLFCLY1CGLNM2YLMA2...  0.015833      0.405595   \n",
       "3  NNNFNR53FL4FNBBNNNFNR53FL4FNBBNNNNNFNR53FL4FNB... -0.700000      1.000000   \n",
       "4  FCLLFCNN2UAUFLFLMBBM4FNCNFNN2CGLFLMNNLMNNBBBMB... -0.186000      0.592190   \n",
       "\n",
       "                                       list_contents  \n",
       "0  [This, story, was, delayed, by, 9, days., See,...  \n",
       "1  [What, to, Expect, From, GEPL, CAPITAL's, Comm...  \n",
       "2  [4/01/2013, Commodity, News, Trading, in, the,...  \n",
       "3  [Gold, Spot:, Buy, on, Weakness, We, recommend...  \n",
       "4  [While, the, unemployment, situation, in, the,...  "
      ]
     },
     "execution_count": 3,
     "metadata": {},
     "output_type": "execute_result"
    }
   ],
   "source": [
    "df_2.head()"
   ]
  },
  {
   "cell_type": "code",
   "execution_count": 4,
   "metadata": {
    "scrolled": true
   },
   "outputs": [],
   "source": [
    "df = pd.merge(df_2, df_1,how='left', on=['date','content','title'])"
   ]
  },
  {
   "cell_type": "code",
   "execution_count": 5,
   "metadata": {},
   "outputs": [
    {
     "data": {
      "text/html": [
       "<div>\n",
       "<style>\n",
       "    .dataframe thead tr:only-child th {\n",
       "        text-align: right;\n",
       "    }\n",
       "\n",
       "    .dataframe thead th {\n",
       "        text-align: left;\n",
       "    }\n",
       "\n",
       "    .dataframe tbody tr th {\n",
       "        vertical-align: top;\n",
       "    }\n",
       "</style>\n",
       "<table border=\"1\" class=\"dataframe\">\n",
       "  <thead>\n",
       "    <tr style=\"text-align: right;\">\n",
       "      <th></th>\n",
       "      <th>content</th>\n",
       "      <th>title</th>\n",
       "      <th>date</th>\n",
       "      <th>preprocess_content</th>\n",
       "      <th>content_pos</th>\n",
       "      <th>polarity</th>\n",
       "      <th>subjectivity</th>\n",
       "      <th>list_contents</th>\n",
       "      <th>length</th>\n",
       "      <th>source</th>\n",
       "      <th>Date</th>\n",
       "      <th>time</th>\n",
       "      <th>new_source</th>\n",
       "      <th>check_delayed</th>\n",
       "    </tr>\n",
       "  </thead>\n",
       "  <tbody>\n",
       "    <tr>\n",
       "      <th>0</th>\n",
       "      <td>This story was delayed by 9 days. See {JEMB&lt;G...</td>\n",
       "      <td>[Delayed] Global Oil &amp; Gas Daily: Egypt to off...</td>\n",
       "      <td>2012-12-24 08:02:00</td>\n",
       "      <td>day see jemb subscribe realtime delivery abstr...</td>\n",
       "      <td>CL24FBMNNNY1YGLLNBNBNNNNNY1MFLCLNNL6FNLLLAHNNB...</td>\n",
       "      <td>0.043720</td>\n",
       "      <td>0.311611</td>\n",
       "      <td>[This, story, was, delayed, by, 9, days., See,...</td>\n",
       "      <td>1317</td>\n",
       "      <td>JP Morgan (JPM)</td>\n",
       "      <td>2012-12-24</td>\n",
       "      <td>08:02:00</td>\n",
       "      <td>JP Morgan (JPM)</td>\n",
       "      <td>True</td>\n",
       "    </tr>\n",
       "    <tr>\n",
       "      <th>1</th>\n",
       "      <td>What to Expect From GEPL CAPITAL's Commodity ...</td>\n",
       "      <td>Commodity Daily Market Watch</td>\n",
       "      <td>2013-01-01 06:35:00</td>\n",
       "      <td>expect gepl capital commodity market watch new...</td>\n",
       "      <td>8Y1NNNGNNNNNFCLLFCLLNLMALM5GGMMGN6GNLMLM</td>\n",
       "      <td>-0.179167</td>\n",
       "      <td>0.566667</td>\n",
       "      <td>[What, to, Expect, From, GEPL, CAPITAL's, Comm...</td>\n",
       "      <td>25</td>\n",
       "      <td>GEPL Capital Pvt. Ltd. (GUP)</td>\n",
       "      <td>2013-01-01</td>\n",
       "      <td>06:35:00</td>\n",
       "      <td>GEPL Capital Pvt. Ltd. (GUP)</td>\n",
       "      <td>False</td>\n",
       "    </tr>\n",
       "    <tr>\n",
       "      <th>2</th>\n",
       "      <td>4/01/2013     Commodity News   Trading in the...</td>\n",
       "      <td>Commodity Watch - 4 January 2013</td>\n",
       "      <td>2013-01-04 18:42:00</td>\n",
       "      <td>commodity news trading commodity market subjec...</td>\n",
       "      <td>BBBNNLFCLL2GYCLFGMFCNNFCL2CLYLFCLY1CGLNM2YLMA2...</td>\n",
       "      <td>0.015833</td>\n",
       "      <td>0.405595</td>\n",
       "      <td>[4/01/2013, Commodity, News, Trading, in, the,...</td>\n",
       "      <td>42</td>\n",
       "      <td>Vetiva (VCM)</td>\n",
       "      <td>2013-01-04</td>\n",
       "      <td>18:42:00</td>\n",
       "      <td>Vetiva (VCM)</td>\n",
       "      <td>False</td>\n",
       "    </tr>\n",
       "    <tr>\n",
       "      <th>3</th>\n",
       "      <td>Gold Spot: Buy on Weakness       We recommend...</td>\n",
       "      <td>KASB Commodities Corner</td>\n",
       "      <td>2013-01-07 07:39:00</td>\n",
       "      <td>gold spot buy weakness recommend buying risk d...</td>\n",
       "      <td>NNNFNR53FL4FNBBNNNFNR53FL4FNBBNNNNNFNR53FL4FNB...</td>\n",
       "      <td>-0.700000</td>\n",
       "      <td>1.000000</td>\n",
       "      <td>[Gold, Spot:, Buy, on, Weakness, We, recommend...</td>\n",
       "      <td>23</td>\n",
       "      <td>BIPL Securities (KAS)</td>\n",
       "      <td>2013-01-07</td>\n",
       "      <td>07:39:00</td>\n",
       "      <td>BIPL Securities (KAS)</td>\n",
       "      <td>False</td>\n",
       "    </tr>\n",
       "    <tr>\n",
       "      <th>4</th>\n",
       "      <td>While the unemployment situation in the U.S w...</td>\n",
       "      <td>Crude taxes caused huge draws on U.S. crude in...</td>\n",
       "      <td>2013-01-07 08:21:00</td>\n",
       "      <td>unemployment situation us le line market expec...</td>\n",
       "      <td>FCLLFCNN2UAUFLFLMBBM4FNCNFNN2CGLFLMNNLMNNBBBMB...</td>\n",
       "      <td>-0.186000</td>\n",
       "      <td>0.592190</td>\n",
       "      <td>[While, the, unemployment, situation, in, the,...</td>\n",
       "      <td>45</td>\n",
       "      <td>Bunker-Holdings A/S (GRM)</td>\n",
       "      <td>2013-01-07</td>\n",
       "      <td>08:21:00</td>\n",
       "      <td>others</td>\n",
       "      <td>False</td>\n",
       "    </tr>\n",
       "  </tbody>\n",
       "</table>\n",
       "</div>"
      ],
      "text/plain": [
       "                                             content  \\\n",
       "0   This story was delayed by 9 days. See {JEMB<G...   \n",
       "1   What to Expect From GEPL CAPITAL's Commodity ...   \n",
       "2   4/01/2013     Commodity News   Trading in the...   \n",
       "3   Gold Spot: Buy on Weakness       We recommend...   \n",
       "4   While the unemployment situation in the U.S w...   \n",
       "\n",
       "                                               title                date  \\\n",
       "0  [Delayed] Global Oil & Gas Daily: Egypt to off... 2012-12-24 08:02:00   \n",
       "1                       Commodity Daily Market Watch 2013-01-01 06:35:00   \n",
       "2                   Commodity Watch - 4 January 2013 2013-01-04 18:42:00   \n",
       "3                            KASB Commodities Corner 2013-01-07 07:39:00   \n",
       "4  Crude taxes caused huge draws on U.S. crude in... 2013-01-07 08:21:00   \n",
       "\n",
       "                                  preprocess_content  \\\n",
       "0  day see jemb subscribe realtime delivery abstr...   \n",
       "1  expect gepl capital commodity market watch new...   \n",
       "2  commodity news trading commodity market subjec...   \n",
       "3  gold spot buy weakness recommend buying risk d...   \n",
       "4  unemployment situation us le line market expec...   \n",
       "\n",
       "                                         content_pos  polarity  subjectivity  \\\n",
       "0  CL24FBMNNNY1YGLLNBNBNNNNNY1MFLCLNNL6FNLLLAHNNB...  0.043720      0.311611   \n",
       "1           8Y1NNNGNNNNNFCLLFCLLNLMALM5GGMMGN6GNLMLM -0.179167      0.566667   \n",
       "2  BBBNNLFCLL2GYCLFGMFCNNFCL2CLYLFCLY1CGLNM2YLMA2...  0.015833      0.405595   \n",
       "3  NNNFNR53FL4FNBBNNNFNR53FL4FNBBNNNNNFNR53FL4FNB... -0.700000      1.000000   \n",
       "4  FCLLFCNN2UAUFLFLMBBM4FNCNFNN2CGLFLMNNLMNNBBBMB... -0.186000      0.592190   \n",
       "\n",
       "                                       list_contents  length  \\\n",
       "0  [This, story, was, delayed, by, 9, days., See,...    1317   \n",
       "1  [What, to, Expect, From, GEPL, CAPITAL's, Comm...      25   \n",
       "2  [4/01/2013, Commodity, News, Trading, in, the,...      42   \n",
       "3  [Gold, Spot:, Buy, on, Weakness, We, recommend...      23   \n",
       "4  [While, the, unemployment, situation, in, the,...      45   \n",
       "\n",
       "                         source        Date      time  \\\n",
       "0               JP Morgan (JPM)  2012-12-24  08:02:00   \n",
       "1  GEPL Capital Pvt. Ltd. (GUP)  2013-01-01  06:35:00   \n",
       "2                  Vetiva (VCM)  2013-01-04  18:42:00   \n",
       "3         BIPL Securities (KAS)  2013-01-07  07:39:00   \n",
       "4     Bunker-Holdings A/S (GRM)  2013-01-07  08:21:00   \n",
       "\n",
       "                     new_source check_delayed  \n",
       "0               JP Morgan (JPM)          True  \n",
       "1  GEPL Capital Pvt. Ltd. (GUP)         False  \n",
       "2                  Vetiva (VCM)         False  \n",
       "3         BIPL Securities (KAS)         False  \n",
       "4                        others         False  "
      ]
     },
     "execution_count": 5,
     "metadata": {},
     "output_type": "execute_result"
    }
   ],
   "source": [
    "df.head()"
   ]
  },
  {
   "cell_type": "code",
   "execution_count": 6,
   "metadata": {},
   "outputs": [
    {
     "data": {
      "text/plain": [
       "(5363, 14)"
      ]
     },
     "execution_count": 6,
     "metadata": {},
     "output_type": "execute_result"
    }
   ],
   "source": [
    "df.shape"
   ]
  },
  {
   "cell_type": "code",
   "execution_count": 7,
   "metadata": {},
   "outputs": [
    {
     "data": {
      "text/plain": [
       "(5363, 8)"
      ]
     },
     "execution_count": 7,
     "metadata": {},
     "output_type": "execute_result"
    }
   ],
   "source": [
    "df_2.shape"
   ]
  },
  {
   "cell_type": "markdown",
   "metadata": {},
   "source": [
    "# preprocess title\n",
    "## create title dataframe"
   ]
  },
  {
   "cell_type": "code",
   "execution_count": 8,
   "metadata": {},
   "outputs": [],
   "source": [
    "def check_source(x):\n",
    "    if '-' in x[1]:\n",
    "        check_words = x[1].split('-')[0].split(' ')\n",
    "    else:\n",
    "        check_words = x[1].split(':')[0].split(' ')\n",
    "    \n",
    "    source_words=x[0].split(' ')\n",
    "    \n",
    "    flag=False\n",
    "    for word in check_words:\n",
    "        if word in source_words:\n",
    "            flag=True\n",
    "\n",
    "    if flag:\n",
    "        if '-' in x[1]:\n",
    "            new_title = ','.join(str(x) for x in x[1].split('-')[1:])\n",
    "        if ':' in x[1]:\n",
    "            new_title = ','.join(str(x) for x in x[1].split(':')[1:])\n",
    "        else:\n",
    "            new_title = x[1]\n",
    "        return new_title\n",
    "\n",
    "    else:\n",
    "        return x[1]\n",
    "    \n",
    "    \n",
    "    \n",
    "    "
   ]
  },
  {
   "cell_type": "code",
   "execution_count": 9,
   "metadata": {
    "scrolled": true
   },
   "outputs": [],
   "source": [
    "df['new_title'] = df[['source', 'title']].apply(lambda x: check_source(x),axis=1)"
   ]
  },
  {
   "cell_type": "markdown",
   "metadata": {},
   "source": [
    "## libraries"
   ]
  },
  {
   "cell_type": "code",
   "execution_count": 11,
   "metadata": {},
   "outputs": [],
   "source": [
    "import pandas as pd\n",
    "import numpy as np\n",
    " \n",
    "from nltk.tokenize import word_tokenize, sent_tokenize\n",
    "from nltk.corpus import stopwords\n",
    "from nltk.stem import WordNetLemmatizer, PorterStemmer\n",
    "from string import punctuation\n",
    "from collections import Counter\n",
    " \n",
    "from collections import OrderedDict\n",
    "import re\n",
    "import warnings\n",
    "warnings.filterwarnings(\"ignore\", category=DeprecationWarning)"
   ]
  },
  {
   "cell_type": "markdown",
   "metadata": {},
   "source": [
    "## stop words, stemmers and lemmatizers"
   ]
  },
  {
   "cell_type": "markdown",
   "metadata": {},
   "source": [
    "### add the source name in stop words"
   ]
  },
  {
   "cell_type": "code",
   "execution_count": 12,
   "metadata": {},
   "outputs": [],
   "source": [
    "source = df.groupby('source').size().to_frame('counts').reset_index()\n",
    "list_source = source['source'].tolist()\n",
    "\n",
    "# source_head=set(\",\".join(str(x.split(' ')[0]) for x in list_source).\\\n",
    "#                 lower().\\\n",
    "#                 split(',')) # the word in the first of the name of source\n",
    "\n",
    "source_head = set(\",\".join(str(x.split(' ')[1]) for x in list_source[-3:-1]).\\\n",
    "                lower().\\\n",
    "                split(','))\n",
    "\n",
    "source_head = source_head.union(\n",
    "                set(\",\".join(str(x.split(' ')[-1]).replace('(','').replace(')','')\\\n",
    "                for x in list_source).\\\n",
    "                lower().\\\n",
    "                split(','))\n",
    "                )  # abbreviation of the source"
   ]
  },
  {
   "cell_type": "markdown",
   "metadata": {},
   "source": [
    "### stop words and other words"
   ]
  },
  {
   "cell_type": "code",
   "execution_count": 13,
   "metadata": {},
   "outputs": [],
   "source": [
    "porter = PorterStemmer()\n",
    "wnl = WordNetLemmatizer() \n",
    "stop = set(stopwords.words('english'))\n",
    "stop = stop.union({'delayed','jan','january','feb','february','mar','march','apr','april',\n",
    "                   'may','june','jun','july','jul','aug','august','sep','september','oct','october','nov',\n",
    "                  'november','dec','december',''})\n",
    "stop = stop.union(source_head)\n",
    "stop = stop.union({'daily','weekly','week','ltd','j.p.','report'})\n",
    "# stop = set(stop)"
   ]
  },
  {
   "cell_type": "code",
   "execution_count": 14,
   "metadata": {},
   "outputs": [],
   "source": [
    "# stop"
   ]
  },
  {
   "cell_type": "markdown",
   "metadata": {},
   "source": [
    "## functions"
   ]
  },
  {
   "cell_type": "code",
   "execution_count": 15,
   "metadata": {},
   "outputs": [],
   "source": [
    "def tokenizer(text):\n",
    "\n",
    "    tokens_ = [word_tokenize(sent) for sent in sent_tokenize(text)]\n",
    "\n",
    "    tokens = []\n",
    "    for token_by_sent in tokens_:\n",
    "        tokens += token_by_sent\n",
    "\n",
    "#     tokens = [t for t in tokens if len(t) > 2] \n",
    "#     tokens = [t for t in tokens if not any(c.isdigit() for c in t)] \n",
    "    tokens = list(filter(lambda t: t.lower() not in stop, tokens))\n",
    "    tokens = list(filter(lambda t: t not in punctuation, tokens))\n",
    "    \n",
    "     \n",
    "    filtered_tokens = []\n",
    "    for token in tokens:\n",
    "        token = wnl.lemmatize(token) #convert to real word simple case\n",
    "        if re.search('[a-zA-Z]', token): #regular expression\n",
    "            filtered_tokens.append(token)\n",
    "\n",
    "    filtered_tokens = list(map(lambda token: token.lower(), filtered_tokens))\n",
    "    #map()是 Python 内置的高阶函数，它接收一个函数 f 和一个 list，并通过把函数 f 依次作用在 list 的每个元素上，得到一个新的 list 并返回。\n",
    "\n",
    "    return filtered_tokens"
   ]
  },
  {
   "cell_type": "code",
   "execution_count": 16,
   "metadata": {},
   "outputs": [],
   "source": [
    "def build_article_df(urls):\n",
    "    articles = []\n",
    "    for index, row in urls.iterrows(): #使用iterrows()对dataframe进行遍历\n",
    "        try:\n",
    "            data=row['new_title'].strip().replace(\"'\", \"\") #如果strip()的参数为空，那么会默认删除字符串头和尾的空白字符(包括\\n，\\r，\\t这些)。\n",
    "            data = data.encode('ascii', 'ignore').decode('ascii')\n",
    "            document = tokenizer(data)\n",
    "          \n",
    "            kw=\" \".join(str(x) for x in document)\n",
    "            articles.append((row['new_title'],kw,row['date'],row['new_source']))\n",
    "            \n",
    "        except Exception as e:\n",
    "            print(e)\n",
    "            pass\n",
    "\n",
    "    article_df = pd.DataFrame(articles, columns=['title_to_handle','preprocess_title','date','new_source'])\n",
    "    return article_df"
   ]
  },
  {
   "cell_type": "markdown",
   "metadata": {},
   "source": [
    "## pre_title"
   ]
  },
  {
   "cell_type": "code",
   "execution_count": 17,
   "metadata": {},
   "outputs": [],
   "source": [
    "# title_to_handle source = sorted_df.groupby('source').size().to_frame('counts').reset_index()\n",
    "# title_list = df['new_title'].to_frame('title_to_handle')\n",
    "title_list = df[['new_title','date','new_source']]"
   ]
  },
  {
   "cell_type": "code",
   "execution_count": 2,
   "metadata": {
    "ExecuteTime": {
     "end_time": "2018-09-05T22:24:01.467545Z",
     "start_time": "2018-09-05T22:24:01.457783Z"
    },
    "scrolled": true
   },
   "outputs": [],
   "source": [
    "pre_title = build_article_df(title_list)\n",
    "# pre_title"
   ]
  },
  {
   "cell_type": "code",
   "execution_count": 20,
   "metadata": {},
   "outputs": [
    {
     "data": {
      "text/plain": [
       "(5363, 4)"
      ]
     },
     "execution_count": 20,
     "metadata": {},
     "output_type": "execute_result"
    }
   ],
   "source": [
    "pre_title.shape"
   ]
  },
  {
   "cell_type": "code",
   "execution_count": 21,
   "metadata": {},
   "outputs": [
    {
     "name": "stdout",
     "output_type": "stream",
     "text": [
      "[Delayed] Global Oil & Gas Daily: Egypt to offer blocks for bidding this week; CVX-YPF deal depends on CVX's embargo appeal and\n",
      "global oil gas egypt offer block bidding cvx-ypf deal depends cvxs embargo appeal\n"
     ]
    }
   ],
   "source": [
    "print(pre_title.iloc[0,0])\n",
    "print(pre_title.iloc[0,1])"
   ]
  },
  {
   "cell_type": "markdown",
   "metadata": {},
   "source": [
    "## Most frequent words"
   ]
  },
  {
   "cell_type": "code",
   "execution_count": 22,
   "metadata": {},
   "outputs": [],
   "source": [
    "# list_ = pre_title['preprocess_title'].tolist()\n",
    "# kw=\" \".join(str(x) for x in list_)"
   ]
  },
  {
   "cell_type": "code",
   "execution_count": 23,
   "metadata": {},
   "outputs": [],
   "source": [
    "# kw = kw.split(' ')"
   ]
  },
  {
   "cell_type": "code",
   "execution_count": 24,
   "metadata": {
    "scrolled": true
   },
   "outputs": [],
   "source": [
    "# Counter(kw).most_common(100)"
   ]
  },
  {
   "cell_type": "markdown",
   "metadata": {},
   "source": [
    "## save pre_title"
   ]
  },
  {
   "cell_type": "code",
   "execution_count": 25,
   "metadata": {},
   "outputs": [],
   "source": [
    "pre_title.to_pickle('preprocess_title.pkl')"
   ]
  },
  {
   "cell_type": "markdown",
   "metadata": {},
   "source": [
    "# Extract features"
   ]
  },
  {
   "cell_type": "markdown",
   "metadata": {},
   "source": [
    "## preprocess_title\t--tfidf"
   ]
  },
  {
   "cell_type": "code",
   "execution_count": 3,
   "metadata": {
    "ExecuteTime": {
     "end_time": "2018-09-05T22:24:10.447036Z",
     "start_time": "2018-09-05T22:24:10.437272Z"
    },
    "scrolled": true
   },
   "outputs": [],
   "source": [
    "# word count\n",
    "pre_title['word_count'] = pre_title['preprocess_title'].apply(lambda x: len(str(x).split(\" \")))\n",
    "# pre_title.head(100)"
   ]
  },
  {
   "cell_type": "code",
   "execution_count": 27,
   "metadata": {},
   "outputs": [
    {
     "data": {
      "text/plain": [
       "0.0     1.0\n",
       "0.1     3.0\n",
       "0.2     4.0\n",
       "0.3     5.0\n",
       "0.5     7.0\n",
       "0.8    11.0\n",
       "0.9    13.0\n",
       "Name: word_count, dtype: float64"
      ]
     },
     "execution_count": 27,
     "metadata": {},
     "output_type": "execute_result"
    }
   ],
   "source": [
    "pre_title['word_count'].quantile([0,0.10,0.2,0.3,0.5,0.8,0.9])"
   ]
  },
  {
   "cell_type": "code",
   "execution_count": 29,
   "metadata": {},
   "outputs": [],
   "source": [
    "from sklearn.feature_extraction.text import TfidfVectorizer\n",
    "tfidf = TfidfVectorizer(max_features=10, analyzer='word',ngram_range=(1,1))\n",
    "tfidf_weights = tfidf.fit_transform(pre_title['preprocess_title']).toarray()"
   ]
  },
  {
   "cell_type": "code",
   "execution_count": 30,
   "metadata": {},
   "outputs": [
    {
     "data": {
      "text/html": [
       "<div>\n",
       "<style>\n",
       "    .dataframe thead tr:only-child th {\n",
       "        text-align: right;\n",
       "    }\n",
       "\n",
       "    .dataframe thead th {\n",
       "        text-align: left;\n",
       "    }\n",
       "\n",
       "    .dataframe tbody tr th {\n",
       "        vertical-align: top;\n",
       "    }\n",
       "</style>\n",
       "<table border=\"1\" class=\"dataframe\">\n",
       "  <thead>\n",
       "    <tr style=\"text-align: right;\">\n",
       "      <th></th>\n",
       "      <th>title_tfidf_f1</th>\n",
       "      <th>title_tfidf_f2</th>\n",
       "      <th>title_tfidf_f3</th>\n",
       "      <th>title_tfidf_f4</th>\n",
       "      <th>title_tfidf_f5</th>\n",
       "      <th>title_tfidf_f6</th>\n",
       "      <th>title_tfidf_f7</th>\n",
       "      <th>title_tfidf_f8</th>\n",
       "      <th>title_tfidf_f9</th>\n",
       "      <th>title_tfidf_f10</th>\n",
       "    </tr>\n",
       "  </thead>\n",
       "  <tbody>\n",
       "    <tr>\n",
       "      <th>0</th>\n",
       "      <td>0.0</td>\n",
       "      <td>0.0</td>\n",
       "      <td>0.0</td>\n",
       "      <td>0.0</td>\n",
       "      <td>0.820298</td>\n",
       "      <td>0.0</td>\n",
       "      <td>0.571937</td>\n",
       "      <td>0.0</td>\n",
       "      <td>0.0</td>\n",
       "      <td>0.0</td>\n",
       "    </tr>\n",
       "    <tr>\n",
       "      <th>1</th>\n",
       "      <td>0.0</td>\n",
       "      <td>1.0</td>\n",
       "      <td>0.0</td>\n",
       "      <td>0.0</td>\n",
       "      <td>0.000000</td>\n",
       "      <td>0.0</td>\n",
       "      <td>0.000000</td>\n",
       "      <td>0.0</td>\n",
       "      <td>0.0</td>\n",
       "      <td>0.0</td>\n",
       "    </tr>\n",
       "    <tr>\n",
       "      <th>2</th>\n",
       "      <td>0.0</td>\n",
       "      <td>1.0</td>\n",
       "      <td>0.0</td>\n",
       "      <td>0.0</td>\n",
       "      <td>0.000000</td>\n",
       "      <td>0.0</td>\n",
       "      <td>0.000000</td>\n",
       "      <td>0.0</td>\n",
       "      <td>0.0</td>\n",
       "      <td>0.0</td>\n",
       "    </tr>\n",
       "    <tr>\n",
       "      <th>3</th>\n",
       "      <td>1.0</td>\n",
       "      <td>0.0</td>\n",
       "      <td>0.0</td>\n",
       "      <td>0.0</td>\n",
       "      <td>0.000000</td>\n",
       "      <td>0.0</td>\n",
       "      <td>0.000000</td>\n",
       "      <td>0.0</td>\n",
       "      <td>0.0</td>\n",
       "      <td>0.0</td>\n",
       "    </tr>\n",
       "    <tr>\n",
       "      <th>4</th>\n",
       "      <td>0.0</td>\n",
       "      <td>0.0</td>\n",
       "      <td>1.0</td>\n",
       "      <td>0.0</td>\n",
       "      <td>0.000000</td>\n",
       "      <td>0.0</td>\n",
       "      <td>0.000000</td>\n",
       "      <td>0.0</td>\n",
       "      <td>0.0</td>\n",
       "      <td>0.0</td>\n",
       "    </tr>\n",
       "  </tbody>\n",
       "</table>\n",
       "</div>"
      ],
      "text/plain": [
       "   title_tfidf_f1  title_tfidf_f2  title_tfidf_f3  title_tfidf_f4  \\\n",
       "0             0.0             0.0             0.0             0.0   \n",
       "1             0.0             1.0             0.0             0.0   \n",
       "2             0.0             1.0             0.0             0.0   \n",
       "3             1.0             0.0             0.0             0.0   \n",
       "4             0.0             0.0             1.0             0.0   \n",
       "\n",
       "   title_tfidf_f5  title_tfidf_f6  title_tfidf_f7  title_tfidf_f8  \\\n",
       "0        0.820298             0.0        0.571937             0.0   \n",
       "1        0.000000             0.0        0.000000             0.0   \n",
       "2        0.000000             0.0        0.000000             0.0   \n",
       "3        0.000000             0.0        0.000000             0.0   \n",
       "4        0.000000             0.0        0.000000             0.0   \n",
       "\n",
       "   title_tfidf_f9  title_tfidf_f10  \n",
       "0             0.0              0.0  \n",
       "1             0.0              0.0  \n",
       "2             0.0              0.0  \n",
       "3             0.0              0.0  \n",
       "4             0.0              0.0  "
      ]
     },
     "execution_count": 30,
     "metadata": {},
     "output_type": "execute_result"
    }
   ],
   "source": [
    "tfidf_vec = pd.DataFrame(tfidf_weights,columns=['title_tfidf_f{}'.format(i) for i in range(1,11)])\n",
    "tfidf_vec.head()"
   ]
  },
  {
   "cell_type": "code",
   "execution_count": 31,
   "metadata": {},
   "outputs": [],
   "source": [
    "tfidf_vec.to_pickle('title_tfidf_vec.pkl')"
   ]
  },
  {
   "cell_type": "markdown",
   "metadata": {},
   "source": [
    "## Source vector"
   ]
  },
  {
   "cell_type": "code",
   "execution_count": 47,
   "metadata": {},
   "outputs": [
    {
     "data": {
      "text/plain": [
       "(114, 1)"
      ]
     },
     "execution_count": 47,
     "metadata": {},
     "output_type": "execute_result"
    }
   ],
   "source": [
    "pre_title.groupby('new_source').size().to_frame().shape"
   ]
  },
  {
   "cell_type": "code",
   "execution_count": 48,
   "metadata": {},
   "outputs": [],
   "source": [
    "from sklearn.feature_extraction.text import CountVectorizer\n",
    "bow = CountVectorizer(max_features=114, analyzer='word',ngram_range=(1,1))\n",
    "bow_weights = bow.fit_transform(pre_title['new_source']).toarray()"
   ]
  },
  {
   "cell_type": "code",
   "execution_count": 49,
   "metadata": {},
   "outputs": [
    {
     "data": {
      "text/plain": [
       "(5363, 114)"
      ]
     },
     "execution_count": 49,
     "metadata": {},
     "output_type": "execute_result"
    }
   ],
   "source": [
    "bow_weights.shape"
   ]
  },
  {
   "cell_type": "code",
   "execution_count": 51,
   "metadata": {},
   "outputs": [
    {
     "data": {
      "text/html": [
       "<div>\n",
       "<style>\n",
       "    .dataframe thead tr:only-child th {\n",
       "        text-align: right;\n",
       "    }\n",
       "\n",
       "    .dataframe thead th {\n",
       "        text-align: left;\n",
       "    }\n",
       "\n",
       "    .dataframe tbody tr th {\n",
       "        vertical-align: top;\n",
       "    }\n",
       "</style>\n",
       "<table border=\"1\" class=\"dataframe\">\n",
       "  <thead>\n",
       "    <tr style=\"text-align: right;\">\n",
       "      <th></th>\n",
       "      <th>source_bow_f1</th>\n",
       "      <th>source_bow_f2</th>\n",
       "      <th>source_bow_f3</th>\n",
       "      <th>source_bow_f4</th>\n",
       "      <th>source_bow_f5</th>\n",
       "      <th>source_bow_f6</th>\n",
       "      <th>source_bow_f7</th>\n",
       "      <th>source_bow_f8</th>\n",
       "      <th>source_bow_f9</th>\n",
       "      <th>source_bow_f10</th>\n",
       "      <th>...</th>\n",
       "      <th>source_bow_f105</th>\n",
       "      <th>source_bow_f106</th>\n",
       "      <th>source_bow_f107</th>\n",
       "      <th>source_bow_f108</th>\n",
       "      <th>source_bow_f109</th>\n",
       "      <th>source_bow_f110</th>\n",
       "      <th>source_bow_f111</th>\n",
       "      <th>source_bow_f112</th>\n",
       "      <th>source_bow_f113</th>\n",
       "      <th>source_bow_f114</th>\n",
       "    </tr>\n",
       "  </thead>\n",
       "  <tbody>\n",
       "    <tr>\n",
       "      <th>0</th>\n",
       "      <td>0</td>\n",
       "      <td>0</td>\n",
       "      <td>0</td>\n",
       "      <td>0</td>\n",
       "      <td>0</td>\n",
       "      <td>0</td>\n",
       "      <td>0</td>\n",
       "      <td>0</td>\n",
       "      <td>0</td>\n",
       "      <td>0</td>\n",
       "      <td>...</td>\n",
       "      <td>0</td>\n",
       "      <td>0</td>\n",
       "      <td>0</td>\n",
       "      <td>0</td>\n",
       "      <td>0</td>\n",
       "      <td>0</td>\n",
       "      <td>0</td>\n",
       "      <td>0</td>\n",
       "      <td>0</td>\n",
       "      <td>0</td>\n",
       "    </tr>\n",
       "    <tr>\n",
       "      <th>1</th>\n",
       "      <td>0</td>\n",
       "      <td>0</td>\n",
       "      <td>0</td>\n",
       "      <td>0</td>\n",
       "      <td>0</td>\n",
       "      <td>0</td>\n",
       "      <td>0</td>\n",
       "      <td>0</td>\n",
       "      <td>0</td>\n",
       "      <td>0</td>\n",
       "      <td>...</td>\n",
       "      <td>0</td>\n",
       "      <td>0</td>\n",
       "      <td>0</td>\n",
       "      <td>0</td>\n",
       "      <td>0</td>\n",
       "      <td>0</td>\n",
       "      <td>0</td>\n",
       "      <td>0</td>\n",
       "      <td>0</td>\n",
       "      <td>0</td>\n",
       "    </tr>\n",
       "    <tr>\n",
       "      <th>2</th>\n",
       "      <td>0</td>\n",
       "      <td>0</td>\n",
       "      <td>0</td>\n",
       "      <td>0</td>\n",
       "      <td>0</td>\n",
       "      <td>0</td>\n",
       "      <td>0</td>\n",
       "      <td>0</td>\n",
       "      <td>0</td>\n",
       "      <td>0</td>\n",
       "      <td>...</td>\n",
       "      <td>0</td>\n",
       "      <td>0</td>\n",
       "      <td>0</td>\n",
       "      <td>0</td>\n",
       "      <td>0</td>\n",
       "      <td>0</td>\n",
       "      <td>0</td>\n",
       "      <td>0</td>\n",
       "      <td>0</td>\n",
       "      <td>0</td>\n",
       "    </tr>\n",
       "    <tr>\n",
       "      <th>3</th>\n",
       "      <td>0</td>\n",
       "      <td>0</td>\n",
       "      <td>0</td>\n",
       "      <td>0</td>\n",
       "      <td>0</td>\n",
       "      <td>0</td>\n",
       "      <td>0</td>\n",
       "      <td>0</td>\n",
       "      <td>0</td>\n",
       "      <td>0</td>\n",
       "      <td>...</td>\n",
       "      <td>0</td>\n",
       "      <td>0</td>\n",
       "      <td>0</td>\n",
       "      <td>0</td>\n",
       "      <td>0</td>\n",
       "      <td>0</td>\n",
       "      <td>0</td>\n",
       "      <td>0</td>\n",
       "      <td>0</td>\n",
       "      <td>0</td>\n",
       "    </tr>\n",
       "    <tr>\n",
       "      <th>4</th>\n",
       "      <td>0</td>\n",
       "      <td>0</td>\n",
       "      <td>0</td>\n",
       "      <td>0</td>\n",
       "      <td>0</td>\n",
       "      <td>0</td>\n",
       "      <td>0</td>\n",
       "      <td>0</td>\n",
       "      <td>0</td>\n",
       "      <td>0</td>\n",
       "      <td>...</td>\n",
       "      <td>0</td>\n",
       "      <td>0</td>\n",
       "      <td>0</td>\n",
       "      <td>0</td>\n",
       "      <td>0</td>\n",
       "      <td>0</td>\n",
       "      <td>0</td>\n",
       "      <td>0</td>\n",
       "      <td>0</td>\n",
       "      <td>0</td>\n",
       "    </tr>\n",
       "  </tbody>\n",
       "</table>\n",
       "<p>5 rows × 114 columns</p>\n",
       "</div>"
      ],
      "text/plain": [
       "   source_bow_f1  source_bow_f2  source_bow_f3  source_bow_f4  source_bow_f5  \\\n",
       "0              0              0              0              0              0   \n",
       "1              0              0              0              0              0   \n",
       "2              0              0              0              0              0   \n",
       "3              0              0              0              0              0   \n",
       "4              0              0              0              0              0   \n",
       "\n",
       "   source_bow_f6  source_bow_f7  source_bow_f8  source_bow_f9  source_bow_f10  \\\n",
       "0              0              0              0              0               0   \n",
       "1              0              0              0              0               0   \n",
       "2              0              0              0              0               0   \n",
       "3              0              0              0              0               0   \n",
       "4              0              0              0              0               0   \n",
       "\n",
       "        ...         source_bow_f105  source_bow_f106  source_bow_f107  \\\n",
       "0       ...                       0                0                0   \n",
       "1       ...                       0                0                0   \n",
       "2       ...                       0                0                0   \n",
       "3       ...                       0                0                0   \n",
       "4       ...                       0                0                0   \n",
       "\n",
       "   source_bow_f108  source_bow_f109  source_bow_f110  source_bow_f111  \\\n",
       "0                0                0                0                0   \n",
       "1                0                0                0                0   \n",
       "2                0                0                0                0   \n",
       "3                0                0                0                0   \n",
       "4                0                0                0                0   \n",
       "\n",
       "   source_bow_f112  source_bow_f113  source_bow_f114  \n",
       "0                0                0                0  \n",
       "1                0                0                0  \n",
       "2                0                0                0  \n",
       "3                0                0                0  \n",
       "4                0                0                0  \n",
       "\n",
       "[5 rows x 114 columns]"
      ]
     },
     "execution_count": 51,
     "metadata": {},
     "output_type": "execute_result"
    }
   ],
   "source": [
    "source_vec = pd.DataFrame(bow_weights,columns=['source_bow_f{}'.format(i) for i in range(1,115)])\n",
    "source_vec.head()"
   ]
  },
  {
   "cell_type": "code",
   "execution_count": 52,
   "metadata": {},
   "outputs": [],
   "source": [
    "source_vec.to_pickle('source_bow_vec.pkl')"
   ]
  },
  {
   "cell_type": "code",
   "execution_count": null,
   "metadata": {},
   "outputs": [],
   "source": []
  }
 ],
 "metadata": {
  "kernelspec": {
   "display_name": "Python 3",
   "language": "python",
   "name": "python3"
  },
  "language_info": {
   "codemirror_mode": {
    "name": "ipython",
    "version": 3
   },
   "file_extension": ".py",
   "mimetype": "text/x-python",
   "name": "python",
   "nbconvert_exporter": "python",
   "pygments_lexer": "ipython3",
   "version": "3.6.1"
  },
  "toc": {
   "base_numbering": 1,
   "nav_menu": {},
   "number_sections": true,
   "sideBar": true,
   "skip_h1_title": false,
   "title_cell": "Table of Contents",
   "title_sidebar": "Contents",
   "toc_cell": false,
   "toc_position": {
    "height": "calc(100% - 180px)",
    "left": "10px",
    "top": "150px",
    "width": "200px"
   },
   "toc_section_display": true,
   "toc_window_display": true
  }
 },
 "nbformat": 4,
 "nbformat_minor": 2
}
