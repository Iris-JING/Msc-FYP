{
 "cells": [
  {
   "cell_type": "markdown",
   "metadata": {
    "toc": true
   },
   "source": [
    "<h1>Table of Contents<span class=\"tocSkip\"></span></h1>\n",
    "<div class=\"toc\"><ul class=\"toc-item\"><li><span><a href=\"#Define-constants\" data-toc-modified-id=\"Define-constants-1\"><span class=\"toc-item-num\">1&nbsp;&nbsp;</span>Define constants</a></span><ul class=\"toc-item\"><li><span><a href=\"#Define-paths\" data-toc-modified-id=\"Define-paths-1.1\"><span class=\"toc-item-num\">1.1&nbsp;&nbsp;</span>Define paths</a></span></li></ul></li><li><span><a href=\"#Load-data\" data-toc-modified-id=\"Load-data-2\"><span class=\"toc-item-num\">2&nbsp;&nbsp;</span>Load data</a></span><ul class=\"toc-item\"><li><span><a href=\"#Load-features-and-fdump\" data-toc-modified-id=\"Load-features-and-fdump-2.1\"><span class=\"toc-item-num\">2.1&nbsp;&nbsp;</span>Load features and fdump</a></span></li><li><span><a href=\"#Load-NLP-data\" data-toc-modified-id=\"Load-NLP-data-2.2\"><span class=\"toc-item-num\">2.2&nbsp;&nbsp;</span>Load NLP data</a></span></li><li><span><a href=\"#Load-targets\" data-toc-modified-id=\"Load-targets-2.3\"><span class=\"toc-item-num\">2.3&nbsp;&nbsp;</span>Load targets</a></span><ul class=\"toc-item\"><li><span><a href=\"#Add-useful-columns\" data-toc-modified-id=\"Add-useful-columns-2.3.1\"><span class=\"toc-item-num\">2.3.1&nbsp;&nbsp;</span>Add useful columns</a></span></li></ul></li></ul></li><li><span><a href=\"#Build-data\" data-toc-modified-id=\"Build-data-3\"><span class=\"toc-item-num\">3&nbsp;&nbsp;</span>Build data</a></span><ul class=\"toc-item\"><li><span><a href=\"#Drop-head\" data-toc-modified-id=\"Drop-head-3.1\"><span class=\"toc-item-num\">3.1&nbsp;&nbsp;</span>Drop head</a></span></li><li><span><a href=\"#Join-NLP-features\" data-toc-modified-id=\"Join-NLP-features-3.2\"><span class=\"toc-item-num\">3.2&nbsp;&nbsp;</span>Join NLP features</a></span></li><li><span><a href=\"#Join-targets-and-features\" data-toc-modified-id=\"Join-targets-and-features-3.3\"><span class=\"toc-item-num\">3.3&nbsp;&nbsp;</span>Join targets and features</a></span></li><li><span><a href=\"#Fix-nans\" data-toc-modified-id=\"Fix-nans-3.4\"><span class=\"toc-item-num\">3.4&nbsp;&nbsp;</span>Fix nans</a></span></li></ul></li><li><span><a href=\"#Save-reports-dataset\" data-toc-modified-id=\"Save-reports-dataset-4\"><span class=\"toc-item-num\">4&nbsp;&nbsp;</span>Save reports dataset</a></span></li><li><span><a href=\"#Save-data\" data-toc-modified-id=\"Save-data-5\"><span class=\"toc-item-num\">5&nbsp;&nbsp;</span>Save data</a></span></li></ul></div>"
   ]
  },
  {
   "cell_type": "code",
   "execution_count": 1,
   "metadata": {
    "ExecuteTime": {
     "end_time": "2018-08-09T14:57:11.395698Z",
     "start_time": "2018-08-09T14:57:11.164405Z"
    }
   },
   "outputs": [],
   "source": [
    "%matplotlib inline\n",
    "%load_ext autoreload\n",
    "%autoreload 2"
   ]
  },
  {
   "cell_type": "code",
   "execution_count": 2,
   "metadata": {
    "ExecuteTime": {
     "end_time": "2018-08-09T14:57:12.556671Z",
     "start_time": "2018-08-09T14:57:11.397356Z"
    }
   },
   "outputs": [
    {
     "name": "stderr",
     "output_type": "stream",
     "text": [
      "/home/cqc5/anaconda3/envs/tensorflow_cpu/lib/python3.6/importlib/_bootstrap.py:205: RuntimeWarning: compiletime version 3.5 of module 'tensorflow.python.framework.fast_tensor_util' does not match runtime version 3.6\n",
      "  return f(*args, **kwds)\n",
      "/home/cqc5/anaconda3/envs/tensorflow_cpu/lib/python3.6/site-packages/h5py/__init__.py:36: FutureWarning: Conversion of the second argument of issubdtype from `float` to `np.floating` is deprecated. In future, it will be treated as `np.float64 == np.dtype(float).type`.\n",
      "  from ._conv import register_converters as _register_converters\n",
      "/home/cqc5/anaconda3/envs/tensorflow_cpu/lib/python3.6/importlib/_bootstrap.py:205: RuntimeWarning: numpy.dtype size changed, may indicate binary incompatibility. Expected 96, got 88\n",
      "  return f(*args, **kwds)\n"
     ]
    }
   ],
   "source": [
    "from arrow_utils import *"
   ]
  },
  {
   "cell_type": "markdown",
   "metadata": {
    "ExecuteTime": {
     "end_time": "2018-07-19T14:48:20.310906Z",
     "start_time": "2018-07-19T14:48:20.295809Z"
    }
   },
   "source": [
    "# Define constants"
   ]
  },
  {
   "cell_type": "code",
   "execution_count": 3,
   "metadata": {
    "ExecuteTime": {
     "end_time": "2018-08-09T14:57:12.576439Z",
     "start_time": "2018-08-09T14:57:12.558001Z"
    }
   },
   "outputs": [],
   "source": [
    "VOLUME = 50\n",
    "RES='5S'"
   ]
  },
  {
   "cell_type": "markdown",
   "metadata": {
    "ExecuteTime": {
     "end_time": "2018-07-19T14:48:40.724102Z",
     "start_time": "2018-07-19T14:48:40.709674Z"
    }
   },
   "source": [
    "## Define paths"
   ]
  },
  {
   "cell_type": "code",
   "execution_count": 4,
   "metadata": {
    "ExecuteTime": {
     "end_time": "2018-08-09T14:57:12.594877Z",
     "start_time": "2018-08-09T14:57:12.577855Z"
    }
   },
   "outputs": [],
   "source": [
    "target_save_folder = '../processed_data/targets/data_vol{}_bar_{}/'.format(VOLUME, RES)"
   ]
  },
  {
   "cell_type": "code",
   "execution_count": 5,
   "metadata": {
    "ExecuteTime": {
     "end_time": "2018-08-09T14:57:12.615382Z",
     "start_time": "2018-08-09T14:57:12.596160Z"
    }
   },
   "outputs": [
    {
     "data": {
      "text/plain": [
       "['vb100_vf3_volatility_VWAP_200.pickle',\n",
       " 'vb200_vf2_volatility_VWAP_200.pickle',\n",
       " 'volatility_VWAP_200',\n",
       " 'vb50_vf2_volatility_VWAP_200.pickle',\n",
       " 'vb200_vf3_volatility_VWAP_200.pickle',\n",
       " 'vb100_vf2_volatility_VWAP_200.pickle',\n",
       " 'vb50_vf3_volatility_VWAP_200.pickle']"
      ]
     },
     "execution_count": 5,
     "metadata": {},
     "output_type": "execute_result"
    }
   ],
   "source": [
    "os.listdir('../processed_data/targets/data_vol{}_bar_{}/'.format(VOLUME, RES))"
   ]
  },
  {
   "cell_type": "code",
   "execution_count": 6,
   "metadata": {
    "ExecuteTime": {
     "end_time": "2018-08-09T14:57:12.644935Z",
     "start_time": "2018-08-09T14:57:12.616747Z"
    }
   },
   "outputs": [],
   "source": [
    "feature_save_folder = '../processed_data/features/data_vol{}_bar_{}/'.format(VOLUME, RES)\n",
    "feature_saver = DataSaver(feature_save_folder)\n",
    "\n",
    "target_save_folder = '../processed_data/targets/data_vol{}_bar_{}/'.format(VOLUME, RES)\n",
    "target_folders=[target_save_folder + name +'/' for name in os.listdir(target_save_folder) if os.path.isdir(target_save_folder + name)]\n",
    "target_savers = {k:DataSaver(k) for k in target_folders}\n",
    "\n",
    "dataset_folder = '../training/data/data_vol{}_bar_{}/'.format(VOLUME, RES)\n",
    "data_saver = DataSaver(dataset_folder)"
   ]
  },
  {
   "cell_type": "markdown",
   "metadata": {},
   "source": [
    "# Load data"
   ]
  },
  {
   "cell_type": "markdown",
   "metadata": {},
   "source": [
    "## Load features and fdump"
   ]
  },
  {
   "cell_type": "code",
   "execution_count": 7,
   "metadata": {
    "ExecuteTime": {
     "end_time": "2018-08-09T14:57:17.105433Z",
     "start_time": "2018-08-09T14:57:12.646364Z"
    }
   },
   "outputs": [],
   "source": [
    "feature_bar = feature_saver.load_volumebar()\n",
    "fdump = feature_saver.load_fdump()"
   ]
  },
  {
   "cell_type": "code",
   "execution_count": 8,
   "metadata": {
    "ExecuteTime": {
     "end_time": "2018-08-09T14:57:22.662709Z",
     "start_time": "2018-08-09T14:57:17.106911Z"
    }
   },
   "outputs": [
    {
     "data": {
      "text/plain": [
       "(1457134, 229)"
      ]
     },
     "execution_count": 8,
     "metadata": {},
     "output_type": "execute_result"
    }
   ],
   "source": [
    "feature_bar.df.loc[(feature_bar.df.index<=datetime.datetime(2016,7,8)) & (feature_bar.df.index>=datetime.datetime(2012,7,8))].shape"
   ]
  },
  {
   "cell_type": "code",
   "execution_count": 22,
   "metadata": {
    "ExecuteTime": {
     "end_time": "2018-08-09T15:01:40.396134Z",
     "start_time": "2018-08-09T15:01:38.704019Z"
    }
   },
   "outputs": [],
   "source": [
    "data = feature_bar.df[fdump['all_feats']]"
   ]
  },
  {
   "cell_type": "markdown",
   "metadata": {
    "ExecuteTime": {
     "end_time": "2018-08-09T14:32:20.739353Z",
     "start_time": "2018-08-09T14:32:20.716536Z"
    }
   },
   "source": [
    "## Load NLP data"
   ]
  },
  {
   "cell_type": "code",
   "execution_count": 23,
   "metadata": {
    "ExecuteTime": {
     "end_time": "2018-08-09T15:01:42.654282Z",
     "start_time": "2018-08-09T15:01:42.589403Z"
    }
   },
   "outputs": [],
   "source": [
    "nlp_feats = pd.read_pickle('./../processed_data/features/nlp_reports/nlp_features_with_bucket_ts.pkl')\n",
    "nlp_feats.drop('Volume_bucket_ID', inplace=True, axis=1)"
   ]
  },
  {
   "cell_type": "markdown",
   "metadata": {},
   "source": [
    "## Load targets"
   ]
  },
  {
   "cell_type": "code",
   "execution_count": 24,
   "metadata": {
    "ExecuteTime": {
     "end_time": "2018-08-09T15:01:44.303506Z",
     "start_time": "2018-08-09T15:01:43.029108Z"
    }
   },
   "outputs": [],
   "source": [
    "target_df_ls = [target_savers[k].load_df() for k in target_savers.keys()]\n",
    "target_df = reduce(lambda left,right: left.join(right,how='outer'), target_df_ls)"
   ]
  },
  {
   "cell_type": "markdown",
   "metadata": {},
   "source": [
    "### Add useful columns"
   ]
  },
  {
   "cell_type": "code",
   "execution_count": 25,
   "metadata": {
    "ExecuteTime": {
     "end_time": "2018-08-09T15:01:44.422130Z",
     "start_time": "2018-08-09T15:01:44.305389Z"
    }
   },
   "outputs": [],
   "source": [
    "idle_target_col = [c for c in target_df.columns if 'target_0' in c]\n",
    "for c in idle_target_col:\n",
    "    target_df[c.replace('target_0', 'target_not0')] = 1-target_df[c]\n",
    "    target_df[c.replace('target_0', 'sample_weights_not0')] = (1-target_df[c])*target_df[c.replace('target_0', 'sample_weights')]"
   ]
  },
  {
   "cell_type": "markdown",
   "metadata": {},
   "source": [
    "# Build data"
   ]
  },
  {
   "cell_type": "markdown",
   "metadata": {
    "ExecuteTime": {
     "end_time": "2018-07-19T14:53:56.127625Z",
     "start_time": "2018-07-19T14:53:56.090949Z"
    }
   },
   "source": [
    "## Drop head"
   ]
  },
  {
   "cell_type": "code",
   "execution_count": 26,
   "metadata": {
    "ExecuteTime": {
     "end_time": "2018-08-09T15:01:44.864393Z",
     "start_time": "2018-08-09T15:01:44.821277Z"
    }
   },
   "outputs": [],
   "source": [
    "rows_to_skip = fdump['rows_to_skip']"
   ]
  },
  {
   "cell_type": "code",
   "execution_count": 27,
   "metadata": {
    "ExecuteTime": {
     "end_time": "2018-08-09T15:01:45.000273Z",
     "start_time": "2018-08-09T15:01:44.982109Z"
    }
   },
   "outputs": [],
   "source": [
    "data = data.iloc[rows_to_skip+1:,]"
   ]
  },
  {
   "cell_type": "markdown",
   "metadata": {},
   "source": [
    "## Join NLP features"
   ]
  },
  {
   "cell_type": "code",
   "execution_count": 28,
   "metadata": {
    "ExecuteTime": {
     "end_time": "2018-08-09T15:01:45.859446Z",
     "start_time": "2018-08-09T15:01:45.837465Z"
    }
   },
   "outputs": [],
   "source": [
    "nlp_feats.set_index('bucket_end', inplace=True)"
   ]
  },
  {
   "cell_type": "code",
   "execution_count": 59,
   "metadata": {
    "ExecuteTime": {
     "end_time": "2018-08-09T15:25:55.058358Z",
     "start_time": "2018-08-09T15:25:55.036974Z"
    }
   },
   "outputs": [],
   "source": [
    "fdump['feats']['nlp'] = list(nlp_feats.columns)\n",
    "fdump['all_feats']+=list(nlp_feats.columns)"
   ]
  },
  {
   "cell_type": "code",
   "execution_count": 29,
   "metadata": {
    "ExecuteTime": {
     "end_time": "2018-08-09T15:02:39.142011Z",
     "start_time": "2018-08-09T15:01:46.429594Z"
    }
   },
   "outputs": [],
   "source": [
    "data = data.join(nlp_feats)"
   ]
  },
  {
   "cell_type": "markdown",
   "metadata": {
    "ExecuteTime": {
     "end_time": "2018-07-19T14:54:07.182760Z",
     "start_time": "2018-07-19T14:54:07.146844Z"
    }
   },
   "source": [
    "## Join targets and features"
   ]
  },
  {
   "cell_type": "code",
   "execution_count": 30,
   "metadata": {
    "ExecuteTime": {
     "end_time": "2018-08-09T15:02:52.594136Z",
     "start_time": "2018-08-09T15:02:39.143356Z"
    }
   },
   "outputs": [],
   "source": [
    "data = data.join(target_df)"
   ]
  },
  {
   "cell_type": "markdown",
   "metadata": {
    "ExecuteTime": {
     "end_time": "2018-07-19T14:54:19.464556Z",
     "start_time": "2018-07-19T14:54:19.426726Z"
    }
   },
   "source": [
    "## Fix nans"
   ]
  },
  {
   "cell_type": "code",
   "execution_count": 31,
   "metadata": {
    "ExecuteTime": {
     "end_time": "2018-08-09T15:03:49.786933Z",
     "start_time": "2018-08-09T15:02:52.595622Z"
    }
   },
   "outputs": [],
   "source": [
    "target_cols = [c for c in data.columns if ('target' in c) | ('sample_weights' in c) | ('futureReturn' in c)]\n",
    "\n",
    "data[target_cols] = data[target_cols].fillna(0)"
   ]
  },
  {
   "cell_type": "code",
   "execution_count": 32,
   "metadata": {
    "ExecuteTime": {
     "end_time": "2018-08-09T15:03:49.962495Z",
     "start_time": "2018-08-09T15:03:49.788816Z"
    }
   },
   "outputs": [],
   "source": [
    "data['is_report'] = data['is_report'].fillna(False)"
   ]
  },
  {
   "cell_type": "code",
   "execution_count": 33,
   "metadata": {
    "ExecuteTime": {
     "end_time": "2018-08-09T15:04:58.493275Z",
     "start_time": "2018-08-09T15:03:49.964158Z"
    },
    "scrolled": true
   },
   "outputs": [
    {
     "data": {
      "text/html": [
       "<div>\n",
       "<style>\n",
       "    .dataframe thead tr:only-child th {\n",
       "        text-align: right;\n",
       "    }\n",
       "\n",
       "    .dataframe thead th {\n",
       "        text-align: left;\n",
       "    }\n",
       "\n",
       "    .dataframe tbody tr th {\n",
       "        vertical-align: top;\n",
       "    }\n",
       "</style>\n",
       "<table border=\"1\" class=\"dataframe\">\n",
       "  <thead>\n",
       "    <tr style=\"text-align: right;\">\n",
       "      <th></th>\n",
       "      <th>counts</th>\n",
       "    </tr>\n",
       "  </thead>\n",
       "  <tbody>\n",
       "    <tr>\n",
       "      <th>Pre_Doc2Vec_f1</th>\n",
       "      <td>2458394</td>\n",
       "    </tr>\n",
       "    <tr>\n",
       "      <th>Pre_Doc2Vec_f2</th>\n",
       "      <td>2458394</td>\n",
       "    </tr>\n",
       "    <tr>\n",
       "      <th>Pre_Doc2Vec_f3</th>\n",
       "      <td>2458394</td>\n",
       "    </tr>\n",
       "    <tr>\n",
       "      <th>Pre_Doc2Vec_f4</th>\n",
       "      <td>2458394</td>\n",
       "    </tr>\n",
       "    <tr>\n",
       "      <th>Pre_Doc2Vec_f5</th>\n",
       "      <td>2458394</td>\n",
       "    </tr>\n",
       "    <tr>\n",
       "      <th>Pre_Doc2Vec_f6</th>\n",
       "      <td>2458394</td>\n",
       "    </tr>\n",
       "    <tr>\n",
       "      <th>Pre_Doc2Vec_f7</th>\n",
       "      <td>2458394</td>\n",
       "    </tr>\n",
       "    <tr>\n",
       "      <th>Pre_Doc2Vec_f8</th>\n",
       "      <td>2458394</td>\n",
       "    </tr>\n",
       "    <tr>\n",
       "      <th>Pre_Doc2Vec_f9</th>\n",
       "      <td>2458394</td>\n",
       "    </tr>\n",
       "    <tr>\n",
       "      <th>Pre_Doc2Vec_f10</th>\n",
       "      <td>2458394</td>\n",
       "    </tr>\n",
       "    <tr>\n",
       "      <th>Pre_Doc2Vec_f11</th>\n",
       "      <td>2458394</td>\n",
       "    </tr>\n",
       "    <tr>\n",
       "      <th>Pre_Doc2Vec_f12</th>\n",
       "      <td>2458394</td>\n",
       "    </tr>\n",
       "    <tr>\n",
       "      <th>Pre_Doc2Vec_f13</th>\n",
       "      <td>2458394</td>\n",
       "    </tr>\n",
       "    <tr>\n",
       "      <th>Pre_Doc2Vec_f14</th>\n",
       "      <td>2458394</td>\n",
       "    </tr>\n",
       "    <tr>\n",
       "      <th>Pre_Doc2Vec_f15</th>\n",
       "      <td>2458394</td>\n",
       "    </tr>\n",
       "    <tr>\n",
       "      <th>Pre_Doc2Vec_f16</th>\n",
       "      <td>2458394</td>\n",
       "    </tr>\n",
       "    <tr>\n",
       "      <th>Pre_Doc2Vec_f17</th>\n",
       "      <td>2458394</td>\n",
       "    </tr>\n",
       "    <tr>\n",
       "      <th>Pre_Doc2Vec_f18</th>\n",
       "      <td>2458394</td>\n",
       "    </tr>\n",
       "    <tr>\n",
       "      <th>Pre_Doc2Vec_f19</th>\n",
       "      <td>2458394</td>\n",
       "    </tr>\n",
       "    <tr>\n",
       "      <th>Pre_Doc2Vec_f20</th>\n",
       "      <td>2458394</td>\n",
       "    </tr>\n",
       "    <tr>\n",
       "      <th>Pre_Doc2Vec_f21</th>\n",
       "      <td>2458394</td>\n",
       "    </tr>\n",
       "    <tr>\n",
       "      <th>Pre_Doc2Vec_f22</th>\n",
       "      <td>2458394</td>\n",
       "    </tr>\n",
       "    <tr>\n",
       "      <th>Pre_Doc2Vec_f23</th>\n",
       "      <td>2458394</td>\n",
       "    </tr>\n",
       "    <tr>\n",
       "      <th>Pre_Doc2Vec_f24</th>\n",
       "      <td>2458394</td>\n",
       "    </tr>\n",
       "    <tr>\n",
       "      <th>Pre_Doc2Vec_f25</th>\n",
       "      <td>2458394</td>\n",
       "    </tr>\n",
       "    <tr>\n",
       "      <th>Pre_Doc2Vec_f26</th>\n",
       "      <td>2458394</td>\n",
       "    </tr>\n",
       "    <tr>\n",
       "      <th>Pre_Doc2Vec_f27</th>\n",
       "      <td>2458394</td>\n",
       "    </tr>\n",
       "    <tr>\n",
       "      <th>Pre_Doc2Vec_f28</th>\n",
       "      <td>2458394</td>\n",
       "    </tr>\n",
       "    <tr>\n",
       "      <th>Pre_Doc2Vec_f29</th>\n",
       "      <td>2458394</td>\n",
       "    </tr>\n",
       "    <tr>\n",
       "      <th>Pre_Doc2Vec_f30</th>\n",
       "      <td>2458394</td>\n",
       "    </tr>\n",
       "    <tr>\n",
       "      <th>...</th>\n",
       "      <td>...</td>\n",
       "    </tr>\n",
       "    <tr>\n",
       "      <th>gram_f272</th>\n",
       "      <td>2458394</td>\n",
       "    </tr>\n",
       "    <tr>\n",
       "      <th>gram_f273</th>\n",
       "      <td>2458394</td>\n",
       "    </tr>\n",
       "    <tr>\n",
       "      <th>gram_f274</th>\n",
       "      <td>2458394</td>\n",
       "    </tr>\n",
       "    <tr>\n",
       "      <th>gram_f275</th>\n",
       "      <td>2458394</td>\n",
       "    </tr>\n",
       "    <tr>\n",
       "      <th>gram_f276</th>\n",
       "      <td>2458394</td>\n",
       "    </tr>\n",
       "    <tr>\n",
       "      <th>gram_f277</th>\n",
       "      <td>2458394</td>\n",
       "    </tr>\n",
       "    <tr>\n",
       "      <th>gram_f278</th>\n",
       "      <td>2458394</td>\n",
       "    </tr>\n",
       "    <tr>\n",
       "      <th>gram_f279</th>\n",
       "      <td>2458394</td>\n",
       "    </tr>\n",
       "    <tr>\n",
       "      <th>gram_f280</th>\n",
       "      <td>2458394</td>\n",
       "    </tr>\n",
       "    <tr>\n",
       "      <th>gram_f281</th>\n",
       "      <td>2458394</td>\n",
       "    </tr>\n",
       "    <tr>\n",
       "      <th>gram_f282</th>\n",
       "      <td>2458394</td>\n",
       "    </tr>\n",
       "    <tr>\n",
       "      <th>gram_f283</th>\n",
       "      <td>2458394</td>\n",
       "    </tr>\n",
       "    <tr>\n",
       "      <th>gram_f284</th>\n",
       "      <td>2458394</td>\n",
       "    </tr>\n",
       "    <tr>\n",
       "      <th>gram_f285</th>\n",
       "      <td>2458394</td>\n",
       "    </tr>\n",
       "    <tr>\n",
       "      <th>gram_f286</th>\n",
       "      <td>2458394</td>\n",
       "    </tr>\n",
       "    <tr>\n",
       "      <th>gram_f287</th>\n",
       "      <td>2458394</td>\n",
       "    </tr>\n",
       "    <tr>\n",
       "      <th>gram_f288</th>\n",
       "      <td>2458394</td>\n",
       "    </tr>\n",
       "    <tr>\n",
       "      <th>gram_f289</th>\n",
       "      <td>2458394</td>\n",
       "    </tr>\n",
       "    <tr>\n",
       "      <th>gram_f290</th>\n",
       "      <td>2458394</td>\n",
       "    </tr>\n",
       "    <tr>\n",
       "      <th>gram_f291</th>\n",
       "      <td>2458394</td>\n",
       "    </tr>\n",
       "    <tr>\n",
       "      <th>gram_f292</th>\n",
       "      <td>2458394</td>\n",
       "    </tr>\n",
       "    <tr>\n",
       "      <th>gram_f293</th>\n",
       "      <td>2458394</td>\n",
       "    </tr>\n",
       "    <tr>\n",
       "      <th>gram_f294</th>\n",
       "      <td>2458394</td>\n",
       "    </tr>\n",
       "    <tr>\n",
       "      <th>gram_f295</th>\n",
       "      <td>2458394</td>\n",
       "    </tr>\n",
       "    <tr>\n",
       "      <th>gram_f296</th>\n",
       "      <td>2458394</td>\n",
       "    </tr>\n",
       "    <tr>\n",
       "      <th>gram_f297</th>\n",
       "      <td>2458394</td>\n",
       "    </tr>\n",
       "    <tr>\n",
       "      <th>gram_f298</th>\n",
       "      <td>2458394</td>\n",
       "    </tr>\n",
       "    <tr>\n",
       "      <th>gram_f299</th>\n",
       "      <td>2458394</td>\n",
       "    </tr>\n",
       "    <tr>\n",
       "      <th>gram_f300</th>\n",
       "      <td>2458394</td>\n",
       "    </tr>\n",
       "    <tr>\n",
       "      <th>volatility_VWAP_200</th>\n",
       "      <td>754974</td>\n",
       "    </tr>\n",
       "  </tbody>\n",
       "</table>\n",
       "<p>1327 rows × 1 columns</p>\n",
       "</div>"
      ],
      "text/plain": [
       "                      counts\n",
       "Pre_Doc2Vec_f1       2458394\n",
       "Pre_Doc2Vec_f2       2458394\n",
       "Pre_Doc2Vec_f3       2458394\n",
       "Pre_Doc2Vec_f4       2458394\n",
       "Pre_Doc2Vec_f5       2458394\n",
       "Pre_Doc2Vec_f6       2458394\n",
       "Pre_Doc2Vec_f7       2458394\n",
       "Pre_Doc2Vec_f8       2458394\n",
       "Pre_Doc2Vec_f9       2458394\n",
       "Pre_Doc2Vec_f10      2458394\n",
       "Pre_Doc2Vec_f11      2458394\n",
       "Pre_Doc2Vec_f12      2458394\n",
       "Pre_Doc2Vec_f13      2458394\n",
       "Pre_Doc2Vec_f14      2458394\n",
       "Pre_Doc2Vec_f15      2458394\n",
       "Pre_Doc2Vec_f16      2458394\n",
       "Pre_Doc2Vec_f17      2458394\n",
       "Pre_Doc2Vec_f18      2458394\n",
       "Pre_Doc2Vec_f19      2458394\n",
       "Pre_Doc2Vec_f20      2458394\n",
       "Pre_Doc2Vec_f21      2458394\n",
       "Pre_Doc2Vec_f22      2458394\n",
       "Pre_Doc2Vec_f23      2458394\n",
       "Pre_Doc2Vec_f24      2458394\n",
       "Pre_Doc2Vec_f25      2458394\n",
       "Pre_Doc2Vec_f26      2458394\n",
       "Pre_Doc2Vec_f27      2458394\n",
       "Pre_Doc2Vec_f28      2458394\n",
       "Pre_Doc2Vec_f29      2458394\n",
       "Pre_Doc2Vec_f30      2458394\n",
       "...                      ...\n",
       "gram_f272            2458394\n",
       "gram_f273            2458394\n",
       "gram_f274            2458394\n",
       "gram_f275            2458394\n",
       "gram_f276            2458394\n",
       "gram_f277            2458394\n",
       "gram_f278            2458394\n",
       "gram_f279            2458394\n",
       "gram_f280            2458394\n",
       "gram_f281            2458394\n",
       "gram_f282            2458394\n",
       "gram_f283            2458394\n",
       "gram_f284            2458394\n",
       "gram_f285            2458394\n",
       "gram_f286            2458394\n",
       "gram_f287            2458394\n",
       "gram_f288            2458394\n",
       "gram_f289            2458394\n",
       "gram_f290            2458394\n",
       "gram_f291            2458394\n",
       "gram_f292            2458394\n",
       "gram_f293            2458394\n",
       "gram_f294            2458394\n",
       "gram_f295            2458394\n",
       "gram_f296            2458394\n",
       "gram_f297            2458394\n",
       "gram_f298            2458394\n",
       "gram_f299            2458394\n",
       "gram_f300            2458394\n",
       "volatility_VWAP_200   754974\n",
       "\n",
       "[1327 rows x 1 columns]"
      ]
     },
     "execution_count": 33,
     "metadata": {},
     "output_type": "execute_result"
    }
   ],
   "source": [
    "data.isnull().sum().to_frame('counts').query('counts>0')"
   ]
  },
  {
   "cell_type": "code",
   "execution_count": 34,
   "metadata": {
    "ExecuteTime": {
     "end_time": "2018-08-09T15:04:58.536365Z",
     "start_time": "2018-08-09T15:04:58.494490Z"
    }
   },
   "outputs": [
    {
     "data": {
      "text/html": [
       "<div>\n",
       "<style>\n",
       "    .dataframe thead tr:only-child th {\n",
       "        text-align: right;\n",
       "    }\n",
       "\n",
       "    .dataframe thead th {\n",
       "        text-align: left;\n",
       "    }\n",
       "\n",
       "    .dataframe tbody tr th {\n",
       "        vertical-align: top;\n",
       "    }\n",
       "</style>\n",
       "<table border=\"1\" class=\"dataframe\">\n",
       "  <thead>\n",
       "    <tr style=\"text-align: right;\">\n",
       "      <th></th>\n",
       "      <th>CrossBarVol_VWAP_100R</th>\n",
       "      <th>RelDelta_EWMA5R_VWAP</th>\n",
       "      <th>LogRet_1R_VWAP</th>\n",
       "      <th>MACD200R10R_Close</th>\n",
       "      <th>EWMA25R_NormCORange</th>\n",
       "      <th>elapsed_5_minutes</th>\n",
       "      <th>VolatilityDelta_EWMA50R_VWAP</th>\n",
       "      <th>SI_MPC_50</th>\n",
       "      <th>Sharpe_50R_Close</th>\n",
       "      <th>Sharpe_50R_FD_VWAP</th>\n",
       "      <th>...</th>\n",
       "      <th>target_not0_vb50_vf3_volatility_VWAP_200</th>\n",
       "      <th>sample_weights_not0_vb50_vf3_volatility_VWAP_200</th>\n",
       "      <th>target_not0_vb100_vf2_volatility_VWAP_200</th>\n",
       "      <th>sample_weights_not0_vb100_vf2_volatility_VWAP_200</th>\n",
       "      <th>target_not0_vb100_vf3_volatility_VWAP_200</th>\n",
       "      <th>sample_weights_not0_vb100_vf3_volatility_VWAP_200</th>\n",
       "      <th>target_not0_vb200_vf2_volatility_VWAP_200</th>\n",
       "      <th>sample_weights_not0_vb200_vf2_volatility_VWAP_200</th>\n",
       "      <th>target_not0_vb200_vf3_volatility_VWAP_200</th>\n",
       "      <th>sample_weights_not0_vb200_vf3_volatility_VWAP_200</th>\n",
       "    </tr>\n",
       "    <tr>\n",
       "      <th>bucket_end</th>\n",
       "      <th></th>\n",
       "      <th></th>\n",
       "      <th></th>\n",
       "      <th></th>\n",
       "      <th></th>\n",
       "      <th></th>\n",
       "      <th></th>\n",
       "      <th></th>\n",
       "      <th></th>\n",
       "      <th></th>\n",
       "      <th></th>\n",
       "      <th></th>\n",
       "      <th></th>\n",
       "      <th></th>\n",
       "      <th></th>\n",
       "      <th></th>\n",
       "      <th></th>\n",
       "      <th></th>\n",
       "      <th></th>\n",
       "      <th></th>\n",
       "      <th></th>\n",
       "    </tr>\n",
       "  </thead>\n",
       "  <tbody>\n",
       "    <tr>\n",
       "      <th>2017-10-13 21:46:00</th>\n",
       "      <td>0.046628</td>\n",
       "      <td>0.000403</td>\n",
       "      <td>0.000210</td>\n",
       "      <td>0.125327</td>\n",
       "      <td>0.000022</td>\n",
       "      <td>1305</td>\n",
       "      <td>0.759657</td>\n",
       "      <td>0.018104</td>\n",
       "      <td>0.816649</td>\n",
       "      <td>0.425613</td>\n",
       "      <td>...</td>\n",
       "      <td>0.0</td>\n",
       "      <td>0.0</td>\n",
       "      <td>0.0</td>\n",
       "      <td>0.0</td>\n",
       "      <td>0.0</td>\n",
       "      <td>0.0</td>\n",
       "      <td>0.0</td>\n",
       "      <td>0.0</td>\n",
       "      <td>0.0</td>\n",
       "      <td>0.0</td>\n",
       "    </tr>\n",
       "    <tr>\n",
       "      <th>2017-10-13 21:49:35</th>\n",
       "      <td>0.044337</td>\n",
       "      <td>0.000441</td>\n",
       "      <td>0.000103</td>\n",
       "      <td>0.127230</td>\n",
       "      <td>0.000021</td>\n",
       "      <td>1305</td>\n",
       "      <td>0.793079</td>\n",
       "      <td>0.000002</td>\n",
       "      <td>0.796660</td>\n",
       "      <td>0.349574</td>\n",
       "      <td>...</td>\n",
       "      <td>0.0</td>\n",
       "      <td>0.0</td>\n",
       "      <td>0.0</td>\n",
       "      <td>0.0</td>\n",
       "      <td>0.0</td>\n",
       "      <td>0.0</td>\n",
       "      <td>0.0</td>\n",
       "      <td>0.0</td>\n",
       "      <td>0.0</td>\n",
       "      <td>0.0</td>\n",
       "    </tr>\n",
       "    <tr>\n",
       "      <th>2017-10-13 21:53:10</th>\n",
       "      <td>0.042685</td>\n",
       "      <td>0.000052</td>\n",
       "      <td>-0.000381</td>\n",
       "      <td>0.126582</td>\n",
       "      <td>-0.000002</td>\n",
       "      <td>1310</td>\n",
       "      <td>0.624544</td>\n",
       "      <td>-0.011077</td>\n",
       "      <td>0.227769</td>\n",
       "      <td>-0.133915</td>\n",
       "      <td>...</td>\n",
       "      <td>0.0</td>\n",
       "      <td>0.0</td>\n",
       "      <td>0.0</td>\n",
       "      <td>0.0</td>\n",
       "      <td>0.0</td>\n",
       "      <td>0.0</td>\n",
       "      <td>0.0</td>\n",
       "      <td>0.0</td>\n",
       "      <td>0.0</td>\n",
       "      <td>0.0</td>\n",
       "    </tr>\n",
       "    <tr>\n",
       "      <th>2017-10-13 22:01:40</th>\n",
       "      <td>0.041387</td>\n",
       "      <td>0.000115</td>\n",
       "      <td>0.000080</td>\n",
       "      <td>0.126961</td>\n",
       "      <td>0.000006</td>\n",
       "      <td>1320</td>\n",
       "      <td>0.651657</td>\n",
       "      <td>0.017482</td>\n",
       "      <td>0.281880</td>\n",
       "      <td>-0.025162</td>\n",
       "      <td>...</td>\n",
       "      <td>0.0</td>\n",
       "      <td>0.0</td>\n",
       "      <td>0.0</td>\n",
       "      <td>0.0</td>\n",
       "      <td>0.0</td>\n",
       "      <td>0.0</td>\n",
       "      <td>0.0</td>\n",
       "      <td>0.0</td>\n",
       "      <td>0.0</td>\n",
       "      <td>0.0</td>\n",
       "    </tr>\n",
       "    <tr>\n",
       "      <th>2017-10-13 22:29:05</th>\n",
       "      <td>0.040655</td>\n",
       "      <td>0.000576</td>\n",
       "      <td>0.000546</td>\n",
       "      <td>0.131908</td>\n",
       "      <td>0.000041</td>\n",
       "      <td>1345</td>\n",
       "      <td>0.871482</td>\n",
       "      <td>0.107314</td>\n",
       "      <td>0.782174</td>\n",
       "      <td>0.222183</td>\n",
       "      <td>...</td>\n",
       "      <td>0.0</td>\n",
       "      <td>0.0</td>\n",
       "      <td>0.0</td>\n",
       "      <td>0.0</td>\n",
       "      <td>0.0</td>\n",
       "      <td>0.0</td>\n",
       "      <td>0.0</td>\n",
       "      <td>0.0</td>\n",
       "      <td>0.0</td>\n",
       "      <td>0.0</td>\n",
       "    </tr>\n",
       "  </tbody>\n",
       "</table>\n",
       "<p>5 rows × 1571 columns</p>\n",
       "</div>"
      ],
      "text/plain": [
       "                     CrossBarVol_VWAP_100R  RelDelta_EWMA5R_VWAP  \\\n",
       "bucket_end                                                         \n",
       "2017-10-13 21:46:00               0.046628              0.000403   \n",
       "2017-10-13 21:49:35               0.044337              0.000441   \n",
       "2017-10-13 21:53:10               0.042685              0.000052   \n",
       "2017-10-13 22:01:40               0.041387              0.000115   \n",
       "2017-10-13 22:29:05               0.040655              0.000576   \n",
       "\n",
       "                     LogRet_1R_VWAP  MACD200R10R_Close  EWMA25R_NormCORange  \\\n",
       "bucket_end                                                                    \n",
       "2017-10-13 21:46:00        0.000210           0.125327             0.000022   \n",
       "2017-10-13 21:49:35        0.000103           0.127230             0.000021   \n",
       "2017-10-13 21:53:10       -0.000381           0.126582            -0.000002   \n",
       "2017-10-13 22:01:40        0.000080           0.126961             0.000006   \n",
       "2017-10-13 22:29:05        0.000546           0.131908             0.000041   \n",
       "\n",
       "                     elapsed_5_minutes  VolatilityDelta_EWMA50R_VWAP  \\\n",
       "bucket_end                                                             \n",
       "2017-10-13 21:46:00               1305                      0.759657   \n",
       "2017-10-13 21:49:35               1305                      0.793079   \n",
       "2017-10-13 21:53:10               1310                      0.624544   \n",
       "2017-10-13 22:01:40               1320                      0.651657   \n",
       "2017-10-13 22:29:05               1345                      0.871482   \n",
       "\n",
       "                     SI_MPC_50  Sharpe_50R_Close  Sharpe_50R_FD_VWAP  \\\n",
       "bucket_end                                                             \n",
       "2017-10-13 21:46:00   0.018104          0.816649            0.425613   \n",
       "2017-10-13 21:49:35   0.000002          0.796660            0.349574   \n",
       "2017-10-13 21:53:10  -0.011077          0.227769           -0.133915   \n",
       "2017-10-13 22:01:40   0.017482          0.281880           -0.025162   \n",
       "2017-10-13 22:29:05   0.107314          0.782174            0.222183   \n",
       "\n",
       "                                           ...                          \\\n",
       "bucket_end                                 ...                           \n",
       "2017-10-13 21:46:00                        ...                           \n",
       "2017-10-13 21:49:35                        ...                           \n",
       "2017-10-13 21:53:10                        ...                           \n",
       "2017-10-13 22:01:40                        ...                           \n",
       "2017-10-13 22:29:05                        ...                           \n",
       "\n",
       "                     target_not0_vb50_vf3_volatility_VWAP_200  \\\n",
       "bucket_end                                                      \n",
       "2017-10-13 21:46:00                                       0.0   \n",
       "2017-10-13 21:49:35                                       0.0   \n",
       "2017-10-13 21:53:10                                       0.0   \n",
       "2017-10-13 22:01:40                                       0.0   \n",
       "2017-10-13 22:29:05                                       0.0   \n",
       "\n",
       "                     sample_weights_not0_vb50_vf3_volatility_VWAP_200  \\\n",
       "bucket_end                                                              \n",
       "2017-10-13 21:46:00                                               0.0   \n",
       "2017-10-13 21:49:35                                               0.0   \n",
       "2017-10-13 21:53:10                                               0.0   \n",
       "2017-10-13 22:01:40                                               0.0   \n",
       "2017-10-13 22:29:05                                               0.0   \n",
       "\n",
       "                     target_not0_vb100_vf2_volatility_VWAP_200  \\\n",
       "bucket_end                                                       \n",
       "2017-10-13 21:46:00                                        0.0   \n",
       "2017-10-13 21:49:35                                        0.0   \n",
       "2017-10-13 21:53:10                                        0.0   \n",
       "2017-10-13 22:01:40                                        0.0   \n",
       "2017-10-13 22:29:05                                        0.0   \n",
       "\n",
       "                     sample_weights_not0_vb100_vf2_volatility_VWAP_200  \\\n",
       "bucket_end                                                               \n",
       "2017-10-13 21:46:00                                                0.0   \n",
       "2017-10-13 21:49:35                                                0.0   \n",
       "2017-10-13 21:53:10                                                0.0   \n",
       "2017-10-13 22:01:40                                                0.0   \n",
       "2017-10-13 22:29:05                                                0.0   \n",
       "\n",
       "                     target_not0_vb100_vf3_volatility_VWAP_200  \\\n",
       "bucket_end                                                       \n",
       "2017-10-13 21:46:00                                        0.0   \n",
       "2017-10-13 21:49:35                                        0.0   \n",
       "2017-10-13 21:53:10                                        0.0   \n",
       "2017-10-13 22:01:40                                        0.0   \n",
       "2017-10-13 22:29:05                                        0.0   \n",
       "\n",
       "                     sample_weights_not0_vb100_vf3_volatility_VWAP_200  \\\n",
       "bucket_end                                                               \n",
       "2017-10-13 21:46:00                                                0.0   \n",
       "2017-10-13 21:49:35                                                0.0   \n",
       "2017-10-13 21:53:10                                                0.0   \n",
       "2017-10-13 22:01:40                                                0.0   \n",
       "2017-10-13 22:29:05                                                0.0   \n",
       "\n",
       "                     target_not0_vb200_vf2_volatility_VWAP_200  \\\n",
       "bucket_end                                                       \n",
       "2017-10-13 21:46:00                                        0.0   \n",
       "2017-10-13 21:49:35                                        0.0   \n",
       "2017-10-13 21:53:10                                        0.0   \n",
       "2017-10-13 22:01:40                                        0.0   \n",
       "2017-10-13 22:29:05                                        0.0   \n",
       "\n",
       "                     sample_weights_not0_vb200_vf2_volatility_VWAP_200  \\\n",
       "bucket_end                                                               \n",
       "2017-10-13 21:46:00                                                0.0   \n",
       "2017-10-13 21:49:35                                                0.0   \n",
       "2017-10-13 21:53:10                                                0.0   \n",
       "2017-10-13 22:01:40                                                0.0   \n",
       "2017-10-13 22:29:05                                                0.0   \n",
       "\n",
       "                     target_not0_vb200_vf3_volatility_VWAP_200  \\\n",
       "bucket_end                                                       \n",
       "2017-10-13 21:46:00                                        0.0   \n",
       "2017-10-13 21:49:35                                        0.0   \n",
       "2017-10-13 21:53:10                                        0.0   \n",
       "2017-10-13 22:01:40                                        0.0   \n",
       "2017-10-13 22:29:05                                        0.0   \n",
       "\n",
       "                     sample_weights_not0_vb200_vf3_volatility_VWAP_200  \n",
       "bucket_end                                                              \n",
       "2017-10-13 21:46:00                                                0.0  \n",
       "2017-10-13 21:49:35                                                0.0  \n",
       "2017-10-13 21:53:10                                                0.0  \n",
       "2017-10-13 22:01:40                                                0.0  \n",
       "2017-10-13 22:29:05                                                0.0  \n",
       "\n",
       "[5 rows x 1571 columns]"
      ]
     },
     "execution_count": 34,
     "metadata": {},
     "output_type": "execute_result"
    }
   ],
   "source": [
    "data.tail()"
   ]
  },
  {
   "cell_type": "markdown",
   "metadata": {
    "ExecuteTime": {
     "end_time": "2018-08-09T15:07:56.175312Z",
     "start_time": "2018-08-09T15:07:56.136811Z"
    }
   },
   "source": [
    "# Save reports dataset"
   ]
  },
  {
   "cell_type": "code",
   "execution_count": 38,
   "metadata": {
    "ExecuteTime": {
     "end_time": "2018-08-09T15:08:16.011386Z",
     "start_time": "2018-08-09T15:08:15.817036Z"
    }
   },
   "outputs": [],
   "source": [
    "report_data = data.query('is_report')"
   ]
  },
  {
   "cell_type": "code",
   "execution_count": 60,
   "metadata": {
    "ExecuteTime": {
     "end_time": "2018-08-09T15:26:09.938443Z",
     "start_time": "2018-08-09T15:26:09.870131Z"
    }
   },
   "outputs": [],
   "source": [
    "report_data.to_pickle('../training/data/reduced_data_vol50_bar_5S/data.pickle')"
   ]
  },
  {
   "cell_type": "code",
   "execution_count": 61,
   "metadata": {
    "ExecuteTime": {
     "end_time": "2018-08-09T15:26:10.359223Z",
     "start_time": "2018-08-09T15:26:10.321618Z"
    }
   },
   "outputs": [],
   "source": [
    "pd.to_pickle(fdump, '../training/data/reduced_data_vol50_bar_5S/fdump.pickle')"
   ]
  },
  {
   "cell_type": "markdown",
   "metadata": {
    "ExecuteTime": {
     "end_time": "2018-07-19T14:54:30.182032Z",
     "start_time": "2018-07-19T14:54:30.147507Z"
    }
   },
   "source": [
    "# Save data"
   ]
  },
  {
   "cell_type": "code",
   "execution_count": 63,
   "metadata": {
    "ExecuteTime": {
     "end_time": "2018-08-09T15:26:18.660241Z",
     "start_time": "2018-08-09T15:26:18.256171Z"
    }
   },
   "outputs": [
    {
     "name": "stdout",
     "output_type": "stream",
     "text": [
      "Saving file 0....\n",
      "Saving file 1....\n",
      "Saving file 2....\n",
      "Saving file 3....\n",
      "Saving file 4....\n",
      "Saving file 5....\n",
      "Saving file 6....\n",
      "Saving file 7....\n",
      "Saving file 8....\n",
      "Saving file 9....\n",
      "Saving file 10....\n",
      "Saving file 11....\n",
      "Saving file 12....\n",
      "Saving file 13....\n",
      "Saving file 14....\n",
      "Saving file 15....\n",
      "Saving file 16....\n",
      "Saving file 17....\n",
      "Saving file 18....\n",
      "Saving file 19....\n",
      "Saving file 20....\n",
      "Saving file 21....\n",
      "Saving file 22....\n",
      "Saving file 23....\n",
      "Saving file 24....\n",
      "Saving file 25....\n",
      "Saving file 26....\n",
      "Saving file 27....\n",
      "Saving file 28....\n",
      "Saving file 29....\n",
      "Saving file 30....\n",
      "Saving file 31....\n",
      "SAVED!\n"
     ]
    }
   ],
   "source": [
    "fdump['target_cols'] = target_cols\n",
    "data_saver.save(data=report_data, fdump=fdump)"
   ]
  },
  {
   "cell_type": "code",
   "execution_count": null,
   "metadata": {},
   "outputs": [],
   "source": []
  }
 ],
 "metadata": {
  "kernelspec": {
   "display_name": "Python 3",
   "language": "python",
   "name": "python3"
  },
  "language_info": {
   "codemirror_mode": {
    "name": "ipython",
    "version": 3
   },
   "file_extension": ".py",
   "mimetype": "text/x-python",
   "name": "python",
   "nbconvert_exporter": "python",
   "pygments_lexer": "ipython3",
   "version": "3.6.1"
  },
  "toc": {
   "base_numbering": 1,
   "nav_menu": {},
   "number_sections": true,
   "sideBar": true,
   "skip_h1_title": false,
   "title_cell": "Table of Contents",
   "title_sidebar": "Contents",
   "toc_cell": true,
   "toc_position": {},
   "toc_section_display": true,
   "toc_window_display": true
  }
 },
 "nbformat": 4,
 "nbformat_minor": 2
}
