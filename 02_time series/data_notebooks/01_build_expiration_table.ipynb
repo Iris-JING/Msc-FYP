{
 "cells": [
  {
   "cell_type": "markdown",
   "metadata": {
    "toc": true
   },
   "source": [
    "<h1>Table of Contents<span class=\"tocSkip\"></span></h1>\n",
    "<div class=\"toc\"><ul class=\"toc-item\"><li><span><a href=\"#READ-ME\" data-toc-modified-id=\"READ-ME-1\"><span class=\"toc-item-num\">1&nbsp;&nbsp;</span>READ ME</a></span></li><li><span><a href=\"#Load-all-contracts\" data-toc-modified-id=\"Load-all-contracts-2\"><span class=\"toc-item-num\">2&nbsp;&nbsp;</span>Load all contracts</a></span></li><li><span><a href=\"#Load-symbols-lut\" data-toc-modified-id=\"Load-symbols-lut-3\"><span class=\"toc-item-num\">3&nbsp;&nbsp;</span>Load symbols lut</a></span></li><li><span><a href=\"#Get-expiration-dates\" data-toc-modified-id=\"Get-expiration-dates-4\"><span class=\"toc-item-num\">4&nbsp;&nbsp;</span>Get expiration dates</a></span><ul class=\"toc-item\"><li><span><a href=\"#OLD-RULE:-12-business-days-before-the-start-of-the-symbol-month\" data-toc-modified-id=\"OLD-RULE:-12-business-days-before-the-start-of-the-symbol-month-4.1\"><span class=\"toc-item-num\">4.1&nbsp;&nbsp;</span>OLD RULE: 12 business days before the start of the symbol month</a></span></li><li><span><a href=\"#NEW-RULE:-last-business-day-of-the-second-month-previous-to-the-symbol\" data-toc-modified-id=\"NEW-RULE:-last-business-day-of-the-second-month-previous-to-the-symbol-4.2\"><span class=\"toc-item-num\">4.2&nbsp;&nbsp;</span>NEW RULE: last business day of the second month previous to the symbol</a></span></li><li><span><a href=\"#Concatenate-rules\" data-toc-modified-id=\"Concatenate-rules-4.3\"><span class=\"toc-item-num\">4.3&nbsp;&nbsp;</span>Concatenate rules</a></span></li><li><span><a href=\"#Save\" data-toc-modified-id=\"Save-4.4\"><span class=\"toc-item-num\">4.4&nbsp;&nbsp;</span>Save</a></span></li></ul></li><li><span><a href=\"#Sanity-check\" data-toc-modified-id=\"Sanity-check-5\"><span class=\"toc-item-num\">5&nbsp;&nbsp;</span>Sanity check</a></span></li></ul></div>"
   ]
  },
  {
   "cell_type": "markdown",
   "metadata": {},
   "source": [
    "# READ ME"
   ]
  },
  {
   "cell_type": "markdown",
   "metadata": {},
   "source": [
    "This notebook creates a table with expiration dates for each contract \n"
   ]
  },
  {
   "cell_type": "code",
   "execution_count": 1,
   "metadata": {
    "ExecuteTime": {
     "end_time": "2018-07-17T14:55:46.646278Z",
     "start_time": "2018-07-17T14:55:46.385695Z"
    }
   },
   "outputs": [],
   "source": [
    "% matplotlib inline\n",
    "%load_ext autoreload\n",
    "%autoreload 2"
   ]
  },
  {
   "cell_type": "code",
   "execution_count": 2,
   "metadata": {
    "ExecuteTime": {
     "end_time": "2018-07-17T14:55:46.777388Z",
     "start_time": "2018-07-17T14:55:46.647655Z"
    }
   },
   "outputs": [],
   "source": [
    "import pandas as pd\n",
    "import datetime\n",
    "import numpy as np\n",
    "import os"
   ]
  },
  {
   "cell_type": "code",
   "execution_count": 3,
   "metadata": {
    "ExecuteTime": {
     "end_time": "2018-07-17T14:55:47.818085Z",
     "start_time": "2018-07-17T14:55:46.778901Z"
    }
   },
   "outputs": [
    {
     "name": "stderr",
     "output_type": "stream",
     "text": [
      "/home/cqc5/anaconda3/envs/tensorflow_cpu/lib/python3.6/importlib/_bootstrap.py:205: RuntimeWarning: compiletime version 3.5 of module 'tensorflow.python.framework.fast_tensor_util' does not match runtime version 3.6\n",
      "  return f(*args, **kwds)\n",
      "/home/cqc5/anaconda3/envs/tensorflow_cpu/lib/python3.6/site-packages/h5py/__init__.py:36: FutureWarning: Conversion of the second argument of issubdtype from `float` to `np.floating` is deprecated. In future, it will be treated as `np.float64 == np.dtype(float).type`.\n",
      "  from ._conv import register_converters as _register_converters\n"
     ]
    }
   ],
   "source": [
    "from cqcplot import *"
   ]
  },
  {
   "cell_type": "markdown",
   "metadata": {},
   "source": [
    "# Load symbols lut"
   ]
  },
  {
   "cell_type": "code",
   "execution_count": 4,
   "metadata": {
    "ExecuteTime": {
     "end_time": "2018-07-17T14:55:47.839589Z",
     "start_time": "2018-07-17T14:55:47.819429Z"
    }
   },
   "outputs": [],
   "source": [
    "symbols_lut = pd.read_csv('./../month_code_lut.csv')"
   ]
  },
  {
   "cell_type": "code",
   "execution_count": 5,
   "metadata": {
    "ExecuteTime": {
     "end_time": "2018-07-17T14:55:47.864264Z",
     "start_time": "2018-07-17T14:55:47.840912Z"
    }
   },
   "outputs": [
    {
     "data": {
      "text/html": [
       "<div>\n",
       "<style>\n",
       "    .dataframe thead tr:only-child th {\n",
       "        text-align: right;\n",
       "    }\n",
       "\n",
       "    .dataframe thead th {\n",
       "        text-align: left;\n",
       "    }\n",
       "\n",
       "    .dataframe tbody tr th {\n",
       "        vertical-align: top;\n",
       "    }\n",
       "</style>\n",
       "<table border=\"1\" class=\"dataframe\">\n",
       "  <thead>\n",
       "    <tr style=\"text-align: right;\">\n",
       "      <th></th>\n",
       "      <th>month</th>\n",
       "      <th>code</th>\n",
       "    </tr>\n",
       "  </thead>\n",
       "  <tbody>\n",
       "    <tr>\n",
       "      <th>0</th>\n",
       "      <td>1</td>\n",
       "      <td>F</td>\n",
       "    </tr>\n",
       "    <tr>\n",
       "      <th>1</th>\n",
       "      <td>2</td>\n",
       "      <td>G</td>\n",
       "    </tr>\n",
       "    <tr>\n",
       "      <th>2</th>\n",
       "      <td>3</td>\n",
       "      <td>H</td>\n",
       "    </tr>\n",
       "    <tr>\n",
       "      <th>3</th>\n",
       "      <td>4</td>\n",
       "      <td>J</td>\n",
       "    </tr>\n",
       "    <tr>\n",
       "      <th>4</th>\n",
       "      <td>5</td>\n",
       "      <td>K</td>\n",
       "    </tr>\n",
       "    <tr>\n",
       "      <th>5</th>\n",
       "      <td>6</td>\n",
       "      <td>M</td>\n",
       "    </tr>\n",
       "    <tr>\n",
       "      <th>6</th>\n",
       "      <td>7</td>\n",
       "      <td>N</td>\n",
       "    </tr>\n",
       "    <tr>\n",
       "      <th>7</th>\n",
       "      <td>8</td>\n",
       "      <td>Q</td>\n",
       "    </tr>\n",
       "    <tr>\n",
       "      <th>8</th>\n",
       "      <td>9</td>\n",
       "      <td>U</td>\n",
       "    </tr>\n",
       "    <tr>\n",
       "      <th>9</th>\n",
       "      <td>10</td>\n",
       "      <td>V</td>\n",
       "    </tr>\n",
       "    <tr>\n",
       "      <th>10</th>\n",
       "      <td>11</td>\n",
       "      <td>X</td>\n",
       "    </tr>\n",
       "    <tr>\n",
       "      <th>11</th>\n",
       "      <td>12</td>\n",
       "      <td>Z</td>\n",
       "    </tr>\n",
       "  </tbody>\n",
       "</table>\n",
       "</div>"
      ],
      "text/plain": [
       "    month code\n",
       "0       1    F\n",
       "1       2    G\n",
       "2       3    H\n",
       "3       4    J\n",
       "4       5    K\n",
       "5       6    M\n",
       "6       7    N\n",
       "7       8    Q\n",
       "8       9    U\n",
       "9      10    V\n",
       "10     11    X\n",
       "11     12    Z"
      ]
     },
     "execution_count": 5,
     "metadata": {},
     "output_type": "execute_result"
    }
   ],
   "source": [
    "symbols_lut"
   ]
  },
  {
   "cell_type": "markdown",
   "metadata": {},
   "source": [
    "# Get expiration dates"
   ]
  },
  {
   "cell_type": "code",
   "execution_count": 6,
   "metadata": {
    "ExecuteTime": {
     "end_time": "2018-07-17T14:55:47.906001Z",
     "start_time": "2018-07-17T14:55:47.866297Z"
    }
   },
   "outputs": [],
   "source": [
    "start_dates = pd.DataFrame({'Date':pd.date_range(start=datetime.datetime(2009,1,1), end = datetime.datetime(2020,12,31))})"
   ]
  },
  {
   "cell_type": "code",
   "execution_count": 7,
   "metadata": {
    "ExecuteTime": {
     "end_time": "2018-07-17T14:55:47.958622Z",
     "start_time": "2018-07-17T14:55:47.908116Z"
    }
   },
   "outputs": [],
   "source": [
    "start_dates['month'] = start_dates['Date'].dt.month\n",
    "start_dates['day'] = start_dates['Date'].dt.day\n",
    "start_dates['dow'] = start_dates['Date'].dt.weekday\n",
    "\n",
    "start_dates['year_symbol'] = start_dates['Date'].dt.year.astype(str).str[-2:]"
   ]
  },
  {
   "cell_type": "markdown",
   "metadata": {},
   "source": [
    "## OLD RULE: 12 business days before the start of the symbol month"
   ]
  },
  {
   "cell_type": "code",
   "execution_count": 8,
   "metadata": {
    "ExecuteTime": {
     "end_time": "2018-07-17T14:55:47.988748Z",
     "start_time": "2018-07-17T14:55:47.960874Z"
    }
   },
   "outputs": [],
   "source": [
    "old_rule = start_dates.copy().loc[start_dates['Date']<datetime.datetime(2016,2,1)]"
   ]
  },
  {
   "cell_type": "code",
   "execution_count": 9,
   "metadata": {
    "ExecuteTime": {
     "end_time": "2018-07-17T14:55:48.079443Z",
     "start_time": "2018-07-17T14:55:47.990664Z"
    }
   },
   "outputs": [],
   "source": [
    "old_rule['counts']=1\n",
    "old_rule = old_rule.sort_values('Date',ascending=False)\\\n",
    "          .query('dow!=6 & dow!=5')"
   ]
  },
  {
   "cell_type": "code",
   "execution_count": 10,
   "metadata": {
    "ExecuteTime": {
     "end_time": "2018-07-17T14:55:48.158148Z",
     "start_time": "2018-07-17T14:55:48.081016Z"
    }
   },
   "outputs": [],
   "source": [
    "old_rule['position'] = old_rule.groupby(['month', 'year_symbol'], sort=False)['counts'].cumsum()"
   ]
  },
  {
   "cell_type": "code",
   "execution_count": 11,
   "metadata": {
    "ExecuteTime": {
     "end_time": "2018-07-17T14:55:48.182756Z",
     "start_time": "2018-07-17T14:55:48.159693Z"
    }
   },
   "outputs": [],
   "source": [
    "old_rule = old_rule.sort_values('Date').query('position==12')"
   ]
  },
  {
   "cell_type": "code",
   "execution_count": 12,
   "metadata": {
    "ExecuteTime": {
     "end_time": "2018-07-17T14:55:48.261118Z",
     "start_time": "2018-07-17T14:55:48.184333Z"
    }
   },
   "outputs": [],
   "source": [
    "# clean up\n",
    "old_rule.rename(columns={'Date':'expiration_date'}, inplace=True)\n",
    "old_rule = old_rule[['expiration_date']]"
   ]
  },
  {
   "cell_type": "code",
   "execution_count": 13,
   "metadata": {
    "ExecuteTime": {
     "end_time": "2018-07-17T14:55:48.340453Z",
     "start_time": "2018-07-17T14:55:48.262603Z"
    }
   },
   "outputs": [],
   "source": [
    "old_rule['contract_delivery_date'] = old_rule['expiration_date'].dt.date + pd.DateOffset(months=1)"
   ]
  },
  {
   "cell_type": "code",
   "execution_count": 14,
   "metadata": {
    "ExecuteTime": {
     "end_time": "2018-07-17T14:55:48.364497Z",
     "start_time": "2018-07-17T14:55:48.341882Z"
    }
   },
   "outputs": [],
   "source": [
    "old_rule['month'] = old_rule['contract_delivery_date'].dt.month\n",
    "old_rule['year_symbol'] = old_rule['contract_delivery_date'].dt.year.astype(str).str[-2:]"
   ]
  },
  {
   "cell_type": "code",
   "execution_count": 15,
   "metadata": {
    "ExecuteTime": {
     "end_time": "2018-07-17T14:55:48.388894Z",
     "start_time": "2018-07-17T14:55:48.366105Z"
    }
   },
   "outputs": [],
   "source": [
    "old_rule = pd.merge(old_rule, symbols_lut, on='month', how='left')"
   ]
  },
  {
   "cell_type": "code",
   "execution_count": 16,
   "metadata": {
    "ExecuteTime": {
     "end_time": "2018-07-17T14:55:48.410960Z",
     "start_time": "2018-07-17T14:55:48.390471Z"
    }
   },
   "outputs": [],
   "source": [
    "old_rule['Symbol_end'] = 'CO' + old_rule['code'] + old_rule['year_symbol']"
   ]
  },
  {
   "cell_type": "code",
   "execution_count": 17,
   "metadata": {
    "ExecuteTime": {
     "end_time": "2018-07-17T14:55:48.433361Z",
     "start_time": "2018-07-17T14:55:48.412300Z"
    }
   },
   "outputs": [],
   "source": [
    "# clean up\n",
    "old_rule = old_rule[['expiration_date', 'Symbol_end']]"
   ]
  },
  {
   "cell_type": "markdown",
   "metadata": {},
   "source": [
    "## NEW RULE: last business day of the second month previous to the symbol"
   ]
  },
  {
   "cell_type": "code",
   "execution_count": 18,
   "metadata": {
    "ExecuteTime": {
     "end_time": "2018-07-17T14:55:48.479251Z",
     "start_time": "2018-07-17T14:55:48.435651Z"
    }
   },
   "outputs": [],
   "source": [
    "new_rule = start_dates.copy()\\\n",
    "                      .loc[start_dates['Date']>=datetime.datetime(2016,1,29)]\\\n",
    "                      .query('dow!=6 & dow!=5')\\\n",
    "                      .groupby(['month', 'year_symbol'])\\\n",
    "                      .last()\\\n",
    "                      .reset_index()\\\n",
    "                      .rename(columns={'Date':'expiration_date'})"
   ]
  },
  {
   "cell_type": "code",
   "execution_count": 19,
   "metadata": {
    "ExecuteTime": {
     "end_time": "2018-07-17T14:55:48.569360Z",
     "start_time": "2018-07-17T14:55:48.481198Z"
    }
   },
   "outputs": [],
   "source": [
    "new_rule = new_rule[['expiration_date']]\n",
    "new_rule['contract_delivery_date'] = new_rule['expiration_date'].dt.date + pd.DateOffset(months=2)"
   ]
  },
  {
   "cell_type": "code",
   "execution_count": 20,
   "metadata": {
    "ExecuteTime": {
     "end_time": "2018-07-17T14:55:48.594348Z",
     "start_time": "2018-07-17T14:55:48.570916Z"
    }
   },
   "outputs": [],
   "source": [
    "new_rule['month'] = new_rule['contract_delivery_date'].dt.month\n",
    "new_rule['year_symbol'] = new_rule['contract_delivery_date'].dt.year.astype(str).str[-2:]"
   ]
  },
  {
   "cell_type": "code",
   "execution_count": 21,
   "metadata": {
    "ExecuteTime": {
     "end_time": "2018-07-17T14:55:48.616994Z",
     "start_time": "2018-07-17T14:55:48.595811Z"
    }
   },
   "outputs": [],
   "source": [
    "new_rule = pd.merge(new_rule, symbols_lut, on='month', how='left')"
   ]
  },
  {
   "cell_type": "code",
   "execution_count": 22,
   "metadata": {
    "ExecuteTime": {
     "end_time": "2018-07-17T14:55:48.664623Z",
     "start_time": "2018-07-17T14:55:48.619734Z"
    }
   },
   "outputs": [],
   "source": [
    "new_rule['Symbol_end'] = 'CO' + new_rule['code'] + new_rule['year_symbol']"
   ]
  },
  {
   "cell_type": "code",
   "execution_count": 23,
   "metadata": {
    "ExecuteTime": {
     "end_time": "2018-07-17T14:55:48.703562Z",
     "start_time": "2018-07-17T14:55:48.666978Z"
    }
   },
   "outputs": [],
   "source": [
    "# clean up\n",
    "new_rule = new_rule[['expiration_date', 'Symbol_end']]"
   ]
  },
  {
   "cell_type": "markdown",
   "metadata": {},
   "source": [
    "## Concatenate rules"
   ]
  },
  {
   "cell_type": "code",
   "execution_count": 24,
   "metadata": {
    "ExecuteTime": {
     "end_time": "2018-07-17T14:55:48.746153Z",
     "start_time": "2018-07-17T14:55:48.706144Z"
    }
   },
   "outputs": [],
   "source": [
    "expiration_dates = pd.concat([old_rule, new_rule]).sort_values('expiration_date')"
   ]
  },
  {
   "cell_type": "code",
   "execution_count": 25,
   "metadata": {
    "ExecuteTime": {
     "end_time": "2018-07-17T14:55:48.783525Z",
     "start_time": "2018-07-17T14:55:48.748380Z"
    }
   },
   "outputs": [],
   "source": [
    "expiration_dates['Symbol_start'] = expiration_dates['Symbol_end'].shift(-1)\n",
    "expiration_dates=expiration_dates.dropna()"
   ]
  },
  {
   "cell_type": "code",
   "execution_count": 26,
   "metadata": {
    "ExecuteTime": {
     "end_time": "2018-07-17T14:55:48.876621Z",
     "start_time": "2018-07-17T14:55:48.785467Z"
    }
   },
   "outputs": [],
   "source": [
    "expiration_dates['expiration'] = expiration_dates['expiration_date']+datetime.timedelta(hours=23)"
   ]
  },
  {
   "cell_type": "markdown",
   "metadata": {},
   "source": [
    "## Save"
   ]
  },
  {
   "cell_type": "code",
   "execution_count": 27,
   "metadata": {
    "ExecuteTime": {
     "end_time": "2018-07-17T14:55:48.902742Z",
     "start_time": "2018-07-17T14:55:48.878389Z"
    }
   },
   "outputs": [],
   "source": [
    "expiration_dates.to_csv('./../expiration_dates.csv')"
   ]
  }
 ],
 "metadata": {
  "kernelspec": {
   "display_name": "Python [conda env:tensorflow_cpu]",
   "language": "python",
   "name": "conda-env-tensorflow_cpu-py"
  },
  "language_info": {
   "codemirror_mode": {
    "name": "ipython",
    "version": 3
   },
   "file_extension": ".py",
   "mimetype": "text/x-python",
   "name": "python",
   "nbconvert_exporter": "python",
   "pygments_lexer": "ipython3",
   "version": "3.6.1"
  },
  "toc": {
   "nav_menu": {},
   "number_sections": true,
   "sideBar": true,
   "skip_h1_title": false,
   "title_cell": "Table of Contents",
   "title_sidebar": "Contents",
   "toc_cell": true,
   "toc_position": {
    "height": "calc(100% - 180px)",
    "left": "10px",
    "top": "150px",
    "width": "384px"
   },
   "toc_section_display": true,
   "toc_window_display": true
  }
 },
 "nbformat": 4,
 "nbformat_minor": 2
}
