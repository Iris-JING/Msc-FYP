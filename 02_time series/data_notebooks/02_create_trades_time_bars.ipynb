{
 "cells": [
  {
   "cell_type": "markdown",
   "metadata": {
    "toc": true
   },
   "source": [
    "<h1>Table of Contents<span class=\"tocSkip\"></span></h1>\n",
    "<div class=\"toc\"><ul class=\"toc-item\"><li><span><a href=\"#READ-ME\" data-toc-modified-id=\"READ-ME-1\"><span class=\"toc-item-num\">1&nbsp;&nbsp;</span>READ ME</a></span></li><li><span><a href=\"#Define-paths\" data-toc-modified-id=\"Define-paths-2\"><span class=\"toc-item-num\">2&nbsp;&nbsp;</span>Define paths</a></span></li><li><span><a href=\"#Load-contract-expiration-table\" data-toc-modified-id=\"Load-contract-expiration-table-3\"><span class=\"toc-item-num\">3&nbsp;&nbsp;</span>Load contract expiration table</a></span><ul class=\"toc-item\"><li><span><a href=\"#Change-format\" data-toc-modified-id=\"Change-format-3.1\"><span class=\"toc-item-num\">3.1&nbsp;&nbsp;</span>Change format</a></span></li></ul></li><li><span><a href=\"#Build-trades-5S-timebars\" data-toc-modified-id=\"Build-trades-5S-timebars-4\"><span class=\"toc-item-num\">4&nbsp;&nbsp;</span>Build trades 5S timebars</a></span></li></ul></div>"
   ]
  },
  {
   "cell_type": "markdown",
   "metadata": {},
   "source": [
    "# READ ME"
   ]
  },
  {
   "cell_type": "markdown",
   "metadata": {},
   "source": [
    "This notebook creates time bars from transaction data."
   ]
  },
  {
   "cell_type": "code",
   "execution_count": 1,
   "metadata": {
    "ExecuteTime": {
     "end_time": "2018-07-17T15:46:44.197682Z",
     "start_time": "2018-07-17T15:46:43.906629Z"
    }
   },
   "outputs": [],
   "source": [
    "%matplotlib inline\n",
    "%load_ext autoreload\n",
    "%autoreload 2"
   ]
  },
  {
   "cell_type": "code",
   "execution_count": 2,
   "metadata": {
    "ExecuteTime": {
     "end_time": "2018-07-17T15:46:44.345061Z",
     "start_time": "2018-07-17T15:46:44.199147Z"
    }
   },
   "outputs": [],
   "source": [
    "import os\n",
    "import pandas as pd\n",
    "import numpy as np"
   ]
  },
  {
   "cell_type": "code",
   "execution_count": 3,
   "metadata": {
    "ExecuteTime": {
     "end_time": "2018-07-17T15:46:45.309609Z",
     "start_time": "2018-07-17T15:46:44.346538Z"
    }
   },
   "outputs": [
    {
     "name": "stderr",
     "output_type": "stream",
     "text": [
      "/home/cqc5/anaconda3/envs/tensorflow_cpu/lib/python3.6/importlib/_bootstrap.py:205: RuntimeWarning: compiletime version 3.5 of module 'tensorflow.python.framework.fast_tensor_util' does not match runtime version 3.6\n",
      "  return f(*args, **kwds)\n",
      "/home/cqc5/anaconda3/envs/tensorflow_cpu/lib/python3.6/site-packages/h5py/__init__.py:36: FutureWarning: Conversion of the second argument of issubdtype from `float` to `np.floating` is deprecated. In future, it will be treated as `np.float64 == np.dtype(float).type`.\n",
      "  from ._conv import register_converters as _register_converters\n"
     ]
    }
   ],
   "source": [
    "from cleaning_functions import *"
   ]
  },
  {
   "cell_type": "markdown",
   "metadata": {
    "ExecuteTime": {
     "end_time": "2018-05-16T15:31:12.231634Z",
     "start_time": "2018-05-16T15:31:12.208609Z"
    }
   },
   "source": [
    "# Define paths"
   ]
  },
  {
   "cell_type": "code",
   "execution_count": 4,
   "metadata": {
    "ExecuteTime": {
     "end_time": "2018-07-17T15:46:45.329271Z",
     "start_time": "2018-07-17T15:46:45.311169Z"
    }
   },
   "outputs": [],
   "source": [
    "file_path = './../raw_data/oil_trades/'\n",
    "\n",
    "trade_files = [file_path+f for f in os.listdir(file_path) if f.endswith('.csv')]"
   ]
  },
  {
   "cell_type": "markdown",
   "metadata": {},
   "source": [
    "# Load contract expiration table"
   ]
  },
  {
   "cell_type": "code",
   "execution_count": 5,
   "metadata": {
    "ExecuteTime": {
     "end_time": "2018-07-17T15:46:45.351616Z",
     "start_time": "2018-07-17T15:46:45.330791Z"
    }
   },
   "outputs": [],
   "source": [
    "expiration_dates = pd.read_csv('./../expiration_dates.csv', index_col=0)\n",
    "expiration_dates['expiration_date'] = pd.to_datetime(expiration_dates['expiration_date'])\n",
    "expiration_dates['expiration'] = pd.to_datetime(expiration_dates['expiration'])"
   ]
  },
  {
   "cell_type": "markdown",
   "metadata": {},
   "source": [
    "## Change format"
   ]
  },
  {
   "cell_type": "code",
   "execution_count": 6,
   "metadata": {
    "ExecuteTime": {
     "end_time": "2018-07-17T15:46:45.371653Z",
     "start_time": "2018-07-17T15:46:45.353303Z"
    }
   },
   "outputs": [],
   "source": [
    "contract_expiration = expiration_dates.drop(['Symbol_start'], axis=1)\n",
    "contract_expiration.rename(columns = {'Symbol_end':'Symbol'}, inplace=True)"
   ]
  },
  {
   "cell_type": "code",
   "execution_count": 7,
   "metadata": {
    "ExecuteTime": {
     "end_time": "2018-07-17T15:46:45.392128Z",
     "start_time": "2018-07-17T15:46:45.373020Z"
    }
   },
   "outputs": [],
   "source": [
    "contract_expiration['data_start'] = contract_expiration['expiration'].shift(1)  - datetime.timedelta(hours=23, days=28)\n",
    "contract_expiration['data_start'].fillna(datetime.datetime(2008,12,1), inplace=True)"
   ]
  },
  {
   "cell_type": "code",
   "execution_count": 8,
   "metadata": {
    "ExecuteTime": {
     "end_time": "2018-07-17T15:46:45.411160Z",
     "start_time": "2018-07-17T15:46:45.393508Z"
    }
   },
   "outputs": [],
   "source": [
    "contract_expiration = contract_expiration[['Symbol', 'data_start', 'expiration']]\\\n",
    "                            .set_index('Symbol')"
   ]
  },
  {
   "cell_type": "code",
   "execution_count": 9,
   "metadata": {
    "ExecuteTime": {
     "end_time": "2018-07-17T15:46:45.439145Z",
     "start_time": "2018-07-17T15:46:45.412619Z"
    }
   },
   "outputs": [],
   "source": [
    "contract_expiration = contract_expiration.to_dict('index')"
   ]
  },
  {
   "cell_type": "code",
   "execution_count": 10,
   "metadata": {
    "ExecuteTime": {
     "end_time": "2018-07-17T15:46:45.487901Z",
     "start_time": "2018-07-17T15:46:45.440571Z"
    }
   },
   "outputs": [
    {
     "data": {
      "text/plain": [
       "{'COF10': {'data_start': Timestamp('2009-10-16 00:00:00'),\n",
       "  'expiration': Timestamp('2009-12-16 23:00:00')},\n",
       " 'COF11': {'data_start': Timestamp('2010-10-18 00:00:00'),\n",
       "  'expiration': Timestamp('2010-12-16 23:00:00')},\n",
       " 'COF12': {'data_start': Timestamp('2011-10-18 00:00:00'),\n",
       "  'expiration': Timestamp('2011-12-15 23:00:00')},\n",
       " 'COF13': {'data_start': Timestamp('2012-10-18 00:00:00'),\n",
       "  'expiration': Timestamp('2012-12-14 23:00:00')},\n",
       " 'COF14': {'data_start': Timestamp('2013-10-17 00:00:00'),\n",
       "  'expiration': Timestamp('2013-12-16 23:00:00')},\n",
       " 'COF15': {'data_start': Timestamp('2014-10-16 00:00:00'),\n",
       "  'expiration': Timestamp('2014-12-16 23:00:00')},\n",
       " 'COF16': {'data_start': Timestamp('2015-10-16 00:00:00'),\n",
       "  'expiration': Timestamp('2015-12-16 23:00:00')},\n",
       " 'COF17': {'data_start': Timestamp('2016-10-03 00:00:00'),\n",
       "  'expiration': Timestamp('2016-11-30 23:00:00')},\n",
       " 'COF18': {'data_start': Timestamp('2017-10-03 00:00:00'),\n",
       "  'expiration': Timestamp('2017-11-30 23:00:00')},\n",
       " 'COF19': {'data_start': Timestamp('2018-10-03 00:00:00'),\n",
       "  'expiration': Timestamp('2018-11-30 23:00:00')},\n",
       " 'COF20': {'data_start': Timestamp('2019-10-03 00:00:00'),\n",
       "  'expiration': Timestamp('2019-11-29 23:00:00')},\n",
       " 'COF21': {'data_start': Timestamp('2020-10-02 00:00:00'),\n",
       "  'expiration': Timestamp('2020-11-30 23:00:00')},\n",
       " 'COF22': {'data_start': Timestamp('2021-10-01 00:00:00'),\n",
       "  'expiration': Timestamp('2021-11-30 23:00:00')},\n",
       " 'COF23': {'data_start': Timestamp('2022-10-03 00:00:00'),\n",
       "  'expiration': Timestamp('2022-11-30 23:00:00')},\n",
       " 'COF24': {'data_start': Timestamp('2023-10-03 00:00:00'),\n",
       "  'expiration': Timestamp('2023-11-30 23:00:00')},\n",
       " 'COF25': {'data_start': Timestamp('2024-10-03 00:00:00'),\n",
       "  'expiration': Timestamp('2024-11-29 23:00:00')},\n",
       " 'COF26': {'data_start': Timestamp('2025-10-03 00:00:00'),\n",
       "  'expiration': Timestamp('2025-11-28 23:00:00')},\n",
       " 'COG09': {'data_start': Timestamp('2008-12-01 00:00:00'),\n",
       "  'expiration': Timestamp('2009-01-15 23:00:00')},\n",
       " 'COG10': {'data_start': Timestamp('2009-11-18 00:00:00'),\n",
       "  'expiration': Timestamp('2010-01-14 23:00:00')},\n",
       " 'COG11': {'data_start': Timestamp('2010-11-18 00:00:00'),\n",
       "  'expiration': Timestamp('2011-01-14 23:00:00')},\n",
       " 'COG12': {'data_start': Timestamp('2011-11-17 00:00:00'),\n",
       "  'expiration': Timestamp('2012-01-16 23:00:00')},\n",
       " 'COG13': {'data_start': Timestamp('2012-11-16 00:00:00'),\n",
       "  'expiration': Timestamp('2013-01-16 23:00:00')},\n",
       " 'COG14': {'data_start': Timestamp('2013-11-18 00:00:00'),\n",
       "  'expiration': Timestamp('2014-01-16 23:00:00')},\n",
       " 'COG15': {'data_start': Timestamp('2014-11-18 00:00:00'),\n",
       "  'expiration': Timestamp('2015-01-15 23:00:00')},\n",
       " 'COG16': {'data_start': Timestamp('2015-11-18 00:00:00'),\n",
       "  'expiration': Timestamp('2016-01-14 23:00:00')},\n",
       " 'COG17': {'data_start': Timestamp('2016-11-02 00:00:00'),\n",
       "  'expiration': Timestamp('2016-12-30 23:00:00')},\n",
       " 'COG18': {'data_start': Timestamp('2017-11-02 00:00:00'),\n",
       "  'expiration': Timestamp('2017-12-29 23:00:00')},\n",
       " 'COG19': {'data_start': Timestamp('2018-11-02 00:00:00'),\n",
       "  'expiration': Timestamp('2018-12-31 23:00:00')},\n",
       " 'COG20': {'data_start': Timestamp('2019-11-01 00:00:00'),\n",
       "  'expiration': Timestamp('2019-12-31 23:00:00')},\n",
       " 'COG21': {'data_start': Timestamp('2020-11-02 00:00:00'),\n",
       "  'expiration': Timestamp('2020-12-31 23:00:00')},\n",
       " 'COG22': {'data_start': Timestamp('2021-11-02 00:00:00'),\n",
       "  'expiration': Timestamp('2021-12-31 23:00:00')},\n",
       " 'COG23': {'data_start': Timestamp('2022-11-02 00:00:00'),\n",
       "  'expiration': Timestamp('2022-12-30 23:00:00')},\n",
       " 'COG24': {'data_start': Timestamp('2023-11-02 00:00:00'),\n",
       "  'expiration': Timestamp('2023-12-29 23:00:00')},\n",
       " 'COG25': {'data_start': Timestamp('2024-11-01 00:00:00'),\n",
       "  'expiration': Timestamp('2024-12-31 23:00:00')},\n",
       " 'COH09': {'data_start': Timestamp('2008-12-18 00:00:00'),\n",
       "  'expiration': Timestamp('2009-02-12 23:00:00')},\n",
       " 'COH10': {'data_start': Timestamp('2009-12-17 00:00:00'),\n",
       "  'expiration': Timestamp('2010-02-11 23:00:00')},\n",
       " 'COH11': {'data_start': Timestamp('2010-12-17 00:00:00'),\n",
       "  'expiration': Timestamp('2011-02-11 23:00:00')},\n",
       " 'COH12': {'data_start': Timestamp('2011-12-19 00:00:00'),\n",
       "  'expiration': Timestamp('2012-02-14 23:00:00')},\n",
       " 'COH13': {'data_start': Timestamp('2012-12-19 00:00:00'),\n",
       "  'expiration': Timestamp('2013-02-13 23:00:00')},\n",
       " 'COH14': {'data_start': Timestamp('2013-12-19 00:00:00'),\n",
       "  'expiration': Timestamp('2014-02-13 23:00:00')},\n",
       " 'COH15': {'data_start': Timestamp('2014-12-18 00:00:00'),\n",
       "  'expiration': Timestamp('2015-02-12 23:00:00')},\n",
       " 'COH16': {'data_start': Timestamp('2015-12-17 00:00:00'),\n",
       "  'expiration': Timestamp('2016-01-29 23:00:00')},\n",
       " 'COH17': {'data_start': Timestamp('2016-12-02 00:00:00'),\n",
       "  'expiration': Timestamp('2017-01-31 23:00:00')},\n",
       " 'COH18': {'data_start': Timestamp('2017-12-01 00:00:00'),\n",
       "  'expiration': Timestamp('2018-01-31 23:00:00')},\n",
       " 'COH19': {'data_start': Timestamp('2018-12-03 00:00:00'),\n",
       "  'expiration': Timestamp('2019-01-31 23:00:00')},\n",
       " 'COH20': {'data_start': Timestamp('2019-12-03 00:00:00'),\n",
       "  'expiration': Timestamp('2020-01-31 23:00:00')},\n",
       " 'COH21': {'data_start': Timestamp('2020-12-03 00:00:00'),\n",
       "  'expiration': Timestamp('2021-01-29 23:00:00')},\n",
       " 'COH22': {'data_start': Timestamp('2021-12-03 00:00:00'),\n",
       "  'expiration': Timestamp('2022-01-31 23:00:00')},\n",
       " 'COH23': {'data_start': Timestamp('2022-12-02 00:00:00'),\n",
       "  'expiration': Timestamp('2023-01-31 23:00:00')},\n",
       " 'COH24': {'data_start': Timestamp('2023-12-01 00:00:00'),\n",
       "  'expiration': Timestamp('2024-01-31 23:00:00')},\n",
       " 'COH25': {'data_start': Timestamp('2024-12-03 00:00:00'),\n",
       "  'expiration': Timestamp('2025-01-31 23:00:00')},\n",
       " 'COJ09': {'data_start': Timestamp('2009-01-15 00:00:00'),\n",
       "  'expiration': Timestamp('2009-03-16 23:00:00')},\n",
       " 'COJ10': {'data_start': Timestamp('2010-01-14 00:00:00'),\n",
       "  'expiration': Timestamp('2010-03-16 23:00:00')},\n",
       " 'COJ11': {'data_start': Timestamp('2011-01-14 00:00:00'),\n",
       "  'expiration': Timestamp('2011-03-16 23:00:00')},\n",
       " 'COJ12': {'data_start': Timestamp('2012-01-17 00:00:00'),\n",
       "  'expiration': Timestamp('2012-03-15 23:00:00')},\n",
       " 'COJ13': {'data_start': Timestamp('2013-01-16 00:00:00'),\n",
       "  'expiration': Timestamp('2013-03-14 23:00:00')},\n",
       " 'COJ14': {'data_start': Timestamp('2014-01-16 00:00:00'),\n",
       "  'expiration': Timestamp('2014-03-14 23:00:00')},\n",
       " 'COJ15': {'data_start': Timestamp('2015-01-15 00:00:00'),\n",
       "  'expiration': Timestamp('2015-03-16 23:00:00')},\n",
       " 'COJ16': {'data_start': Timestamp('2016-01-01 00:00:00'),\n",
       "  'expiration': Timestamp('2016-02-29 23:00:00')},\n",
       " 'COJ17': {'data_start': Timestamp('2017-01-03 00:00:00'),\n",
       "  'expiration': Timestamp('2017-02-28 23:00:00')},\n",
       " 'COJ18': {'data_start': Timestamp('2018-01-03 00:00:00'),\n",
       "  'expiration': Timestamp('2018-02-28 23:00:00')},\n",
       " 'COJ19': {'data_start': Timestamp('2019-01-03 00:00:00'),\n",
       "  'expiration': Timestamp('2019-02-28 23:00:00')},\n",
       " 'COJ20': {'data_start': Timestamp('2020-01-03 00:00:00'),\n",
       "  'expiration': Timestamp('2020-02-28 23:00:00')},\n",
       " 'COJ21': {'data_start': Timestamp('2021-01-01 00:00:00'),\n",
       "  'expiration': Timestamp('2021-02-26 23:00:00')},\n",
       " 'COJ22': {'data_start': Timestamp('2022-01-03 00:00:00'),\n",
       "  'expiration': Timestamp('2022-02-28 23:00:00')},\n",
       " 'COJ23': {'data_start': Timestamp('2023-01-03 00:00:00'),\n",
       "  'expiration': Timestamp('2023-02-28 23:00:00')},\n",
       " 'COJ24': {'data_start': Timestamp('2024-01-03 00:00:00'),\n",
       "  'expiration': Timestamp('2024-02-29 23:00:00')},\n",
       " 'COJ25': {'data_start': Timestamp('2025-01-03 00:00:00'),\n",
       "  'expiration': Timestamp('2025-02-28 23:00:00')},\n",
       " 'COK09': {'data_start': Timestamp('2009-02-16 00:00:00'),\n",
       "  'expiration': Timestamp('2009-04-15 23:00:00')},\n",
       " 'COK10': {'data_start': Timestamp('2010-02-16 00:00:00'),\n",
       "  'expiration': Timestamp('2010-04-15 23:00:00')},\n",
       " 'COK11': {'data_start': Timestamp('2011-02-16 00:00:00'),\n",
       "  'expiration': Timestamp('2011-04-14 23:00:00')},\n",
       " 'COK12': {'data_start': Timestamp('2012-02-16 00:00:00'),\n",
       "  'expiration': Timestamp('2012-04-13 23:00:00')},\n",
       " 'COK13': {'data_start': Timestamp('2013-02-14 00:00:00'),\n",
       "  'expiration': Timestamp('2013-04-15 23:00:00')},\n",
       " 'COK14': {'data_start': Timestamp('2014-02-14 00:00:00'),\n",
       "  'expiration': Timestamp('2014-04-15 23:00:00')},\n",
       " 'COK15': {'data_start': Timestamp('2015-02-16 00:00:00'),\n",
       "  'expiration': Timestamp('2015-04-15 23:00:00')},\n",
       " 'COK16': {'data_start': Timestamp('2016-02-01 00:00:00'),\n",
       "  'expiration': Timestamp('2016-03-31 23:00:00')},\n",
       " 'COK17': {'data_start': Timestamp('2017-01-31 00:00:00'),\n",
       "  'expiration': Timestamp('2017-03-31 23:00:00')},\n",
       " 'COK18': {'data_start': Timestamp('2018-01-31 00:00:00'),\n",
       "  'expiration': Timestamp('2018-03-30 23:00:00')},\n",
       " 'COK19': {'data_start': Timestamp('2019-01-31 00:00:00'),\n",
       "  'expiration': Timestamp('2019-03-29 23:00:00')},\n",
       " 'COK20': {'data_start': Timestamp('2020-01-31 00:00:00'),\n",
       "  'expiration': Timestamp('2020-03-31 23:00:00')},\n",
       " 'COK21': {'data_start': Timestamp('2021-01-29 00:00:00'),\n",
       "  'expiration': Timestamp('2021-03-31 23:00:00')},\n",
       " 'COK22': {'data_start': Timestamp('2022-01-31 00:00:00'),\n",
       "  'expiration': Timestamp('2022-03-31 23:00:00')},\n",
       " 'COK23': {'data_start': Timestamp('2023-01-31 00:00:00'),\n",
       "  'expiration': Timestamp('2023-03-31 23:00:00')},\n",
       " 'COK24': {'data_start': Timestamp('2024-02-01 00:00:00'),\n",
       "  'expiration': Timestamp('2024-03-29 23:00:00')},\n",
       " 'COK25': {'data_start': Timestamp('2025-01-31 00:00:00'),\n",
       "  'expiration': Timestamp('2025-03-31 23:00:00')},\n",
       " 'COM09': {'data_start': Timestamp('2009-03-18 00:00:00'),\n",
       "  'expiration': Timestamp('2009-05-14 23:00:00')},\n",
       " 'COM10': {'data_start': Timestamp('2010-03-18 00:00:00'),\n",
       "  'expiration': Timestamp('2010-05-14 23:00:00')},\n",
       " 'COM11': {'data_start': Timestamp('2011-03-17 00:00:00'),\n",
       "  'expiration': Timestamp('2011-05-16 23:00:00')},\n",
       " 'COM12': {'data_start': Timestamp('2012-03-16 00:00:00'),\n",
       "  'expiration': Timestamp('2012-05-16 23:00:00')},\n",
       " 'COM13': {'data_start': Timestamp('2013-03-18 00:00:00'),\n",
       "  'expiration': Timestamp('2013-05-16 23:00:00')},\n",
       " 'COM14': {'data_start': Timestamp('2014-03-18 00:00:00'),\n",
       "  'expiration': Timestamp('2014-05-15 23:00:00')},\n",
       " 'COM15': {'data_start': Timestamp('2015-03-18 00:00:00'),\n",
       "  'expiration': Timestamp('2015-05-14 23:00:00')},\n",
       " 'COM16': {'data_start': Timestamp('2016-03-03 00:00:00'),\n",
       "  'expiration': Timestamp('2016-04-29 23:00:00')},\n",
       " 'COM17': {'data_start': Timestamp('2017-03-03 00:00:00'),\n",
       "  'expiration': Timestamp('2017-04-28 23:00:00')},\n",
       " 'COM18': {'data_start': Timestamp('2018-03-02 00:00:00'),\n",
       "  'expiration': Timestamp('2018-04-30 23:00:00')},\n",
       " 'COM19': {'data_start': Timestamp('2019-03-01 00:00:00'),\n",
       "  'expiration': Timestamp('2019-04-30 23:00:00')},\n",
       " 'COM20': {'data_start': Timestamp('2020-03-03 00:00:00'),\n",
       "  'expiration': Timestamp('2020-04-30 23:00:00')},\n",
       " 'COM21': {'data_start': Timestamp('2021-03-03 00:00:00'),\n",
       "  'expiration': Timestamp('2021-04-30 23:00:00')},\n",
       " 'COM22': {'data_start': Timestamp('2022-03-03 00:00:00'),\n",
       "  'expiration': Timestamp('2022-04-29 23:00:00')},\n",
       " 'COM23': {'data_start': Timestamp('2023-03-03 00:00:00'),\n",
       "  'expiration': Timestamp('2023-04-28 23:00:00')},\n",
       " 'COM24': {'data_start': Timestamp('2024-03-01 00:00:00'),\n",
       "  'expiration': Timestamp('2024-04-30 23:00:00')},\n",
       " 'COM25': {'data_start': Timestamp('2025-03-03 00:00:00'),\n",
       "  'expiration': Timestamp('2025-04-30 23:00:00')},\n",
       " 'CON09': {'data_start': Timestamp('2009-04-16 00:00:00'),\n",
       "  'expiration': Timestamp('2009-06-15 23:00:00')},\n",
       " 'CON10': {'data_start': Timestamp('2010-04-16 00:00:00'),\n",
       "  'expiration': Timestamp('2010-06-15 23:00:00')},\n",
       " 'CON11': {'data_start': Timestamp('2011-04-18 00:00:00'),\n",
       "  'expiration': Timestamp('2011-06-15 23:00:00')},\n",
       " 'CON12': {'data_start': Timestamp('2012-04-18 00:00:00'),\n",
       "  'expiration': Timestamp('2012-06-14 23:00:00')},\n",
       " 'CON13': {'data_start': Timestamp('2013-04-18 00:00:00'),\n",
       "  'expiration': Timestamp('2013-06-13 23:00:00')},\n",
       " 'CON14': {'data_start': Timestamp('2014-04-17 00:00:00'),\n",
       "  'expiration': Timestamp('2014-06-13 23:00:00')},\n",
       " 'CON15': {'data_start': Timestamp('2015-04-16 00:00:00'),\n",
       "  'expiration': Timestamp('2015-06-15 23:00:00')},\n",
       " 'CON16': {'data_start': Timestamp('2016-04-01 00:00:00'),\n",
       "  'expiration': Timestamp('2016-05-31 23:00:00')},\n",
       " 'CON17': {'data_start': Timestamp('2017-03-31 00:00:00'),\n",
       "  'expiration': Timestamp('2017-05-31 23:00:00')},\n",
       " 'CON18': {'data_start': Timestamp('2018-04-02 00:00:00'),\n",
       "  'expiration': Timestamp('2018-05-31 23:00:00')},\n",
       " 'CON19': {'data_start': Timestamp('2019-04-02 00:00:00'),\n",
       "  'expiration': Timestamp('2019-05-31 23:00:00')},\n",
       " 'CON20': {'data_start': Timestamp('2020-04-02 00:00:00'),\n",
       "  'expiration': Timestamp('2020-05-29 23:00:00')},\n",
       " 'CON21': {'data_start': Timestamp('2021-04-02 00:00:00'),\n",
       "  'expiration': Timestamp('2021-05-31 23:00:00')},\n",
       " 'CON22': {'data_start': Timestamp('2022-04-01 00:00:00'),\n",
       "  'expiration': Timestamp('2022-05-31 23:00:00')},\n",
       " 'CON23': {'data_start': Timestamp('2023-03-31 00:00:00'),\n",
       "  'expiration': Timestamp('2023-05-31 23:00:00')},\n",
       " 'CON24': {'data_start': Timestamp('2024-04-02 00:00:00'),\n",
       "  'expiration': Timestamp('2024-05-31 23:00:00')},\n",
       " 'CON25': {'data_start': Timestamp('2025-04-02 00:00:00'),\n",
       "  'expiration': Timestamp('2025-05-30 23:00:00')},\n",
       " 'COQ09': {'data_start': Timestamp('2009-05-18 00:00:00'),\n",
       "  'expiration': Timestamp('2009-07-16 23:00:00')},\n",
       " 'COQ10': {'data_start': Timestamp('2010-05-18 00:00:00'),\n",
       "  'expiration': Timestamp('2010-07-15 23:00:00')},\n",
       " 'COQ11': {'data_start': Timestamp('2011-05-18 00:00:00'),\n",
       "  'expiration': Timestamp('2011-07-14 23:00:00')},\n",
       " 'COQ12': {'data_start': Timestamp('2012-05-17 00:00:00'),\n",
       "  'expiration': Timestamp('2012-07-16 23:00:00')},\n",
       " 'COQ13': {'data_start': Timestamp('2013-05-16 00:00:00'),\n",
       "  'expiration': Timestamp('2013-07-16 23:00:00')},\n",
       " 'COQ14': {'data_start': Timestamp('2014-05-16 00:00:00'),\n",
       "  'expiration': Timestamp('2014-07-16 23:00:00')},\n",
       " 'COQ15': {'data_start': Timestamp('2015-05-18 00:00:00'),\n",
       "  'expiration': Timestamp('2015-07-16 23:00:00')},\n",
       " 'COQ16': {'data_start': Timestamp('2016-05-03 00:00:00'),\n",
       "  'expiration': Timestamp('2016-06-30 23:00:00')},\n",
       " 'COQ17': {'data_start': Timestamp('2017-05-03 00:00:00'),\n",
       "  'expiration': Timestamp('2017-06-30 23:00:00')},\n",
       " 'COQ18': {'data_start': Timestamp('2018-05-03 00:00:00'),\n",
       "  'expiration': Timestamp('2018-06-29 23:00:00')},\n",
       " 'COQ19': {'data_start': Timestamp('2019-05-03 00:00:00'),\n",
       "  'expiration': Timestamp('2019-06-28 23:00:00')},\n",
       " 'COQ20': {'data_start': Timestamp('2020-05-01 00:00:00'),\n",
       "  'expiration': Timestamp('2020-06-30 23:00:00')},\n",
       " 'COQ21': {'data_start': Timestamp('2021-05-03 00:00:00'),\n",
       "  'expiration': Timestamp('2021-06-30 23:00:00')},\n",
       " 'COQ22': {'data_start': Timestamp('2022-05-03 00:00:00'),\n",
       "  'expiration': Timestamp('2022-06-30 23:00:00')},\n",
       " 'COQ23': {'data_start': Timestamp('2023-05-03 00:00:00'),\n",
       "  'expiration': Timestamp('2023-06-30 23:00:00')},\n",
       " 'COQ24': {'data_start': Timestamp('2024-05-03 00:00:00'),\n",
       "  'expiration': Timestamp('2024-06-28 23:00:00')},\n",
       " 'COQ25': {'data_start': Timestamp('2025-05-02 00:00:00'),\n",
       "  'expiration': Timestamp('2025-06-30 23:00:00')},\n",
       " 'COU09': {'data_start': Timestamp('2009-06-18 00:00:00'),\n",
       "  'expiration': Timestamp('2009-08-14 23:00:00')},\n",
       " 'COU10': {'data_start': Timestamp('2010-06-17 00:00:00'),\n",
       "  'expiration': Timestamp('2010-08-16 23:00:00')},\n",
       " 'COU11': {'data_start': Timestamp('2011-06-16 00:00:00'),\n",
       "  'expiration': Timestamp('2011-08-16 23:00:00')},\n",
       " 'COU12': {'data_start': Timestamp('2012-06-18 00:00:00'),\n",
       "  'expiration': Timestamp('2012-08-16 23:00:00')},\n",
       " 'COU13': {'data_start': Timestamp('2013-06-18 00:00:00'),\n",
       "  'expiration': Timestamp('2013-08-15 23:00:00')},\n",
       " 'COU14': {'data_start': Timestamp('2014-06-18 00:00:00'),\n",
       "  'expiration': Timestamp('2014-08-14 23:00:00')},\n",
       " 'COU15': {'data_start': Timestamp('2015-06-18 00:00:00'),\n",
       "  'expiration': Timestamp('2015-08-14 23:00:00')},\n",
       " 'COU16': {'data_start': Timestamp('2016-06-02 00:00:00'),\n",
       "  'expiration': Timestamp('2016-07-29 23:00:00')},\n",
       " 'COU17': {'data_start': Timestamp('2017-06-02 00:00:00'),\n",
       "  'expiration': Timestamp('2017-07-31 23:00:00')},\n",
       " 'COU18': {'data_start': Timestamp('2018-06-01 00:00:00'),\n",
       "  'expiration': Timestamp('2018-07-31 23:00:00')},\n",
       " 'COU19': {'data_start': Timestamp('2019-05-31 00:00:00'),\n",
       "  'expiration': Timestamp('2019-07-31 23:00:00')},\n",
       " 'COU20': {'data_start': Timestamp('2020-06-02 00:00:00'),\n",
       "  'expiration': Timestamp('2020-07-31 23:00:00')},\n",
       " 'COU21': {'data_start': Timestamp('2021-06-02 00:00:00'),\n",
       "  'expiration': Timestamp('2021-07-30 23:00:00')},\n",
       " 'COU22': {'data_start': Timestamp('2022-06-02 00:00:00'),\n",
       "  'expiration': Timestamp('2022-07-29 23:00:00')},\n",
       " 'COU23': {'data_start': Timestamp('2023-06-02 00:00:00'),\n",
       "  'expiration': Timestamp('2023-07-31 23:00:00')},\n",
       " 'COU24': {'data_start': Timestamp('2024-05-31 00:00:00'),\n",
       "  'expiration': Timestamp('2024-07-31 23:00:00')},\n",
       " 'COU25': {'data_start': Timestamp('2025-06-02 00:00:00'),\n",
       "  'expiration': Timestamp('2025-07-31 23:00:00')},\n",
       " 'COV09': {'data_start': Timestamp('2009-07-17 00:00:00'),\n",
       "  'expiration': Timestamp('2009-09-15 23:00:00')},\n",
       " 'COV10': {'data_start': Timestamp('2010-07-19 00:00:00'),\n",
       "  'expiration': Timestamp('2010-09-15 23:00:00')},\n",
       " 'COV11': {'data_start': Timestamp('2011-07-19 00:00:00'),\n",
       "  'expiration': Timestamp('2011-09-15 23:00:00')},\n",
       " 'COV12': {'data_start': Timestamp('2012-07-19 00:00:00'),\n",
       "  'expiration': Timestamp('2012-09-13 23:00:00')},\n",
       " 'COV13': {'data_start': Timestamp('2013-07-18 00:00:00'),\n",
       "  'expiration': Timestamp('2013-09-13 23:00:00')},\n",
       " 'COV14': {'data_start': Timestamp('2014-07-17 00:00:00'),\n",
       "  'expiration': Timestamp('2014-09-15 23:00:00')},\n",
       " 'COV15': {'data_start': Timestamp('2015-07-17 00:00:00'),\n",
       "  'expiration': Timestamp('2015-09-15 23:00:00')},\n",
       " 'COV16': {'data_start': Timestamp('2016-07-01 00:00:00'),\n",
       "  'expiration': Timestamp('2016-08-31 23:00:00')},\n",
       " 'COV17': {'data_start': Timestamp('2017-07-03 00:00:00'),\n",
       "  'expiration': Timestamp('2017-08-31 23:00:00')},\n",
       " 'COV18': {'data_start': Timestamp('2018-07-03 00:00:00'),\n",
       "  'expiration': Timestamp('2018-08-31 23:00:00')},\n",
       " 'COV19': {'data_start': Timestamp('2019-07-03 00:00:00'),\n",
       "  'expiration': Timestamp('2019-08-30 23:00:00')},\n",
       " 'COV20': {'data_start': Timestamp('2020-07-03 00:00:00'),\n",
       "  'expiration': Timestamp('2020-08-31 23:00:00')},\n",
       " 'COV21': {'data_start': Timestamp('2021-07-02 00:00:00'),\n",
       "  'expiration': Timestamp('2021-08-31 23:00:00')},\n",
       " 'COV22': {'data_start': Timestamp('2022-07-01 00:00:00'),\n",
       "  'expiration': Timestamp('2022-08-31 23:00:00')},\n",
       " 'COV23': {'data_start': Timestamp('2023-07-03 00:00:00'),\n",
       "  'expiration': Timestamp('2023-08-31 23:00:00')},\n",
       " 'COV24': {'data_start': Timestamp('2024-07-03 00:00:00'),\n",
       "  'expiration': Timestamp('2024-08-30 23:00:00')},\n",
       " 'COV25': {'data_start': Timestamp('2025-07-03 00:00:00'),\n",
       "  'expiration': Timestamp('2025-08-29 23:00:00')},\n",
       " 'COX09': {'data_start': Timestamp('2009-08-18 00:00:00'),\n",
       "  'expiration': Timestamp('2009-10-15 23:00:00')},\n",
       " 'COX10': {'data_start': Timestamp('2010-08-18 00:00:00'),\n",
       "  'expiration': Timestamp('2010-10-14 23:00:00')},\n",
       " 'COX11': {'data_start': Timestamp('2011-08-18 00:00:00'),\n",
       "  'expiration': Timestamp('2011-10-14 23:00:00')},\n",
       " 'COX12': {'data_start': Timestamp('2012-08-16 00:00:00'),\n",
       "  'expiration': Timestamp('2012-10-16 23:00:00')},\n",
       " 'COX13': {'data_start': Timestamp('2013-08-16 00:00:00'),\n",
       "  'expiration': Timestamp('2013-10-16 23:00:00')},\n",
       " 'COX14': {'data_start': Timestamp('2014-08-18 00:00:00'),\n",
       "  'expiration': Timestamp('2014-10-16 23:00:00')},\n",
       " 'COX15': {'data_start': Timestamp('2015-08-18 00:00:00'),\n",
       "  'expiration': Timestamp('2015-10-15 23:00:00')},\n",
       " 'COX16': {'data_start': Timestamp('2016-08-03 00:00:00'),\n",
       "  'expiration': Timestamp('2016-09-30 23:00:00')},\n",
       " 'COX17': {'data_start': Timestamp('2017-08-03 00:00:00'),\n",
       "  'expiration': Timestamp('2017-09-29 23:00:00')},\n",
       " 'COX18': {'data_start': Timestamp('2018-08-03 00:00:00'),\n",
       "  'expiration': Timestamp('2018-09-28 23:00:00')},\n",
       " 'COX19': {'data_start': Timestamp('2019-08-02 00:00:00'),\n",
       "  'expiration': Timestamp('2019-09-30 23:00:00')},\n",
       " 'COX20': {'data_start': Timestamp('2020-08-03 00:00:00'),\n",
       "  'expiration': Timestamp('2020-09-30 23:00:00')},\n",
       " 'COX21': {'data_start': Timestamp('2021-08-03 00:00:00'),\n",
       "  'expiration': Timestamp('2021-09-30 23:00:00')},\n",
       " 'COX22': {'data_start': Timestamp('2022-08-03 00:00:00'),\n",
       "  'expiration': Timestamp('2022-09-30 23:00:00')},\n",
       " 'COX23': {'data_start': Timestamp('2023-08-03 00:00:00'),\n",
       "  'expiration': Timestamp('2023-09-29 23:00:00')},\n",
       " 'COX24': {'data_start': Timestamp('2024-08-02 00:00:00'),\n",
       "  'expiration': Timestamp('2024-09-30 23:00:00')},\n",
       " 'COX25': {'data_start': Timestamp('2025-08-01 00:00:00'),\n",
       "  'expiration': Timestamp('2025-09-30 23:00:00')},\n",
       " 'COZ09': {'data_start': Timestamp('2009-09-17 00:00:00'),\n",
       "  'expiration': Timestamp('2009-11-13 23:00:00')},\n",
       " 'COZ10': {'data_start': Timestamp('2010-09-16 00:00:00'),\n",
       "  'expiration': Timestamp('2010-11-15 23:00:00')},\n",
       " 'COZ11': {'data_start': Timestamp('2011-09-16 00:00:00'),\n",
       "  'expiration': Timestamp('2011-11-15 23:00:00')},\n",
       " 'COZ12': {'data_start': Timestamp('2012-09-18 00:00:00'),\n",
       "  'expiration': Timestamp('2012-11-15 23:00:00')},\n",
       " 'COZ13': {'data_start': Timestamp('2013-09-18 00:00:00'),\n",
       "  'expiration': Timestamp('2013-11-14 23:00:00')},\n",
       " 'COZ14': {'data_start': Timestamp('2014-09-18 00:00:00'),\n",
       "  'expiration': Timestamp('2014-11-13 23:00:00')},\n",
       " 'COZ15': {'data_start': Timestamp('2015-09-17 00:00:00'),\n",
       "  'expiration': Timestamp('2015-11-13 23:00:00')},\n",
       " 'COZ16': {'data_start': Timestamp('2016-09-02 00:00:00'),\n",
       "  'expiration': Timestamp('2016-10-31 23:00:00')},\n",
       " 'COZ17': {'data_start': Timestamp('2017-09-01 00:00:00'),\n",
       "  'expiration': Timestamp('2017-10-31 23:00:00')},\n",
       " 'COZ18': {'data_start': Timestamp('2018-08-31 00:00:00'),\n",
       "  'expiration': Timestamp('2018-10-31 23:00:00')},\n",
       " 'COZ19': {'data_start': Timestamp('2019-09-02 00:00:00'),\n",
       "  'expiration': Timestamp('2019-10-31 23:00:00')},\n",
       " 'COZ20': {'data_start': Timestamp('2020-09-02 00:00:00'),\n",
       "  'expiration': Timestamp('2020-10-30 23:00:00')},\n",
       " 'COZ21': {'data_start': Timestamp('2021-09-02 00:00:00'),\n",
       "  'expiration': Timestamp('2021-10-29 23:00:00')},\n",
       " 'COZ22': {'data_start': Timestamp('2022-09-02 00:00:00'),\n",
       "  'expiration': Timestamp('2022-10-31 23:00:00')},\n",
       " 'COZ23': {'data_start': Timestamp('2023-09-01 00:00:00'),\n",
       "  'expiration': Timestamp('2023-10-31 23:00:00')},\n",
       " 'COZ24': {'data_start': Timestamp('2024-09-02 00:00:00'),\n",
       "  'expiration': Timestamp('2024-10-31 23:00:00')},\n",
       " 'COZ25': {'data_start': Timestamp('2025-09-02 00:00:00'),\n",
       "  'expiration': Timestamp('2025-10-31 23:00:00')}}"
      ]
     },
     "execution_count": 10,
     "metadata": {},
     "output_type": "execute_result"
    }
   ],
   "source": [
    "contract_expiration"
   ]
  },
  {
   "cell_type": "markdown",
   "metadata": {},
   "source": [
    "# Build trades 5S timebars"
   ]
  },
  {
   "cell_type": "code",
   "execution_count": 11,
   "metadata": {
    "ExecuteTime": {
     "end_time": "2018-07-17T15:46:45.517524Z",
     "start_time": "2018-07-17T15:46:45.489206Z"
    }
   },
   "outputs": [],
   "source": [
    "def wrapper_function(file_path):\n",
    "    \n",
    "    RESOLUTION='5S'\n",
    "    \n",
    "    symbol = file_path.replace('.csv', '')[-5:]\n",
    "    \n",
    "    print('Processing {}...'.format(symbol))\n",
    "    df = pd.read_csv(file_path)\n",
    "    \n",
    "    clean_df = clean_trades(df)\n",
    "    \n",
    "    mask = (clean_df.index>=contract_expiration[symbol]['data_start']) & (clean_df.index<=contract_expiration[symbol]['expiration'])\n",
    "    clean_df = clean_df.loc[mask,:]\n",
    "    \n",
    "    bars = trades_to_bars(clean_df, RESOLUTION)\n",
    "    \n",
    "    bars.to_pickle('../clean_data/time_bars_{}/{}.pickle'.format(RESOLUTION,symbol))\n",
    "    print('Processing {}...DONE'.format(symbol))\n",
    "    del bars, clean_df, df"
   ]
  },
  {
   "cell_type": "code",
   "execution_count": 12,
   "metadata": {
    "ExecuteTime": {
     "end_time": "2018-07-17T15:47:56.955246Z",
     "start_time": "2018-07-17T15:46:45.518852Z"
    }
   },
   "outputs": [],
   "source": [
    "from joblib import Parallel, delayed\n",
    "import multiprocessing\n",
    "    \n",
    "results = Parallel(n_jobs=10)(delayed(wrapper_function)(file_path) for file_path in trade_files)"
   ]
  }
 ],
 "metadata": {
  "kernelspec": {
   "display_name": "Python 3",
   "language": "python",
   "name": "python3"
  },
  "language_info": {
   "codemirror_mode": {
    "name": "ipython",
    "version": 3
   },
   "file_extension": ".py",
   "mimetype": "text/x-python",
   "name": "python",
   "nbconvert_exporter": "python",
   "pygments_lexer": "ipython3",
   "version": "3.6.1"
  },
  "toc": {
   "base_numbering": 1,
   "nav_menu": {},
   "number_sections": true,
   "sideBar": true,
   "skip_h1_title": false,
   "title_cell": "Table of Contents",
   "title_sidebar": "Contents",
   "toc_cell": true,
   "toc_position": {
    "height": "calc(100% - 180px)",
    "left": "10px",
    "top": "150px",
    "width": "384px"
   },
   "toc_section_display": true,
   "toc_window_display": true
  }
 },
 "nbformat": 4,
 "nbformat_minor": 2
}
