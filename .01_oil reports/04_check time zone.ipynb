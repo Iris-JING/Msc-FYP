{
 "cells": [
  {
   "cell_type": "code",
   "execution_count": 3,
   "metadata": {},
   "outputs": [],
   "source": [
    "import pandas as pd\n",
    "import os\n",
    "\n",
    "\n",
    "def parse_text(file):\n",
    "\n",
    "    out_dict = {}\n",
    "    with open(folder+file, 'r',encoding='gb18030',errors='ignore') as f:\n",
    "  \n",
    "            text = f.read() \n",
    "            header = text.split('\\n') # split text\n",
    "            title = header[1]# get title\n",
    "            \n",
    "            if '[Delayed]' in title: # check if delayed\n",
    "                if '-0-'in header[-10]:\n",
    "                    zone = header[-10].split('-0- ')[1] # get date\n",
    "                \n",
    "#                     content = \" \".join(str(x) for x in header[2:-10])\n",
    "                else:\n",
    "                    zone = header[0].split(' Date')[1].replace(': ','')\n",
    "#                     content = \" \".join(str(x) for x in header[2:-8])\n",
    "            else:\n",
    "                if '-0-'in header[-8]:\n",
    "                    zone = header[-8].split('-0- ')[1]# get date\n",
    "#                     content = \" \".join(str(x) for x in header[2:-8])\n",
    "                else:\n",
    "                    zone = header[0].split(' Date')[1].replace(': ','')\n",
    "#                     content = \" \".join(str(x) for x in header[2:-7])\n",
    "    \n",
    "            out_dict['zone'] = zone\n",
    "\n",
    "            \n",
    "    return out_dict"
   ]
  },
  {
   "cell_type": "code",
   "execution_count": 1,
   "metadata": {
    "ExecuteTime": {
     "end_time": "2018-09-05T22:25:45.506962Z",
     "start_time": "2018-09-05T22:25:45.488420Z"
    }
   },
   "outputs": [],
   "source": [
    "folder = 'C:/Users/Iris King/Desktop/MSc_FYP/original_reports/2013/'\n",
    "files = os.listdir(folder)\n",
    "\n",
    "files_dict_2013={}\n",
    "\n",
    "for file in files:\n",
    "    files_dict_2013[file]=parse_text(file)\n",
    "# files_dict_2013"
   ]
  },
  {
   "cell_type": "code",
   "execution_count": 2,
   "metadata": {
    "ExecuteTime": {
     "end_time": "2018-09-05T22:25:51.338750Z",
     "start_time": "2018-09-05T22:25:51.324109Z"
    }
   },
   "outputs": [],
   "source": [
    "folder = 'C:/Users/Iris King/Desktop/MSc_FYP/original_reports/2014/'\n",
    "files = os.listdir(folder)\n",
    "\n",
    "files_dict_2014={}\n",
    "\n",
    "for file in files:\n",
    "    files_dict_2014[file]=parse_text(file)\n",
    "# files_dict_2014"
   ]
  },
  {
   "cell_type": "code",
   "execution_count": 3,
   "metadata": {
    "ExecuteTime": {
     "end_time": "2018-09-05T22:25:57.928908Z",
     "start_time": "2018-09-05T22:25:57.916225Z"
    }
   },
   "outputs": [],
   "source": [
    "folder = 'C:/Users/Iris King/Desktop/MSc_FYP/original_reports/2015/'\n",
    "files = os.listdir(folder)\n",
    "\n",
    "files_dict_2015={}\n",
    "\n",
    "for file in files:\n",
    "    files_dict_2015[file]=parse_text(file)\n",
    "# files_dict_2015"
   ]
  },
  {
   "cell_type": "code",
   "execution_count": 4,
   "metadata": {
    "ExecuteTime": {
     "end_time": "2018-09-05T22:26:02.912524Z",
     "start_time": "2018-09-05T22:26:02.901792Z"
    }
   },
   "outputs": [],
   "source": [
    "folder = 'C:/Users/Iris King/Desktop/MSc_FYP/original_reports/2016/'\n",
    "files = os.listdir(folder)\n",
    "\n",
    "files_dict_2016={}\n",
    "\n",
    "for file in files:\n",
    "    files_dict_2016[file]=parse_text(file)\n",
    "# files_dict_2016"
   ]
  },
  {
   "cell_type": "code",
   "execution_count": 5,
   "metadata": {
    "ExecuteTime": {
     "end_time": "2018-09-05T22:26:07.640428Z",
     "start_time": "2018-09-05T22:26:07.628710Z"
    }
   },
   "outputs": [],
   "source": [
    "folder = 'C:/Users/Iris King/Desktop/MSc_FYP/original_reports/2017/'\n",
    "files = os.listdir(folder)\n",
    "\n",
    "files_dict_2017={}\n",
    "\n",
    "for file in files:\n",
    "    files_dict_2017[file]=parse_text(file)\n",
    "# files_dict_2017"
   ]
  },
  {
   "cell_type": "code",
   "execution_count": 6,
   "metadata": {
    "ExecuteTime": {
     "end_time": "2018-09-05T22:26:12.540097Z",
     "start_time": "2018-09-05T22:26:12.526434Z"
    }
   },
   "outputs": [],
   "source": [
    "folder = 'C:/Users/Iris King/Desktop/MSc_FYP/original_reports/2018/'\n",
    "files = os.listdir(folder)\n",
    "\n",
    "files_dict_2018={}\n",
    "\n",
    "for file in files:\n",
    "    files_dict_2018[file]=parse_text(file)\n",
    "# files_dict_2018"
   ]
  },
  {
   "cell_type": "code",
   "execution_count": 31,
   "metadata": {},
   "outputs": [],
   "source": [
    "#2013\n",
    "df_2013 = pd.DataFrame(columns=['zone'])\n",
    "for name in files_dict_2013.keys():\n",
    "    key = files_dict_2013[name]\n",
    "    new = pd.DataFrame([key])\n",
    "    df_2013 = pd.merge(df_2013, new, how='outer')"
   ]
  },
  {
   "cell_type": "code",
   "execution_count": 13,
   "metadata": {},
   "outputs": [],
   "source": [
    "#2013\n",
    "df_2013 = pd.DataFrame(columns=['zone'])\n",
    "for name in files_dict_2013.keys():\n",
    "    key = files_dict_2013[name]\n",
    "    new = pd.DataFrame([key])\n",
    "    df_2013 = pd.merge(df_2013, new, how='outer')\n",
    "    \n",
    "#2014\n",
    "df_2014 = pd.DataFrame(columns=['zone'])\n",
    "for name in files_dict_2014.keys():\n",
    "    key = files_dict_2014[name]\n",
    "    new = pd.DataFrame([key])\n",
    "    df_2014 = pd.merge(df_2014, new, how='outer')\n",
    "    \n",
    "#2015\n",
    "df_2015 = pd.DataFrame(columns=['zone'])\n",
    "for name in files_dict_2015.keys():\n",
    "    key = files_dict_2015[name]\n",
    "    new = pd.DataFrame([key])\n",
    "    df_2015 = pd.merge(df_2015, new, how='outer')\n",
    "    \n",
    "#2016\n",
    "df_2016 = pd.DataFrame(columns=['zone'])\n",
    "for name in files_dict_2016.keys():\n",
    "    key = files_dict_2016[name]\n",
    "    new = pd.DataFrame([key])\n",
    "    df_2016 = pd.merge(df_2016, new, how='outer')\n",
    "\n",
    "#2017\n",
    "df_2017 = pd.DataFrame(columns=['zone'])\n",
    "for name in files_dict_2017.keys():\n",
    "    key = files_dict_2017[name]\n",
    "    new = pd.DataFrame([key])\n",
    "    df_2017 = pd.merge(df_2017, new, how='outer')\n",
    "    \n",
    "#2018\n",
    "df_2018 = pd.DataFrame(columns=['zone'])\n",
    "for name in files_dict_2018.keys():\n",
    "    key = files_dict_2018[name]\n",
    "    new = pd.DataFrame([key])\n",
    "    df_2018 = pd.merge(df_2018, new, how='outer')"
   ]
  },
  {
   "cell_type": "code",
   "execution_count": 35,
   "metadata": {},
   "outputs": [],
   "source": [
    "df_14 =  pd.merge(df_2013,df_2014,how='outer')\n",
    "df_15 =  pd.merge(df_14,df_2015,how='outer')\n",
    "df_16 =  pd.merge(df_15,df_2016,how='outer')\n",
    "df_17 =  pd.merge(df_16,df_2017,how='outer')\n",
    "df = pd.merge(df_17,df_2018,how='outer')"
   ]
  },
  {
   "cell_type": "code",
   "execution_count": 36,
   "metadata": {
    "scrolled": true
   },
   "outputs": [
    {
     "data": {
      "text/plain": [
       "zone\n",
       "Apr 10 2017  16:07:45    1\n",
       "Apr 12 2016  17:50:29    1\n",
       "Apr 12 2018  22:21:05    1\n",
       "Apr 15 2016  5:18:35     1\n",
       "Apr 16 2018  11:28:34    1\n",
       "Apr 18 2016  2:09:46     1\n",
       "Apr 19 2016  2:15:59     1\n",
       "Apr 19 2018  19:26:47    1\n",
       "Apr 19 2018  3:58:57     1\n",
       "Apr 20 2016  3:29:42     1\n",
       "Apr 25 2015  0:00:00     1\n",
       "Apr 25 2018  14:00:00    1\n",
       "Apr 25 2018  17:08:28    1\n",
       "Apr 25 2018  5:32:53     1\n",
       "Apr 26 2017  15:50:22    1\n",
       "Apr 30 2018  9:33:51     1\n",
       "Apr 4 2017  15:59:33     1\n",
       "Apr 5 2018  21:17:03     1\n",
       "Apr 7 2014  14:00:00     1\n",
       "Aug 1 2017  17:51:52     1\n",
       "Aug 10 2016  8:50:17     1\n",
       "Aug 12 2016  22:52:39    1\n",
       "Aug 15 2016  17:43:53    1\n",
       "Aug 23 2016  14:45:33    1\n",
       "Aug 26 2013  17:44:43    1\n",
       "Aug 26 2015  15:16:33    1\n",
       "Aug 28 2015  0:16:23     1\n",
       "Aug 30 2017  16:32:12    1\n",
       "Aug 31 2016  11:48:06    1\n",
       "Dec 1 2015  15:37:38     1\n",
       "                        ..\n",
       "Oct 9 2017  19:33:04     1\n",
       "Sep 1 2015  2:42:12      1\n",
       "Sep 12 2015  4:39:24     1\n",
       "Sep 12 2017  16:00:03    1\n",
       "Sep 14 2017  16:27:50    1\n",
       "Sep 14 2017  16:29:11    1\n",
       "Sep 14 2017  16:30:34    1\n",
       "Sep 20 2017  15:37:20    1\n",
       "Sep 20 2017  15:39:52    1\n",
       "Sep 20 2017  15:43:09    1\n",
       "Sep 21 2015  1:37:23     1\n",
       "Sep 22 2016  18:10:34    1\n",
       "Sep 22 2016  8:56:53     1\n",
       "Sep 22 2017  0:17:42     1\n",
       "Sep 22 2017  18:41:37    1\n",
       "Sep 23 2013  17:00:00    1\n",
       "Sep 23 2016  2:17:10     1\n",
       "Sep 28 2017  15:41:44    1\n",
       "Sep 28 2017  16:00:36    1\n",
       "Sep 28 2017  16:06:59    1\n",
       "Sep 28 2017  16:13:33    1\n",
       "Sep 28 2017  16:21:19    1\n",
       "Sep 29 2017  18:56:20    1\n",
       "Sep 3 2013  0:20:14      1\n",
       "Sep 30 2016  6:18:46     1\n",
       "Sep 7 2017  17:48:52     1\n",
       "Sep 7 2017  17:55:24     1\n",
       "Sep 7 2017  18:03:14     1\n",
       "Sep 7 2017  18:07:14     1\n",
       "Sep 7 2017  18:11:08     1\n",
       "Length: 211, dtype: int64"
      ]
     },
     "execution_count": 36,
     "metadata": {},
     "output_type": "execute_result"
    }
   ],
   "source": [
    "df.groupby('zone').size()"
   ]
  },
  {
   "cell_type": "code",
   "execution_count": 32,
   "metadata": {},
   "outputs": [
    {
     "data": {
      "text/html": [
       "<div>\n",
       "<style>\n",
       "    .dataframe thead tr:only-child th {\n",
       "        text-align: right;\n",
       "    }\n",
       "\n",
       "    .dataframe thead th {\n",
       "        text-align: left;\n",
       "    }\n",
       "\n",
       "    .dataframe tbody tr th {\n",
       "        vertical-align: top;\n",
       "    }\n",
       "</style>\n",
       "<table border=\"1\" class=\"dataframe\">\n",
       "  <thead>\n",
       "    <tr style=\"text-align: right;\">\n",
       "      <th></th>\n",
       "      <th>zone</th>\n",
       "    </tr>\n",
       "  </thead>\n",
       "  <tbody>\n",
       "    <tr>\n",
       "      <th>0</th>\n",
       "      <td>GMT</td>\n",
       "    </tr>\n",
       "    <tr>\n",
       "      <th>1</th>\n",
       "      <td>Jan 22 2013  1:16:01</td>\n",
       "    </tr>\n",
       "    <tr>\n",
       "      <th>2</th>\n",
       "      <td>May 7 2013  15:29:35</td>\n",
       "    </tr>\n",
       "    <tr>\n",
       "      <th>3</th>\n",
       "      <td>May 8 2013  16:33:00</td>\n",
       "    </tr>\n",
       "    <tr>\n",
       "      <th>4</th>\n",
       "      <td>Jul 10 2013  19:08:30</td>\n",
       "    </tr>\n",
       "    <tr>\n",
       "      <th>5</th>\n",
       "      <td>Aug 26 2013  17:44:43</td>\n",
       "    </tr>\n",
       "    <tr>\n",
       "      <th>6</th>\n",
       "      <td>Sep 3 2013  0:20:14</td>\n",
       "    </tr>\n",
       "    <tr>\n",
       "      <th>7</th>\n",
       "      <td>Sep 23 2013  17:00:00</td>\n",
       "    </tr>\n",
       "    <tr>\n",
       "      <th>8</th>\n",
       "      <td>Oct 14 2013  20:00:00</td>\n",
       "    </tr>\n",
       "    <tr>\n",
       "      <th>9</th>\n",
       "      <td>Dec 9 2013  23:00:00</td>\n",
       "    </tr>\n",
       "    <tr>\n",
       "      <th>10</th>\n",
       "      <td>Dec 23 2013  19:00:00</td>\n",
       "    </tr>\n",
       "  </tbody>\n",
       "</table>\n",
       "</div>"
      ],
      "text/plain": [
       "                     zone\n",
       "0                     GMT\n",
       "1    Jan 22 2013  1:16:01\n",
       "2    May 7 2013  15:29:35\n",
       "3    May 8 2013  16:33:00\n",
       "4   Jul 10 2013  19:08:30\n",
       "5   Aug 26 2013  17:44:43\n",
       "6     Sep 3 2013  0:20:14\n",
       "7   Sep 23 2013  17:00:00\n",
       "8   Oct 14 2013  20:00:00\n",
       "9    Dec 9 2013  23:00:00\n",
       "10  Dec 23 2013  19:00:00"
      ]
     },
     "execution_count": 32,
     "metadata": {},
     "output_type": "execute_result"
    }
   ],
   "source": [
    "df_2013"
   ]
  },
  {
   "cell_type": "code",
   "execution_count": 33,
   "metadata": {
    "scrolled": true
   },
   "outputs": [
    {
     "data": {
      "text/html": [
       "<div>\n",
       "<style>\n",
       "    .dataframe thead tr:only-child th {\n",
       "        text-align: right;\n",
       "    }\n",
       "\n",
       "    .dataframe thead th {\n",
       "        text-align: left;\n",
       "    }\n",
       "\n",
       "    .dataframe tbody tr th {\n",
       "        vertical-align: top;\n",
       "    }\n",
       "</style>\n",
       "<table border=\"1\" class=\"dataframe\">\n",
       "  <thead>\n",
       "    <tr style=\"text-align: right;\">\n",
       "      <th></th>\n",
       "      <th>zone</th>\n",
       "    </tr>\n",
       "  </thead>\n",
       "  <tbody>\n",
       "    <tr>\n",
       "      <th>0</th>\n",
       "      <td>GMT</td>\n",
       "    </tr>\n",
       "    <tr>\n",
       "      <th>1</th>\n",
       "      <td>Jan 21 2014  22:00:00</td>\n",
       "    </tr>\n",
       "    <tr>\n",
       "      <th>2</th>\n",
       "      <td>Feb 10 2014  19:00:00</td>\n",
       "    </tr>\n",
       "    <tr>\n",
       "      <th>3</th>\n",
       "      <td>Apr 7 2014  14:00:00</td>\n",
       "    </tr>\n",
       "    <tr>\n",
       "      <th>4</th>\n",
       "      <td>Jun 30 2014  22:00:00</td>\n",
       "    </tr>\n",
       "    <tr>\n",
       "      <th>5</th>\n",
       "      <td>Jul 25 2014  2:55:05</td>\n",
       "    </tr>\n",
       "    <tr>\n",
       "      <th>6</th>\n",
       "      <td>Nov 3 2014  22:00:00</td>\n",
       "    </tr>\n",
       "    <tr>\n",
       "      <th>7</th>\n",
       "      <td>Nov 18 2014  20:00:00</td>\n",
       "    </tr>\n",
       "    <tr>\n",
       "      <th>8</th>\n",
       "      <td>Dec 4 2014  23:00:00</td>\n",
       "    </tr>\n",
       "    <tr>\n",
       "      <th>9</th>\n",
       "      <td>Dec 10 2014  16:00:00</td>\n",
       "    </tr>\n",
       "    <tr>\n",
       "      <th>10</th>\n",
       "      <td>Dec 16 2014  14:00:00</td>\n",
       "    </tr>\n",
       "  </tbody>\n",
       "</table>\n",
       "</div>"
      ],
      "text/plain": [
       "                     zone\n",
       "0                     GMT\n",
       "1   Jan 21 2014  22:00:00\n",
       "2   Feb 10 2014  19:00:00\n",
       "3    Apr 7 2014  14:00:00\n",
       "4   Jun 30 2014  22:00:00\n",
       "5    Jul 25 2014  2:55:05\n",
       "6    Nov 3 2014  22:00:00\n",
       "7   Nov 18 2014  20:00:00\n",
       "8    Dec 4 2014  23:00:00\n",
       "9   Dec 10 2014  16:00:00\n",
       "10  Dec 16 2014  14:00:00"
      ]
     },
     "execution_count": 33,
     "metadata": {},
     "output_type": "execute_result"
    }
   ],
   "source": [
    "df_2014"
   ]
  },
  {
   "cell_type": "code",
   "execution_count": null,
   "metadata": {},
   "outputs": [],
   "source": []
  }
 ],
 "metadata": {
  "kernelspec": {
   "display_name": "Python 3",
   "language": "python",
   "name": "python3"
  },
  "language_info": {
   "codemirror_mode": {
    "name": "ipython",
    "version": 3
   },
   "file_extension": ".py",
   "mimetype": "text/x-python",
   "name": "python",
   "nbconvert_exporter": "python",
   "pygments_lexer": "ipython3",
   "version": "3.6.1"
  },
  "toc": {
   "base_numbering": 1,
   "nav_menu": {},
   "number_sections": true,
   "sideBar": true,
   "skip_h1_title": false,
   "title_cell": "Table of Contents",
   "title_sidebar": "Contents",
   "toc_cell": false,
   "toc_position": {},
   "toc_section_display": true,
   "toc_window_display": false
  }
 },
 "nbformat": 4,
 "nbformat_minor": 2
}
